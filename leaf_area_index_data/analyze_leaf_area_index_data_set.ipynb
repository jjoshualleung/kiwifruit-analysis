{
 "cells": [
  {
   "cell_type": "markdown",
   "metadata": {
    "application/vnd.databricks.v1+cell": {
     "cellMetadata": {
      "byteLimit": 2048000,
      "rowLimit": 10000
     },
     "inputWidgets": {},
     "nuid": "2a83bd26-5d12-49fe-b005-ccfd4fa9bd32",
     "showTitle": false,
     "title": ""
    }
   },
   "source": [
    "# Analyze leaf area index data set"
   ]
  },
  {
   "cell_type": "markdown",
   "metadata": {
    "application/vnd.databricks.v1+cell": {
     "cellMetadata": {
      "byteLimit": 2048000,
      "rowLimit": 10000
     },
     "inputWidgets": {},
     "nuid": "c6dcd7e2-bb99-48c3-af5b-0ad6990f95e7",
     "showTitle": false,
     "title": ""
    }
   },
   "source": [
    "## Method\n",
    "\n",
    "1. Load leaf area index data set\n",
    "2. Check data set schema\n",
    "3. Compute statistical distribution for data set metrics"
   ]
  },
  {
   "cell_type": "markdown",
   "metadata": {
    "application/vnd.databricks.v1+cell": {
     "cellMetadata": {
      "byteLimit": 2048000,
      "rowLimit": 10000
     },
     "inputWidgets": {},
     "nuid": "2f5561a6-4e36-4397-8f75-e527ffb31e90",
     "showTitle": false,
     "title": ""
    }
   },
   "source": [
    "## Preamble"
   ]
  },
  {
   "cell_type": "code",
   "execution_count": 0,
   "metadata": {
    "application/vnd.databricks.v1+cell": {
     "cellMetadata": {
      "byteLimit": 2048000,
      "rowLimit": 10000
     },
     "inputWidgets": {},
     "nuid": "d93572a8-97ef-44e6-88df-28b79ae43be4",
     "showTitle": false,
     "title": ""
    }
   },
   "outputs": [],
   "source": [
    "import os\n",
    "import mlflow\n",
    "import pandas as pd\n",
    "import seaborn as sns\n",
    "import matplotlib.pyplot as plt\n",
    "from pyspark.sql.functions import col\n",
    "from pyspark.sql import functions as F"
   ]
  },
  {
   "cell_type": "code",
   "execution_count": 0,
   "metadata": {
    "application/vnd.databricks.v1+cell": {
     "cellMetadata": {
      "byteLimit": 2048000,
      "rowLimit": 10000
     },
     "inputWidgets": {},
     "nuid": "dfc5e084-108c-4616-8e63-c6b25d853ffe",
     "showTitle": false,
     "title": ""
    }
   },
   "outputs": [],
   "source": [
    "experiment_name = \"/Lab_Project_FruitDropZGS/mlflow_experiment/analyze_leaf_area_index_data_set_experiment\"\n",
    "mlflow.set_experiment(experiment_name)"
   ]
  },
  {
   "cell_type": "code",
   "execution_count": 0,
   "metadata": {
    "application/vnd.databricks.v1+cell": {
     "cellMetadata": {
      "byteLimit": 2048000,
      "rowLimit": 10000
     },
     "inputWidgets": {},
     "nuid": "4ff37fb1-e83d-4e8e-8ae6-9b8a87db3f30",
     "showTitle": false,
     "title": ""
    }
   },
   "outputs": [],
   "source": [
    "run_mlflow = mlflow.start_run()\n",
    "\n",
    "local_tmp_artifact_dir_path = f\"/Workspace/Lab_Project_FruitDropZGS/notebook_artifacts/tmp/{run_mlflow.info.run_id}/artifacts/\"\n",
    "if not os.path.exists(local_tmp_artifact_dir_path):\n",
    "    os.makedirs(local_tmp_artifact_dir_path)\n",
    "      \n",
    "local_tmp_artifact_dir_path"
   ]
  },
  {
   "cell_type": "markdown",
   "metadata": {
    "application/vnd.databricks.v1+cell": {
     "cellMetadata": {
      "byteLimit": 2048000,
      "rowLimit": 10000
     },
     "inputWidgets": {},
     "nuid": "1545abb7-239d-485c-a1b5-2e78a0636806",
     "showTitle": false,
     "title": ""
    }
   },
   "source": [
    "## Configure parameters"
   ]
  },
  {
   "cell_type": "code",
   "execution_count": 0,
   "metadata": {
    "application/vnd.databricks.v1+cell": {
     "cellMetadata": {
      "byteLimit": 2048000,
      "rowLimit": 10000
     },
     "inputWidgets": {},
     "nuid": "4f73cd75-339e-482e-8792-7b2e03c0bfd4",
     "showTitle": false,
     "title": ""
    }
   },
   "outputs": [],
   "source": [
    "from leaf_area_index_params import *\n",
    "\n",
    "params = params_all_orchards\n",
    "# params = params_select_KPIN\n",
    "\n",
    "mlflow.log_params(params)\n",
    "\n",
    "params"
   ]
  },
  {
   "cell_type": "code",
   "execution_count": 0,
   "metadata": {
    "application/vnd.databricks.v1+cell": {
     "cellMetadata": {
      "byteLimit": 2048000,
      "rowLimit": 10000
     },
     "inputWidgets": {},
     "nuid": "0c77de46-8c45-4e4d-8ceb-bed50a4ab361",
     "showTitle": false,
     "title": ""
    }
   },
   "outputs": [],
   "source": [
    "if params[\"KPIN\"]:\n",
    "  kpin_condition = col(\"KPIN\").isin(params[\"KPIN\"])\n",
    "  mlflow.log_params({\"KPIN\": params[\"KPIN\"]})\n",
    "else:\n",
    "  kpin_condition = col(\"KPIN\").isNotNull() | col(\"KPIN\").isNull()"
   ]
  },
  {
   "cell_type": "markdown",
   "metadata": {
    "application/vnd.databricks.v1+cell": {
     "cellMetadata": {
      "byteLimit": 2048000,
      "rowLimit": 10000
     },
     "inputWidgets": {},
     "nuid": "2f8831e8-844a-4a3c-a910-1da9842c8f09",
     "showTitle": false,
     "title": ""
    }
   },
   "source": [
    "## Load data"
   ]
  },
  {
   "cell_type": "markdown",
   "metadata": {
    "application/vnd.databricks.v1+cell": {
     "cellMetadata": {
      "byteLimit": 2048000,
      "rowLimit": 10000
     },
     "inputWidgets": {},
     "nuid": "90b2a406-82e1-409e-a509-a790c1e21322",
     "showTitle": false,
     "title": ""
    }
   },
   "source": [
    "### Load leaf area index schema"
   ]
  },
  {
   "cell_type": "code",
   "execution_count": 0,
   "metadata": {
    "application/vnd.databricks.v1+cell": {
     "cellMetadata": {
      "byteLimit": 2048000,
      "rowLimit": 10000
     },
     "inputWidgets": {},
     "nuid": "22783883-9a75-4074-ab22-947900df1ba1",
     "showTitle": false,
     "title": ""
    }
   },
   "outputs": [],
   "source": [
    "from leaf_area_index_schema import leaf_area_index_schema\n",
    "\n",
    "leaf_area_index_schema"
   ]
  },
  {
   "cell_type": "code",
   "execution_count": 0,
   "metadata": {
    "application/vnd.databricks.v1+cell": {
     "cellMetadata": {
      "byteLimit": 2048000,
      "rowLimit": 10000
     },
     "inputWidgets": {},
     "nuid": "8b65efad-0754-48fc-8515-18ddb7ab68db",
     "showTitle": false,
     "title": ""
    }
   },
   "outputs": [],
   "source": [
    "initial_sdf = spark.table(params[\"table_name\"])\n",
    "    \n",
    "lai_data_sdf = initial_sdf.filter(kpin_condition).cache()\n",
    "\n",
    "lai_data_count_sdf = lai_data_sdf.count()\n",
    "mlflow.log_metric(\"lai_data_count\",lai_data_count_sdf)\n",
    "\n",
    "lai_data_sdf.printSchema()"
   ]
  },
  {
   "cell_type": "code",
   "execution_count": 0,
   "metadata": {
    "application/vnd.databricks.v1+cell": {
     "cellMetadata": {
      "byteLimit": 2048000,
      "rowLimit": 10000
     },
     "inputWidgets": {},
     "nuid": "dbf3a428-288b-47d8-858a-aaf097601f27",
     "showTitle": false,
     "title": ""
    }
   },
   "outputs": [],
   "source": [
    "lai_data_sdf.show()\n",
    "lai_data_count_sdf"
   ]
  },
  {
   "cell_type": "code",
   "execution_count": 0,
   "metadata": {
    "application/vnd.databricks.v1+cell": {
     "cellMetadata": {
      "byteLimit": 2048000,
      "rowLimit": 10000
     },
     "inputWidgets": {},
     "nuid": "025b7c3e-6e5e-46d7-90c7-bf1e3f53149c",
     "showTitle": false,
     "title": ""
    }
   },
   "outputs": [],
   "source": [
    "assert leaf_area_index_schema == lai_data_sdf.schema"
   ]
  },
  {
   "cell_type": "markdown",
   "metadata": {
    "application/vnd.databricks.v1+cell": {
     "cellMetadata": {
      "byteLimit": 2048000,
      "rowLimit": 10000
     },
     "inputWidgets": {},
     "nuid": "e3e28947-9ca0-4f60-9ed4-71d074624840",
     "showTitle": false,
     "title": ""
    }
   },
   "source": [
    "## Compute statistical distribution for dimensions"
   ]
  },
  {
   "cell_type": "code",
   "execution_count": 0,
   "metadata": {
    "application/vnd.databricks.v1+cell": {
     "cellMetadata": {
      "byteLimit": 2048000,
      "rowLimit": 10000
     },
     "inputWidgets": {},
     "nuid": "cd48cdff-34f5-4333-8e7d-c39d320e13bb",
     "showTitle": false,
     "title": ""
    }
   },
   "outputs": [],
   "source": [
    "lai_data_dimension_summary_sdf = lai_data_sdf.select(\n",
    "  \"Grower\",\n",
    "  \"KPIN\",\n",
    "  \"MaturityArea\",\n",
    "  \"Bay\",\n",
    ").summary(\"count\", \"min\", \"25%\", \"50%\", \"75%\", \"max\")\n",
    "\n",
    "lai_data_dimension_summary_pdf = lai_data_dimension_summary_sdf.toPandas()\n",
    "lai_data_dimension_summary_pdf"
   ]
  },
  {
   "cell_type": "code",
   "execution_count": 0,
   "metadata": {
    "application/vnd.databricks.v1+cell": {
     "cellMetadata": {
      "byteLimit": 2048000,
      "rowLimit": 10000
     },
     "inputWidgets": {},
     "nuid": "a6dc9098-fb04-4ab8-a3b7-5f5b8c4275bd",
     "showTitle": false,
     "title": ""
    }
   },
   "outputs": [],
   "source": [
    "lai_data_dimension_summary_pdf.reset_index().to_csv(local_tmp_artifact_dir_path + 'lai_data_dimension_summary.csv', index=False)"
   ]
  },
  {
   "cell_type": "markdown",
   "metadata": {
    "application/vnd.databricks.v1+cell": {
     "cellMetadata": {
      "byteLimit": 2048000,
      "rowLimit": 10000
     },
     "inputWidgets": {},
     "nuid": "fc0dfa56-457f-42fa-a00a-3d27d96d4bf8",
     "showTitle": false,
     "title": ""
    }
   },
   "source": [
    "## Compute statistical distribution for metrics"
   ]
  },
  {
   "cell_type": "code",
   "execution_count": 0,
   "metadata": {
    "application/vnd.databricks.v1+cell": {
     "cellMetadata": {
      "byteLimit": 2048000,
      "rowLimit": 10000
     },
     "inputWidgets": {},
     "nuid": "595ab4bd-dc62-4733-a988-3cb0d2f04d9c",
     "showTitle": false,
     "title": ""
    }
   },
   "outputs": [],
   "source": [
    "lai_data_metrics_sdf = lai_data_sdf.drop(\n",
    "  \"Grower\",\n",
    "  \"KPIN\",\n",
    "  \"MaturityArea\",\n",
    "  \"Bay\",\n",
    "  \"Units\"\n",
    ").summary()\n",
    "\n",
    "lai_data_metrics_pdf = lai_data_metrics_sdf.toPandas()\n",
    "lai_data_metrics_pdf"
   ]
  },
  {
   "cell_type": "code",
   "execution_count": 0,
   "metadata": {
    "application/vnd.databricks.v1+cell": {
     "cellMetadata": {
      "byteLimit": 2048000,
      "rowLimit": 10000
     },
     "inputWidgets": {},
     "nuid": "8c433426-e64c-4fcd-b09d-0ee02bfd85f4",
     "showTitle": false,
     "title": ""
    }
   },
   "outputs": [],
   "source": [
    "lai_data_metrics_pdf.reset_index().to_csv(local_tmp_artifact_dir_path + 'lai_data_metrics_summary.csv', index=False)"
   ]
  },
  {
   "cell_type": "markdown",
   "metadata": {
    "application/vnd.databricks.v1+cell": {
     "cellMetadata": {
      "byteLimit": 2048000,
      "rowLimit": 10000
     },
     "inputWidgets": {},
     "nuid": "a9e3878d-4fec-43ee-8e0c-d8efc7caca12",
     "showTitle": false,
     "title": ""
    }
   },
   "source": [
    "## Distribution of date by KPIN and maturity area"
   ]
  },
  {
   "cell_type": "code",
   "execution_count": 0,
   "metadata": {
    "application/vnd.databricks.v1+cell": {
     "cellMetadata": {
      "byteLimit": 2048000,
      "rowLimit": 10000
     },
     "inputWidgets": {},
     "nuid": "ddb4cf1e-ffce-4c87-8a63-651a3c5ca695",
     "showTitle": false,
     "title": ""
    }
   },
   "outputs": [],
   "source": [
    "lai_data_kpin_maturity_area_date_sdf = lai_data_sdf.groupBy(\n",
    "  \"KPIN\",\n",
    "  \"MaturityArea\",\n",
    "  \"Date\",\n",
    ").count().withColumnRenamed(\"count\", \"count_date\").orderBy(\"KPIN\", \"MaturityArea\", \"Date\")\n",
    "\n",
    "lai_data_kpin_maturity_area_date_sdf.printSchema()\n",
    "lai_data_kpin_maturity_area_date_sdf.show()\n",
    "lai_data_kpin_maturity_area_date_sdf.count()"
   ]
  },
  {
   "cell_type": "code",
   "execution_count": 0,
   "metadata": {
    "application/vnd.databricks.v1+cell": {
     "cellMetadata": {
      "byteLimit": 2048000,
      "rowLimit": 10000
     },
     "inputWidgets": {},
     "nuid": "135ff877-e39a-4cfa-81f0-5410026ae199",
     "showTitle": false,
     "title": ""
    }
   },
   "outputs": [],
   "source": [
    "lai_data_kpin_maturity_area_date_summary_sdf = lai_data_kpin_maturity_area_date_sdf.select(\"count_date\").summary()\n",
    "lai_data_kpin_maturity_area_date_summary_sdf.show()"
   ]
  },
  {
   "cell_type": "code",
   "execution_count": 0,
   "metadata": {
    "application/vnd.databricks.v1+cell": {
     "cellMetadata": {
      "byteLimit": 2048000,
      "rowLimit": 10000
     },
     "inputWidgets": {},
     "nuid": "8bde5538-1ddb-42d1-b429-cc93b716ef41",
     "showTitle": false,
     "title": ""
    }
   },
   "outputs": [],
   "source": [
    "lai_data_kpin_maturity_area_date_summary_pdf = lai_data_kpin_maturity_area_date_summary_sdf.toPandas()\n",
    "lai_data_kpin_maturity_area_date_summary_pdf.to_csv(local_tmp_artifact_dir_path + 'lai_data_kpin_maturity_area_date_summary.csv', index=False)"
   ]
  },
  {
   "cell_type": "markdown",
   "metadata": {
    "application/vnd.databricks.v1+cell": {
     "cellMetadata": {
      "byteLimit": 2048000,
      "rowLimit": 10000
     },
     "inputWidgets": {},
     "nuid": "77aee36a-2900-4f34-b004-77be54c75cde",
     "showTitle": false,
     "title": ""
    }
   },
   "source": [
    "### Count of distinct date by KPIN and maturity area"
   ]
  },
  {
   "cell_type": "code",
   "execution_count": 0,
   "metadata": {
    "application/vnd.databricks.v1+cell": {
     "cellMetadata": {
      "byteLimit": 2048000,
      "rowLimit": 10000
     },
     "inputWidgets": {},
     "nuid": "cad5ce32-3623-4bea-ab79-1eb014a4f5f4",
     "showTitle": false,
     "title": ""
    }
   },
   "outputs": [],
   "source": [
    "lai_data_kpin_maturity_area_distinct_date_sdf = lai_data_kpin_maturity_area_date_sdf.groupBy(\n",
    "  \"KPIN\",\n",
    "  \"MaturityArea\"\n",
    ").count().withColumnRenamed(\"count\", \"count_distinct_date\").orderBy(\"count_distinct_date\", ascending=False)\n",
    "\n",
    "lai_data_kpin_maturity_area_distinct_date_pdf = lai_data_kpin_maturity_area_distinct_date_sdf.toPandas()\n",
    "\n",
    "lai_data_kpin_maturity_area_distinct_date_pdf"
   ]
  },
  {
   "cell_type": "code",
   "execution_count": 0,
   "metadata": {
    "application/vnd.databricks.v1+cell": {
     "cellMetadata": {
      "byteLimit": 2048000,
      "rowLimit": 10000
     },
     "inputWidgets": {},
     "nuid": "4f0c54a2-0271-4582-b618-32397f0ec588",
     "showTitle": false,
     "title": ""
    }
   },
   "outputs": [],
   "source": [
    "lai_data_kpin_maturity_area_distinct_date_pdf.to_csv(local_tmp_artifact_dir_path + 'lai_data_kpin_maturity_area_distinct_date.csv', index=False)"
   ]
  },
  {
   "cell_type": "markdown",
   "metadata": {
    "application/vnd.databricks.v1+cell": {
     "cellMetadata": {
      "byteLimit": 2048000,
      "rowLimit": 10000
     },
     "inputWidgets": {},
     "nuid": "8dca9fd6-3ffd-47e5-939c-87e67b926a22",
     "showTitle": false,
     "title": ""
    }
   },
   "source": [
    "## Distribution of average leaf area index across date by KPIN, maturity area and bay"
   ]
  },
  {
   "cell_type": "code",
   "execution_count": 0,
   "metadata": {
    "application/vnd.databricks.v1+cell": {
     "cellMetadata": {
      "byteLimit": 2048000,
      "rowLimit": 10000
     },
     "inputWidgets": {},
     "nuid": "460bd167-0b7b-4338-a34d-b9beffbd51db",
     "showTitle": false,
     "title": ""
    }
   },
   "outputs": [],
   "source": [
    "lai_data_across_date_sdf = lai_data_sdf.groupBy(\n",
    "  \"Date\",\n",
    "  \"KPIN\",\n",
    "  \"MaturityArea\",\n",
    "  \"Bay\",\n",
    ").agg(\n",
    "  F.max(\"LAIaverage\").alias(\"LAIaverage\")\n",
    ").orderBy(\"KPIN\", ascending= True)\n",
    "\n",
    "lai_data_across_date_sdf.printSchema()\n",
    "lai_data_across_date_sdf.show()\n",
    "lai_data_across_date_sdf.count()"
   ]
  },
  {
   "cell_type": "markdown",
   "metadata": {
    "application/vnd.databricks.v1+cell": {
     "cellMetadata": {
      "byteLimit": 2048000,
      "rowLimit": 10000
     },
     "inputWidgets": {},
     "nuid": "242758d7-4e56-45bf-8cad-c9eae1afc238",
     "showTitle": false,
     "title": ""
    }
   },
   "source": [
    "### Result: Distribution of average leaf area index across date by KPIN, maturity area and bay"
   ]
  },
  {
   "cell_type": "code",
   "execution_count": 0,
   "metadata": {
    "application/vnd.databricks.v1+cell": {
     "cellMetadata": {
      "byteLimit": 2048000,
      "rowLimit": 10000
     },
     "inputWidgets": {},
     "nuid": "8c7a6e9b-4a25-4c33-a6ba-d25d53c8ae7f",
     "showTitle": false,
     "title": ""
    }
   },
   "outputs": [],
   "source": [
    "lai_data_across_date_pdf = lai_data_across_date_sdf.toPandas()\n",
    "\n",
    "lai_data_across_date_pdf[\"KPIN_maturity_area_bay\"] = lai_data_across_date_pdf[\"KPIN\"].astype(str) + \"_\" + lai_data_across_date_pdf[\"MaturityArea\"].astype(str) + \"_\" + lai_data_across_date_pdf[\"Bay\"].astype(str)\n",
    "\n",
    "lai_data_across_date_pdf = lai_data_across_date_pdf.sort_values(by=\"KPIN_maturity_area_bay\", ascending=False)\n",
    "\n",
    "fig, ax = plt.subplots(figsize=(18,26))\n",
    "\n",
    "sns.boxplot(x=\"LAIaverage\", y=\"KPIN_maturity_area_bay\", data=lai_data_across_date_pdf, orient=\"h\", ax=ax)\n",
    "\n",
    "ax.set_title(f\"Distribution of LAIaverage across date by KPIN, maturity area and bay\")\n",
    "\n",
    "ax.grid(True)\n",
    "\n",
    "fig.savefig(local_tmp_artifact_dir_path + f\"distribution_LAIaverage_across_date_by_kpin_maturity_area_bay.png\")\n",
    "plt.show()"
   ]
  },
  {
   "cell_type": "markdown",
   "metadata": {
    "application/vnd.databricks.v1+cell": {
     "cellMetadata": {
      "byteLimit": 2048000,
      "rowLimit": 10000
     },
     "inputWidgets": {},
     "nuid": "f4de6ee0-7002-42cb-8782-9a9e5534211f",
     "showTitle": false,
     "title": ""
    }
   },
   "source": [
    "## Wrap up"
   ]
  },
  {
   "cell_type": "code",
   "execution_count": 0,
   "metadata": {
    "application/vnd.databricks.v1+cell": {
     "cellMetadata": {
      "byteLimit": 2048000,
      "rowLimit": 10000
     },
     "inputWidgets": {},
     "nuid": "c0675770-6523-4a12-9186-c02106a46101",
     "showTitle": false,
     "title": ""
    }
   },
   "outputs": [],
   "source": [
    "mlflow.log_artifacts(local_tmp_artifact_dir_path)"
   ]
  },
  {
   "cell_type": "code",
   "execution_count": 0,
   "metadata": {
    "application/vnd.databricks.v1+cell": {
     "cellMetadata": {
      "byteLimit": 2048000,
      "rowLimit": 10000
     },
     "inputWidgets": {},
     "nuid": "4daeae9f-026b-4024-8dc5-44b0056c8dc2",
     "showTitle": false,
     "title": ""
    }
   },
   "outputs": [],
   "source": [
    "# Remove tmp directory file\n",
    "tmp_dir = os.path.dirname(os.path.dirname(local_tmp_artifact_dir_path))\n",
    "dbutils.fs.rm(\"file:\" + tmp_dir, recurse=True)"
   ]
  },
  {
   "cell_type": "code",
   "execution_count": 0,
   "metadata": {
    "application/vnd.databricks.v1+cell": {
     "cellMetadata": {
      "byteLimit": 2048000,
      "rowLimit": 10000
     },
     "inputWidgets": {},
     "nuid": "b8ef1e50-5df4-4c95-80f2-243e4836e887",
     "showTitle": false,
     "title": ""
    }
   },
   "outputs": [],
   "source": [
    "# End MLflow run\n",
    "mlflow.end_run() "
   ]
  }
 ],
 "metadata": {
  "application/vnd.databricks.v1+notebook": {
   "dashboards": [],
   "language": "python",
   "notebookMetadata": {
    "pythonIndentUnit": 2
   },
   "notebookName": "analyze_leaf_area_index_data_set",
   "widgets": {}
  }
 },
 "nbformat": 4,
 "nbformat_minor": 0
}
