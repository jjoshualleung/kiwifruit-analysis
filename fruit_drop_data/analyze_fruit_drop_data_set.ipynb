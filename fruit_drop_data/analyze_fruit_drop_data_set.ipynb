{
 "cells": [
  {
   "cell_type": "markdown",
   "metadata": {
    "application/vnd.databricks.v1+cell": {
     "cellMetadata": {},
     "inputWidgets": {},
     "nuid": "6316fbee-a674-4073-b8d8-5f5007d107a9",
     "showTitle": false,
     "title": ""
    }
   },
   "source": [
    "# Analyze fruit drop data set"
   ]
  },
  {
   "cell_type": "markdown",
   "metadata": {
    "application/vnd.databricks.v1+cell": {
     "cellMetadata": {},
     "inputWidgets": {},
     "nuid": "ec95735c-90c7-4a5a-bc60-d198dd03418f",
     "showTitle": false,
     "title": ""
    }
   },
   "source": [
    "## Objectives\n",
    "\n",
    "- Compute statistical distribution for dimensions and metrics\n",
    "- Analyze the variance among bays in each maturity area in terms of fruit with conditions\n",
    "- Explore distribution of fruit with conditions across combinations of bay and assessment date"
   ]
  },
  {
   "cell_type": "markdown",
   "metadata": {
    "application/vnd.databricks.v1+cell": {
     "cellMetadata": {},
     "inputWidgets": {},
     "nuid": "de7a076c-d57d-47d8-9ad9-619c2f34adcb",
     "showTitle": false,
     "title": ""
    }
   },
   "source": [
    "## Preamble"
   ]
  },
  {
   "cell_type": "code",
   "execution_count": 0,
   "metadata": {
    "application/vnd.databricks.v1+cell": {
     "cellMetadata": {
      "byteLimit": 2048000,
      "rowLimit": 10000
     },
     "inputWidgets": {},
     "nuid": "ebd21d23-51a2-40a3-a58c-f4847e0a9901",
     "showTitle": false,
     "title": ""
    }
   },
   "outputs": [],
   "source": [
    "import os\n",
    "import mlflow\n",
    "import pandas as pd\n",
    "import seaborn as sns\n",
    "import matplotlib.pyplot as plt\n",
    "from pyspark.sql import functions as F\n",
    "from pyspark.sql.functions import col, count, when, month"
   ]
  },
  {
   "cell_type": "code",
   "execution_count": 0,
   "metadata": {
    "application/vnd.databricks.v1+cell": {
     "cellMetadata": {
      "byteLimit": 2048000,
      "rowLimit": 10000
     },
     "inputWidgets": {},
     "nuid": "fe54371a-16b9-487e-a32f-50effa9c1f11",
     "showTitle": false,
     "title": ""
    }
   },
   "outputs": [],
   "source": [
    "experiment_name = \"/Lab_Project_FruitDropZGS/mlflow_experiment/analyze_fruit_drop_data_set_experiment\"\n",
    "mlflow.set_experiment(experiment_name)"
   ]
  },
  {
   "cell_type": "code",
   "execution_count": 0,
   "metadata": {
    "application/vnd.databricks.v1+cell": {
     "cellMetadata": {
      "byteLimit": 2048000,
      "rowLimit": 10000
     },
     "inputWidgets": {},
     "nuid": "00d57ca9-3d16-4991-96c5-474b4f2a4d9c",
     "showTitle": false,
     "title": ""
    }
   },
   "outputs": [],
   "source": [
    "run_mlflow = mlflow.start_run()\n",
    "\n",
    "local_tmp_artifact_dir_path = \"/Workspace/Lab_Project_FruitDropZGS/notebook_artifacts/tmp/\" + run_mlflow.info.run_id + \"/artifacts/\"\n",
    "\n",
    "if not os.path.exists(local_tmp_artifact_dir_path):\n",
    "  os.makedirs(local_tmp_artifact_dir_path)\n",
    "  \n",
    "local_tmp_artifact_dir_path"
   ]
  },
  {
   "cell_type": "markdown",
   "metadata": {
    "application/vnd.databricks.v1+cell": {
     "cellMetadata": {},
     "inputWidgets": {},
     "nuid": "f3cde066-b0de-43d5-bbea-30ca69ed0e15",
     "showTitle": false,
     "title": ""
    }
   },
   "source": [
    "## Configure parameters"
   ]
  },
  {
   "cell_type": "code",
   "execution_count": 0,
   "metadata": {
    "application/vnd.databricks.v1+cell": {
     "cellMetadata": {
      "byteLimit": 2048000,
      "rowLimit": 10000
     },
     "inputWidgets": {},
     "nuid": "a61cd055-7713-45c6-a063-69704890ea03",
     "showTitle": false,
     "title": ""
    }
   },
   "outputs": [],
   "source": [
    "from fruit_drop_params_all_orchards import params_all_orchards\n",
    "from fruit_drop_params_select_kpin import params_select_kpin\n",
    "\n",
    "params = params_all_orchards\n",
    "# params = params_select_kpin\n",
    "\n",
    "mlflow.log_params(params)\n",
    "\n",
    "params"
   ]
  },
  {
   "cell_type": "code",
   "execution_count": 0,
   "metadata": {
    "application/vnd.databricks.v1+cell": {
     "cellMetadata": {
      "byteLimit": 2048000,
      "rowLimit": 10000
     },
     "inputWidgets": {},
     "nuid": "8ae0287c-223c-41b6-9fd7-45d95c7f4174",
     "showTitle": false,
     "title": ""
    }
   },
   "outputs": [],
   "source": [
    "if params[\"KPIN\"]:\n",
    "  kpin_condition = col(\"KPIN\").isin(params[\"KPIN\"])\n",
    "  mlflow.log_params({\"KPIN\": params[\"KPIN\"]})\n",
    "else:\n",
    "  kpin_condition = col(\"KPIN\").isNotNull() | col(\"KPIN\").isNull()"
   ]
  },
  {
   "cell_type": "markdown",
   "metadata": {
    "application/vnd.databricks.v1+cell": {
     "cellMetadata": {},
     "inputWidgets": {},
     "nuid": "ca91a9f7-b520-4dd4-a3f4-8b2cd1b8091c",
     "showTitle": false,
     "title": ""
    }
   },
   "source": [
    "## Load data"
   ]
  },
  {
   "cell_type": "code",
   "execution_count": 0,
   "metadata": {
    "application/vnd.databricks.v1+cell": {
     "cellMetadata": {
      "byteLimit": 2048000,
      "rowLimit": 10000
     },
     "inputWidgets": {},
     "nuid": "586ed9b0-e2be-4212-b869-d8e78d962f05",
     "showTitle": false,
     "title": ""
    }
   },
   "outputs": [],
   "source": [
    "from fruit_drop_expected_schema import fruit_drop_expected_schema\n",
    "\n",
    "fruit_drop_expected_schema"
   ]
  },
  {
   "cell_type": "code",
   "execution_count": 0,
   "metadata": {
    "application/vnd.databricks.v1+cell": {
     "cellMetadata": {
      "byteLimit": 2048000,
      "rowLimit": 10000
     },
     "inputWidgets": {},
     "nuid": "8f237a70-fcf7-4f8a-b3c7-c8312b3ff8be",
     "showTitle": false,
     "title": ""
    }
   },
   "outputs": [],
   "source": [
    "initial_sdf = spark.table(params[\"table_name\"])\n",
    "\n",
    "fruit_drop_sdf = initial_sdf.filter(kpin_condition).cache()\n",
    "\n",
    "fruit_drop_count_sdf = fruit_drop_sdf.count()\n",
    "mlflow.log_metric(\"fruit_drop_count\",fruit_drop_count_sdf)\n",
    "\n",
    "fruit_drop_sdf.printSchema()\n",
    "fruit_drop_sdf.show()\n",
    "fruit_drop_count_sdf"
   ]
  },
  {
   "cell_type": "code",
   "execution_count": 0,
   "metadata": {
    "application/vnd.databricks.v1+cell": {
     "cellMetadata": {
      "byteLimit": 2048000,
      "rowLimit": 10000
     },
     "inputWidgets": {},
     "nuid": "7aadd170-7256-41db-b558-e5dfc568bcb4",
     "showTitle": false,
     "title": ""
    }
   },
   "outputs": [],
   "source": [
    "assert fruit_drop_expected_schema == initial_sdf.schema"
   ]
  },
  {
   "cell_type": "markdown",
   "metadata": {
    "application/vnd.databricks.v1+cell": {
     "cellMetadata": {},
     "inputWidgets": {},
     "nuid": "b47e2c2e-6e4a-47fb-96b3-5b8ac8080f7d",
     "showTitle": false,
     "title": ""
    }
   },
   "source": [
    "## Compute statistical distribution for dimensions "
   ]
  },
  {
   "cell_type": "code",
   "execution_count": 0,
   "metadata": {
    "application/vnd.databricks.v1+cell": {
     "cellMetadata": {
      "byteLimit": 2048000,
      "rowLimit": 10000
     },
     "inputWidgets": {},
     "nuid": "a9fece0d-65f6-4abd-9481-64337f4db68f",
     "showTitle": false,
     "title": ""
    }
   },
   "outputs": [],
   "source": [
    "dimensions_summary_sdf  = fruit_drop_sdf.select(\n",
    "  \"Grower\",\n",
    "  \"KPIN\",\n",
    "  \"Maturity Area\",\n",
    "  \"Bay\",\n",
    "  \"Cane number\",\n",
    "  \"cane position\"\n",
    ").summary()\n",
    "\n",
    "dimensions_summary_sdf.printSchema()\n",
    "dimensions_summary_sdf.show()"
   ]
  },
  {
   "cell_type": "markdown",
   "metadata": {
    "application/vnd.databricks.v1+cell": {
     "cellMetadata": {},
     "inputWidgets": {},
     "nuid": "35b3f702-1840-4f73-81dc-54267a5a0589",
     "showTitle": false,
     "title": ""
    }
   },
   "source": [
    "## Compute statistical distribution for metrics"
   ]
  },
  {
   "cell_type": "code",
   "execution_count": 0,
   "metadata": {
    "application/vnd.databricks.v1+cell": {
     "cellMetadata": {
      "byteLimit": 2048000,
      "rowLimit": 10000
     },
     "inputWidgets": {},
     "nuid": "293b93ef-31f1-4c78-a2a4-cf6adbaa58e7",
     "showTitle": false,
     "title": ""
    }
   },
   "outputs": [],
   "source": [
    "metrics_summary_sdf = fruit_drop_sdf.select(\n",
    "  \"shrinked fruit still attached on the cane\", \n",
    "  \"not dropped fruit with dry peduncle\",\n",
    "  \"dropped fruit with dry peduncle\", \n",
    "  \"dropped fruit with healthy peduncle\"\n",
    ").summary()\n",
    "\n",
    "metrics_summary_sdf.printSchema()\n",
    "metrics_summary_sdf.show()"
   ]
  },
  {
   "cell_type": "code",
   "execution_count": 0,
   "metadata": {
    "application/vnd.databricks.v1+cell": {
     "cellMetadata": {
      "byteLimit": 2048000,
      "rowLimit": 10000
     },
     "inputWidgets": {},
     "nuid": "7de673c7-e748-4d88-be15-e7390bf65f07",
     "showTitle": false,
     "title": ""
    }
   },
   "outputs": [],
   "source": [
    "metrics_summary_pdf = metrics_summary_sdf.toPandas()\n",
    "metrics_summary_pdf.to_csv(local_tmp_artifact_dir_path + 'numerical_values_summary.csv',index=False)"
   ]
  },
  {
   "cell_type": "markdown",
   "metadata": {
    "application/vnd.databricks.v1+cell": {
     "cellMetadata": {},
     "inputWidgets": {},
     "nuid": "2c9b9457-f1e5-4d0c-a169-69bce4a7ed50",
     "showTitle": false,
     "title": ""
    }
   },
   "source": [
    "## The variance among bays in each maturity area in terms of the fruit with conditions"
   ]
  },
  {
   "cell_type": "code",
   "execution_count": 0,
   "metadata": {
    "application/vnd.databricks.v1+cell": {
     "cellMetadata": {
      "byteLimit": 2048000,
      "rowLimit": 10000
     },
     "inputWidgets": {},
     "nuid": "bf642207-a9b4-45e8-a6aa-89fdf5a3f7c6",
     "showTitle": false,
     "title": ""
    }
   },
   "outputs": [],
   "source": [
    "total_count_by_fruit_condition_sdf = fruit_drop_sdf.groupBy([\"Grower\",\"KPIN\",\"Maturity Area\",\"bay\",\"assessment date\"]).agg(\n",
    "    F.sum(\"shrinked fruit still attached on the cane\").alias(\"total_shrinked_fruit_on_cane\"),\n",
    "    F.sum(\"not dropped fruit with dry peduncle\").alias(\"total_not_dropped_dry_peduncle\"),\n",
    "    F.sum(\"dropped fruit with dry peduncle\").alias(\"total_dropped_dry_peduncle\"),\n",
    "    F.sum(\"dropped fruit with healthy peduncle\").alias(\"total_dropped_healthy_peduncle\")\n",
    ")\n",
    "\n",
    "total_count_by_fruit_condition_sdf.show()\n",
    "total_count_by_fruit_condition_sdf.count()"
   ]
  },
  {
   "cell_type": "code",
   "execution_count": 0,
   "metadata": {
    "application/vnd.databricks.v1+cell": {
     "cellMetadata": {
      "byteLimit": 2048000,
      "rowLimit": 10000
     },
     "inputWidgets": {},
     "nuid": "c8f5c903-1f2d-47c0-84a5-b0513236d424",
     "showTitle": false,
     "title": ""
    }
   },
   "outputs": [],
   "source": [
    "total_count_by_fruit_condition_pdf = total_count_by_fruit_condition_sdf.toPandas()\n",
    "total_count_by_fruit_condition_pdf.to_csv(local_tmp_artifact_dir_path + 'total_count_by_fruit_condition.csv', index=False)"
   ]
  },
  {
   "cell_type": "markdown",
   "metadata": {
    "application/vnd.databricks.v1+cell": {
     "cellMetadata": {},
     "inputWidgets": {},
     "nuid": "e136d1b6-411d-4a50-a356-37a7b3e3073b",
     "showTitle": false,
     "title": ""
    }
   },
   "source": [
    "### Distribution of fruit with conditions across combinations of bay and assessment date by kpin and maturity area"
   ]
  },
  {
   "cell_type": "code",
   "execution_count": 0,
   "metadata": {
    "application/vnd.databricks.v1+cell": {
     "cellMetadata": {
      "byteLimit": 2048000,
      "rowLimit": 10000
     },
     "inputWidgets": {},
     "nuid": "cece4df0-d1c5-4099-9680-ceb2781d3f69",
     "showTitle": false,
     "title": ""
    }
   },
   "outputs": [],
   "source": [
    "total_count_by_fruit_condition_pdf['KPIN_Maturity_Area'] = total_count_by_fruit_condition_pdf['KPIN'].astype(str) + '_' + total_count_by_fruit_condition_pdf['Maturity Area']\n",
    "\n",
    "features = total_count_by_fruit_condition_pdf.iloc[:,-5:-1]\n",
    "\n",
    "for feature in features:\n",
    "    fig, ax = plt.subplots(figsize=(16, 22))\n",
    "    sns.boxplot(x=feature, y=\"KPIN_Maturity_Area\", data=total_count_by_fruit_condition_pdf, orient=\"h\", ax=ax)\n",
    "    ax.set_title(f\"Distribution of {feature} across combinations of bay and assessment date by kpin and maturity area\")\n",
    "    ax.grid()\n",
    "    plt.show()\n",
    "    fig.savefig(local_tmp_artifact_dir_path + f\"boxplot_for_distribution_of_{feature}.png\")"
   ]
  },
  {
   "cell_type": "markdown",
   "metadata": {
    "application/vnd.databricks.v1+cell": {
     "cellMetadata": {},
     "inputWidgets": {},
     "nuid": "36482879-6336-49dc-a00b-635d8843842b",
     "showTitle": false,
     "title": ""
    }
   },
   "source": [
    "## Wrap up"
   ]
  },
  {
   "cell_type": "code",
   "execution_count": 0,
   "metadata": {
    "application/vnd.databricks.v1+cell": {
     "cellMetadata": {
      "byteLimit": 2048000,
      "rowLimit": 10000
     },
     "inputWidgets": {},
     "nuid": "bebc3299-7593-460b-8f8c-d5bd06ab5787",
     "showTitle": false,
     "title": ""
    }
   },
   "outputs": [],
   "source": [
    "mlflow.log_artifacts(local_tmp_artifact_dir_path)"
   ]
  },
  {
   "cell_type": "code",
   "execution_count": 0,
   "metadata": {
    "application/vnd.databricks.v1+cell": {
     "cellMetadata": {
      "byteLimit": 2048000,
      "rowLimit": 10000
     },
     "inputWidgets": {},
     "nuid": "4a18853f-ac58-4ed0-be97-e9c3c7099c5f",
     "showTitle": false,
     "title": ""
    }
   },
   "outputs": [],
   "source": [
    "# Remove tmp directory file\n",
    "tmp_dir = os.path.dirname(os.path.dirname(local_tmp_artifact_dir_path))\n",
    "dbutils.fs.rm(\"file:\" + tmp_dir, recurse=True)"
   ]
  },
  {
   "cell_type": "code",
   "execution_count": 0,
   "metadata": {
    "application/vnd.databricks.v1+cell": {
     "cellMetadata": {
      "byteLimit": 2048000,
      "rowLimit": 10000
     },
     "inputWidgets": {},
     "nuid": "87443041-affe-476e-bbed-60d6b0a27688",
     "showTitle": false,
     "title": ""
    }
   },
   "outputs": [],
   "source": [
    "# End MLflow run\n",
    "mlflow.end_run()"
   ]
  }
 ],
 "metadata": {
  "application/vnd.databricks.v1+notebook": {
   "dashboards": [],
   "language": "python",
   "notebookMetadata": {
    "mostRecentlyExecutedCommandWithImplicitDF": {
     "commandId": 972937699047037,
     "dataframes": [
      "_sqldf"
     ]
    },
    "pythonIndentUnit": 2
   },
   "notebookName": "analyze_fruit_drop_data_set",
   "widgets": {}
  }
 },
 "nbformat": 4,
 "nbformat_minor": 0
}
