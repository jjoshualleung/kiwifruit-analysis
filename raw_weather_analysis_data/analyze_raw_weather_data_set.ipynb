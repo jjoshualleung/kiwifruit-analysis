{
 "cells": [
  {
   "cell_type": "markdown",
   "metadata": {
    "application/vnd.databricks.v1+cell": {
     "cellMetadata": {
      "byteLimit": 2048000,
      "rowLimit": 10000
     },
     "inputWidgets": {},
     "nuid": "90caf10f-6e9d-4a3a-9e5c-7b0159c5e819",
     "showTitle": false,
     "title": ""
    }
   },
   "source": [
    "# Analyze raw weather data set"
   ]
  },
  {
   "cell_type": "markdown",
   "metadata": {
    "application/vnd.databricks.v1+cell": {
     "cellMetadata": {
      "byteLimit": 2048000,
      "rowLimit": 10000
     },
     "inputWidgets": {},
     "nuid": "30297d2d-9e51-4f1b-af6c-0ba29c7b0535",
     "showTitle": false,
     "title": ""
    }
   },
   "source": [
    "## Objectives \n",
    "1. Load raw data set\n",
    "2. Check data set schema\n",
    "3. Compute statistical distribution for data set features"
   ]
  },
  {
   "cell_type": "markdown",
   "metadata": {
    "application/vnd.databricks.v1+cell": {
     "cellMetadata": {
      "byteLimit": 2048000,
      "rowLimit": 10000
     },
     "inputWidgets": {},
     "nuid": "9a61ec74-4c7e-4ad6-be52-f41973f3f687",
     "showTitle": false,
     "title": ""
    }
   },
   "source": [
    "## Preamble"
   ]
  },
  {
   "cell_type": "code",
   "execution_count": 0,
   "metadata": {
    "application/vnd.databricks.v1+cell": {
     "cellMetadata": {
      "byteLimit": 2048000,
      "rowLimit": 10000
     },
     "inputWidgets": {},
     "nuid": "71786f64-0698-4fae-82c3-941e22022231",
     "showTitle": false,
     "title": ""
    }
   },
   "outputs": [],
   "source": [
    "import os\n",
    "import mlflow\n",
    "import pandas as pd\n",
    "import seaborn as sns\n",
    "import matplotlib.pyplot as plt\n",
    "from pyspark.sql import functions as F\n",
    "from pyspark.sql.functions import col, count, when\n",
    "sns.set_theme(style=\"darkgrid\")"
   ]
  },
  {
   "cell_type": "code",
   "execution_count": 0,
   "metadata": {
    "application/vnd.databricks.v1+cell": {
     "cellMetadata": {
      "byteLimit": 2048000,
      "rowLimit": 10000
     },
     "inputWidgets": {},
     "nuid": "758a80a1-0519-42e9-a927-fdf52cbc4ff2",
     "showTitle": false,
     "title": ""
    }
   },
   "outputs": [],
   "source": [
    "experiment_name = \"/Lab_Project_FruitDropZGS/mlflow_experiment/analyze_raw_weather_data_set_experiment\"\n",
    "mlflow.set_experiment(experiment_name)"
   ]
  },
  {
   "cell_type": "code",
   "execution_count": 0,
   "metadata": {
    "application/vnd.databricks.v1+cell": {
     "cellMetadata": {
      "byteLimit": 2048000,
      "rowLimit": 10000
     },
     "inputWidgets": {},
     "nuid": "043e2b4b-0a6d-4bba-82f3-28eef4415e02",
     "showTitle": false,
     "title": ""
    }
   },
   "outputs": [],
   "source": [
    "run_mlflow = mlflow.start_run()\n",
    "\n",
    "local_tmp_artifact_dir_path = \"/Workspace/Lab_Project_FruitDropZGS/notebook_artifacts/tmp/\" + run_mlflow.info.run_id + \"/artifacts/\"\n",
    "\n",
    "if not os.path.exists(local_tmp_artifact_dir_path):\n",
    "  os.makedirs(local_tmp_artifact_dir_path)\n",
    "  \n",
    "local_tmp_artifact_dir_path"
   ]
  },
  {
   "cell_type": "markdown",
   "metadata": {
    "application/vnd.databricks.v1+cell": {
     "cellMetadata": {
      "byteLimit": 2048000,
      "rowLimit": 10000
     },
     "inputWidgets": {},
     "nuid": "f24f3b2f-8b02-4720-92e3-ca356b7f7049",
     "showTitle": false,
     "title": ""
    }
   },
   "source": [
    "## Configure parameters"
   ]
  },
  {
   "cell_type": "code",
   "execution_count": 0,
   "metadata": {
    "application/vnd.databricks.v1+cell": {
     "cellMetadata": {
      "byteLimit": 2048000,
      "rowLimit": 10000
     },
     "inputWidgets": {},
     "nuid": "d568216a-382e-4ccf-9923-f94d293cc309",
     "showTitle": false,
     "title": ""
    }
   },
   "outputs": [],
   "source": [
    "from raw_weather_data_sets import *\n",
    "\n",
    "table_name = \"metaponto_san_marco\"\n",
    "\n",
    "param = raw_weather_2024_data_sets[table_name]\n",
    "\n",
    "mlflow.log_param(\"table_name\", param)\n",
    "\n",
    "param"
   ]
  },
  {
   "cell_type": "markdown",
   "metadata": {
    "application/vnd.databricks.v1+cell": {
     "cellMetadata": {
      "byteLimit": 2048000,
      "rowLimit": 10000
     },
     "inputWidgets": {},
     "nuid": "540b6004-969c-4ca1-bc6a-764ae94420cc",
     "showTitle": false,
     "title": ""
    }
   },
   "source": [
    "## Load data"
   ]
  },
  {
   "cell_type": "code",
   "execution_count": 0,
   "metadata": {
    "application/vnd.databricks.v1+cell": {
     "cellMetadata": {
      "byteLimit": 2048000,
      "rowLimit": 10000
     },
     "inputWidgets": {},
     "nuid": "055a2445-ba78-45de-bafe-c16d79adf543",
     "showTitle": false,
     "title": ""
    }
   },
   "outputs": [],
   "source": [
    "from raw_weather_data_expected_schema import expected_schema\n",
    "\n",
    "expected_schema"
   ]
  },
  {
   "cell_type": "code",
   "execution_count": 0,
   "metadata": {
    "application/vnd.databricks.v1+cell": {
     "cellMetadata": {
      "byteLimit": 2048000,
      "rowLimit": 10000
     },
     "inputWidgets": {},
     "nuid": "8cb76689-8d0e-4ca5-8578-ca60473e8d34",
     "showTitle": false,
     "title": ""
    }
   },
   "outputs": [],
   "source": [
    "initial_weather_sdf = spark.table(param)\n",
    "\n",
    "initial_weather_dataset = mlflow.data.from_spark(initial_weather_sdf, name=f\"initial_{table_name}\")\n",
    "mlflow.log_input(initial_weather_dataset)\n",
    "\n",
    "initial_weather_count_sdf = initial_weather_sdf.count()\n",
    "mlflow.log_metric(\"initial_weather_count\",initial_weather_count_sdf)\n",
    "\n",
    "initial_weather_sdf.printSchema()\n",
    "initial_weather_sdf.show()\n",
    "initial_weather_count_sdf"
   ]
  },
  {
   "cell_type": "code",
   "execution_count": 0,
   "metadata": {
    "application/vnd.databricks.v1+cell": {
     "cellMetadata": {
      "byteLimit": 2048000,
      "rowLimit": 10000
     },
     "inputWidgets": {},
     "nuid": "60c997d4-782c-4ced-92ea-21c0e7bd7dd9",
     "showTitle": false,
     "title": ""
    }
   },
   "outputs": [],
   "source": [
    "from preprocess_raw_weather_data import *\n",
    "\n",
    "weather_sdf = preprocess(initial_weather_sdf)\n",
    "\n",
    "revised_weather_dataset = mlflow.data.from_spark(weather_sdf, name=f\"revised_{table_name}\")\n",
    "mlflow.log_input(revised_weather_dataset)\n",
    "\n",
    "weather_count_sdf = weather_sdf.count()\n",
    "mlflow.log_metric(\"revised_weather_count\", weather_count_sdf)\n",
    "\n",
    "weather_sdf.printSchema()\n",
    "weather_sdf.show()\n",
    "weather_count_sdf"
   ]
  },
  {
   "cell_type": "code",
   "execution_count": 0,
   "metadata": {
    "application/vnd.databricks.v1+cell": {
     "cellMetadata": {
      "byteLimit": 2048000,
      "rowLimit": 10000
     },
     "inputWidgets": {},
     "nuid": "43c4b851-800b-4bea-95ee-bf4354e361ca",
     "showTitle": false,
     "title": ""
    }
   },
   "outputs": [],
   "source": [
    "assert expected_schema == weather_sdf.schema"
   ]
  },
  {
   "cell_type": "markdown",
   "metadata": {
    "application/vnd.databricks.v1+cell": {
     "cellMetadata": {
      "byteLimit": 2048000,
      "rowLimit": 10000
     },
     "inputWidgets": {},
     "nuid": "4c79b784-2814-4c96-95e2-be7420bf6ed8",
     "showTitle": false,
     "title": ""
    }
   },
   "source": [
    "## Compute statistical distribution"
   ]
  },
  {
   "cell_type": "code",
   "execution_count": 0,
   "metadata": {
    "application/vnd.databricks.v1+cell": {
     "cellMetadata": {
      "byteLimit": 2048000,
      "rowLimit": 10000
     },
     "inputWidgets": {},
     "nuid": "8dcdfc77-95a3-457a-b324-90ff470949b3",
     "showTitle": false,
     "title": ""
    }
   },
   "outputs": [],
   "source": [
    "weather_summary_sdf = weather_sdf.summary()\n",
    "weather_summary_sdf.show()"
   ]
  },
  {
   "cell_type": "code",
   "execution_count": 0,
   "metadata": {
    "application/vnd.databricks.v1+cell": {
     "cellMetadata": {
      "byteLimit": 2048000,
      "rowLimit": 10000
     },
     "inputWidgets": {},
     "nuid": "11719111-d3df-46ab-bc4c-5decc1cb2354",
     "showTitle": false,
     "title": ""
    }
   },
   "outputs": [],
   "source": [
    "weather_summary_pdf = weather_summary_sdf.toPandas()\n",
    "weather_summary_pdf.to_csv(local_tmp_artifact_dir_path + 'weather_summary.csv', index=False)"
   ]
  },
  {
   "cell_type": "markdown",
   "metadata": {
    "application/vnd.databricks.v1+cell": {
     "cellMetadata": {
      "byteLimit": 2048000,
      "rowLimit": 10000
     },
     "inputWidgets": {},
     "nuid": "36cc2e83-5763-467f-91b2-0d96d7ff48a6",
     "showTitle": false,
     "title": ""
    }
   },
   "source": [
    "## Count of duplicate records by datetime"
   ]
  },
  {
   "cell_type": "code",
   "execution_count": 0,
   "metadata": {
    "application/vnd.databricks.v1+cell": {
     "cellMetadata": {
      "byteLimit": 2048000,
      "rowLimit": 10000
     },
     "inputWidgets": {},
     "nuid": "9700c4e9-8e84-4de1-8090-242d5c6622ac",
     "showTitle": false,
     "title": ""
    }
   },
   "outputs": [],
   "source": [
    "count_by_datetime_sdf = weather_sdf.groupBy(\"datetime\").count().filter(col(\"count\") > 1)\n",
    "\n",
    "count_by_datetime_sdf.show()\n",
    "count_by_datetime_sdf.count()"
   ]
  },
  {
   "cell_type": "code",
   "execution_count": 0,
   "metadata": {
    "application/vnd.databricks.v1+cell": {
     "cellMetadata": {
      "byteLimit": 2048000,
      "rowLimit": 10000
     },
     "inputWidgets": {},
     "nuid": "182081a4-7ae3-44af-b91f-a836ef74a35d",
     "showTitle": false,
     "title": ""
    }
   },
   "outputs": [],
   "source": [
    "duplicate_records_count_by_datetime_sdf = count_by_datetime_sdf.groupBy(\"datetime\").agg(F.sum(\"count\").alias(\"count_duplicates\"))\n",
    "\n",
    "duplicate_records_count_by_datetime_sdf.show()\n",
    "duplicate_records_count_by_datetime_sdf.count()"
   ]
  },
  {
   "cell_type": "markdown",
   "metadata": {
    "application/vnd.databricks.v1+cell": {
     "cellMetadata": {
      "byteLimit": 2048000,
      "rowLimit": 10000
     },
     "inputWidgets": {},
     "nuid": "090678e4-27dd-4811-811a-74bf46b8ec93",
     "showTitle": false,
     "title": ""
    }
   },
   "source": [
    "## Count of unique records"
   ]
  },
  {
   "cell_type": "code",
   "execution_count": 0,
   "metadata": {
    "application/vnd.databricks.v1+cell": {
     "cellMetadata": {
      "byteLimit": 2048000,
      "rowLimit": 10000
     },
     "inputWidgets": {},
     "nuid": "0fe9f0fb-cf00-46d8-9112-4ed7253a9ce3",
     "showTitle": false,
     "title": ""
    }
   },
   "outputs": [],
   "source": [
    "unique_weather_sdf = weather_sdf.dropDuplicates(['datetime'])\n",
    "\n",
    "unique_weather_count_sdf = unique_weather_sdf.count()\n",
    "mlflow.log_metric(\"unique_weather_count\", unique_weather_count_sdf)\n",
    "\n",
    "unique_weather_sdf.printSchema()\n",
    "unique_weather_sdf.show()\n",
    "unique_weather_count_sdf"
   ]
  },
  {
   "cell_type": "code",
   "execution_count": 0,
   "metadata": {
    "application/vnd.databricks.v1+cell": {
     "cellMetadata": {
      "byteLimit": 2048000,
      "rowLimit": 10000
     },
     "inputWidgets": {},
     "nuid": "857423c1-3eb5-4eb5-9ce6-bc92077f51a1",
     "showTitle": false,
     "title": ""
    }
   },
   "outputs": [],
   "source": [
    "weather_sdf = unique_weather_sdf"
   ]
  },
  {
   "cell_type": "markdown",
   "metadata": {
    "application/vnd.databricks.v1+cell": {
     "cellMetadata": {
      "byteLimit": 2048000,
      "rowLimit": 10000
     },
     "inputWidgets": {},
     "nuid": "236bfa7f-4932-4a5e-9bd3-9fee3c18897e",
     "showTitle": false,
     "title": ""
    }
   },
   "source": [
    "## Compute timestamp distribution of average temperature"
   ]
  },
  {
   "cell_type": "code",
   "execution_count": 0,
   "metadata": {
    "application/vnd.databricks.v1+cell": {
     "cellMetadata": {
      "byteLimit": 2048000,
      "rowLimit": 10000
     },
     "inputWidgets": {},
     "nuid": "f3de1d0c-6009-437d-83ff-bd2769a21e2f",
     "showTitle": false,
     "title": ""
    }
   },
   "outputs": [],
   "source": [
    "weather_avg_temperature_sdf = weather_sdf.select(\"datetime\", \"avg_temperature_C\")\n",
    "\n",
    "weather_avg_temperature_sdf.printSchema()\n",
    "weather_avg_temperature_sdf.show()\n",
    "weather_avg_temperature_sdf.count()"
   ]
  },
  {
   "cell_type": "code",
   "execution_count": 0,
   "metadata": {
    "application/vnd.databricks.v1+cell": {
     "cellMetadata": {
      "byteLimit": 2048000,
      "rowLimit": 10000
     },
     "inputWidgets": {},
     "nuid": "837c0e2b-ab7a-4034-a96b-07770762f644",
     "showTitle": false,
     "title": ""
    }
   },
   "outputs": [],
   "source": [
    "weather_avg_temperature_pdf = weather_avg_temperature_sdf.toPandas()\n",
    "reasmple_weather_avg_temperature_pdf = weather_avg_temperature_pdf.set_index(\"datetime\").resample(\"D\").mean()\n",
    "reasmple_weather_avg_temperature_pdf"
   ]
  },
  {
   "cell_type": "code",
   "execution_count": 0,
   "metadata": {
    "application/vnd.databricks.v1+cell": {
     "cellMetadata": {
      "byteLimit": 2048000,
      "rowLimit": 10000
     },
     "inputWidgets": {},
     "nuid": "5fbac648-b77c-429a-8a15-52affba12de6",
     "showTitle": false,
     "title": ""
    }
   },
   "outputs": [],
   "source": [
    "fig, ax = plt.subplots(figsize=(28, 18))\n",
    "sns.lineplot(data=reasmple_weather_avg_temperature_pdf, x=\"datetime\", y=\"avg_temperature_C\", ax=ax)\n",
    "ax.set_title(f\"Distribution of average temperature in {table_name}\")\n",
    "ax.grid(True)\n",
    "plt.show()\n",
    "fig.savefig(local_tmp_artifact_dir_path + f\"distribution_of_avg_weather_temperature.png\")"
   ]
  },
  {
   "cell_type": "markdown",
   "metadata": {
    "application/vnd.databricks.v1+cell": {
     "cellMetadata": {
      "byteLimit": 2048000,
      "rowLimit": 10000
     },
     "inputWidgets": {},
     "nuid": "06467d23-fe82-4aa8-b9e5-72713525c4d2",
     "showTitle": false,
     "title": ""
    }
   },
   "source": [
    "## Wrap up"
   ]
  },
  {
   "cell_type": "code",
   "execution_count": 0,
   "metadata": {
    "application/vnd.databricks.v1+cell": {
     "cellMetadata": {
      "byteLimit": 2048000,
      "rowLimit": 10000
     },
     "inputWidgets": {},
     "nuid": "efef6604-8ce6-4ee9-9263-8625587bcd64",
     "showTitle": false,
     "title": ""
    }
   },
   "outputs": [],
   "source": [
    "mlflow.log_artifacts(local_tmp_artifact_dir_path)"
   ]
  },
  {
   "cell_type": "code",
   "execution_count": 0,
   "metadata": {
    "application/vnd.databricks.v1+cell": {
     "cellMetadata": {
      "byteLimit": 2048000,
      "rowLimit": 10000
     },
     "inputWidgets": {},
     "nuid": "e55a8d93-37e6-428f-9794-c7e8819afc78",
     "showTitle": false,
     "title": ""
    }
   },
   "outputs": [],
   "source": [
    "# Remove tmp directory file\n",
    "tmp_dir = os.path.dirname(os.path.dirname(local_tmp_artifact_dir_path))\n",
    "dbutils.fs.rm(\"file:\" + tmp_dir, recurse=True)"
   ]
  },
  {
   "cell_type": "code",
   "execution_count": 0,
   "metadata": {
    "application/vnd.databricks.v1+cell": {
     "cellMetadata": {
      "byteLimit": 2048000,
      "rowLimit": 10000
     },
     "inputWidgets": {},
     "nuid": "26f7b0c7-bea9-405b-8acf-62dba69371c4",
     "showTitle": false,
     "title": ""
    }
   },
   "outputs": [],
   "source": [
    "# End MLflow run\n",
    "mlflow.end_run()"
   ]
  }
 ],
 "metadata": {
  "application/vnd.databricks.v1+notebook": {
   "dashboards": [],
   "language": "python",
   "notebookMetadata": {
    "pythonIndentUnit": 2
   },
   "notebookName": "analyze_raw_weather_data_set",
   "widgets": {}
  }
 },
 "nbformat": 4,
 "nbformat_minor": 0
}
