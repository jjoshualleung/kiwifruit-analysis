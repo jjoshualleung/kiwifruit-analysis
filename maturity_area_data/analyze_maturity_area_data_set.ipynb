{
 "cells": [
  {
   "cell_type": "markdown",
   "metadata": {
    "application/vnd.databricks.v1+cell": {
     "cellMetadata": {
      "byteLimit": 2048000,
      "rowLimit": 10000
     },
     "inputWidgets": {},
     "nuid": "14e1c31b-47cb-41ef-aa1c-9359365efdbf",
     "showTitle": false,
     "title": ""
    }
   },
   "source": [
    "# Analyze maturity area data set"
   ]
  },
  {
   "cell_type": "markdown",
   "metadata": {
    "application/vnd.databricks.v1+cell": {
     "cellMetadata": {
      "byteLimit": 2048000,
      "rowLimit": 10000
     },
     "inputWidgets": {},
     "nuid": "8122270f-961c-42e5-9dda-d649fdc94a96",
     "showTitle": false,
     "title": ""
    }
   },
   "source": [
    "## Objectives\n",
    "1. Load maturity data sets\n",
    "2. Cross-reference tables by their primary keys\n",
    "3. Analyze the cross-referenced table\n"
   ]
  },
  {
   "cell_type": "markdown",
   "metadata": {
    "application/vnd.databricks.v1+cell": {
     "cellMetadata": {
      "byteLimit": 2048000,
      "rowLimit": 10000
     },
     "inputWidgets": {},
     "nuid": "eac06490-f430-48d3-83a4-f16b4e374bb9",
     "showTitle": false,
     "title": ""
    }
   },
   "source": [
    "## Preamble"
   ]
  },
  {
   "cell_type": "code",
   "execution_count": 0,
   "metadata": {
    "application/vnd.databricks.v1+cell": {
     "cellMetadata": {
      "byteLimit": 2048000,
      "rowLimit": 10000
     },
     "inputWidgets": {},
     "nuid": "d81d22eb-7f91-473f-bdd4-48e6615a739a",
     "showTitle": false,
     "title": ""
    }
   },
   "outputs": [],
   "source": [
    "import os\n",
    "import mlflow\n",
    "import pandas as pd"
   ]
  },
  {
   "cell_type": "code",
   "execution_count": 0,
   "metadata": {
    "application/vnd.databricks.v1+cell": {
     "cellMetadata": {
      "byteLimit": 2048000,
      "rowLimit": 10000
     },
     "inputWidgets": {},
     "nuid": "06c4965b-52c8-4261-9e2a-2bbd0609f5b2",
     "showTitle": false,
     "title": ""
    }
   },
   "outputs": [],
   "source": [
    "experiment_name = \"/Lab_Project_FruitDropZGS/mlflow_experiment/analyze_maturity_area_data_set_experiment\"\n",
    "mlflow.set_experiment(experiment_name)"
   ]
  },
  {
   "cell_type": "code",
   "execution_count": 0,
   "metadata": {
    "application/vnd.databricks.v1+cell": {
     "cellMetadata": {
      "byteLimit": 2048000,
      "rowLimit": 10000
     },
     "inputWidgets": {},
     "nuid": "119b6403-78c4-4671-a6ed-883ef7c0356a",
     "showTitle": false,
     "title": ""
    }
   },
   "outputs": [],
   "source": [
    "run_mlflow = mlflow.start_run()\n",
    "\n",
    "local_tmp_artifact_dir_path = \"/Workspace/Lab_Project_FruitDropZGS/notebook_artifacts/tmp/\" + run_mlflow.info.run_id + \"/artifacts/\"\n",
    "\n",
    "if not os.path.exists(local_tmp_artifact_dir_path):\n",
    "  os.makedirs(local_tmp_artifact_dir_path)\n",
    "  \n",
    "local_tmp_artifact_dir_path"
   ]
  },
  {
   "cell_type": "markdown",
   "metadata": {
    "application/vnd.databricks.v1+cell": {
     "cellMetadata": {
      "byteLimit": 2048000,
      "rowLimit": 10000
     },
     "inputWidgets": {},
     "nuid": "91be3721-c243-4494-ab1e-018956bbff54",
     "showTitle": false,
     "title": ""
    }
   },
   "source": [
    "## Configure parameters"
   ]
  },
  {
   "cell_type": "code",
   "execution_count": 0,
   "metadata": {
    "application/vnd.databricks.v1+cell": {
     "cellMetadata": {
      "byteLimit": 2048000,
      "rowLimit": 10000
     },
     "inputWidgets": {},
     "nuid": "2629e2b7-584c-4cbe-959e-37bc7a07201c",
     "showTitle": false,
     "title": ""
    }
   },
   "outputs": [],
   "source": [
    "from maturity_area_data_sets import maturity_area_data_sets\n",
    "\n",
    "params = maturity_area_data_sets\n",
    "\n",
    "mlflow.log_params(params)\n",
    "\n",
    "params"
   ]
  },
  {
   "cell_type": "markdown",
   "metadata": {
    "application/vnd.databricks.v1+cell": {
     "cellMetadata": {
      "byteLimit": 2048000,
      "rowLimit": 10000
     },
     "inputWidgets": {},
     "nuid": "3e90cb98-964a-4216-beea-b2ef7aafaa28",
     "showTitle": false,
     "title": ""
    }
   },
   "source": [
    "## Load data"
   ]
  },
  {
   "cell_type": "code",
   "execution_count": 0,
   "metadata": {
    "application/vnd.databricks.v1+cell": {
     "cellMetadata": {
      "byteLimit": 2048000,
      "rowLimit": 10000
     },
     "inputWidgets": {},
     "nuid": "13e894f4-7ff1-42ab-b2c5-d250a9b0f565",
     "showTitle": false,
     "title": ""
    }
   },
   "outputs": [],
   "source": [
    "from maturity_area_orchard_expected_schema import maturity_area_orchard_expected_schema\n",
    "\n",
    "maturity_area_orchard_expected_schema"
   ]
  },
  {
   "cell_type": "code",
   "execution_count": 0,
   "metadata": {
    "application/vnd.databricks.v1+cell": {
     "cellMetadata": {
      "byteLimit": 2048000,
      "rowLimit": 10000
     },
     "inputWidgets": {},
     "nuid": "0647664f-9165-45d1-903b-fd931c9e604b",
     "showTitle": false,
     "title": ""
    }
   },
   "outputs": [],
   "source": [
    "maturity_area_orchard_sdf = spark.table(params[\"maturity_area_orchard\"])\n",
    "\n",
    "maturity_area_orchard_count_sdf = maturity_area_orchard_sdf.count()\n",
    "mlflow.log_metric(\"maturity_area_orchard_count\", maturity_area_orchard_count_sdf)\n",
    "\n",
    "maturity_area_orchard_sdf.printSchema()\n",
    "maturity_area_orchard_sdf.show()\n",
    "maturity_area_orchard_count_sdf"
   ]
  },
  {
   "cell_type": "code",
   "execution_count": 0,
   "metadata": {
    "application/vnd.databricks.v1+cell": {
     "cellMetadata": {
      "byteLimit": 2048000,
      "rowLimit": 10000
     },
     "inputWidgets": {},
     "nuid": "89f79660-0226-47b0-b530-9fee0285ae48",
     "showTitle": false,
     "title": ""
    }
   },
   "outputs": [],
   "source": [
    "assert maturity_area_orchard_expected_schema == maturity_area_orchard_sdf.schema"
   ]
  },
  {
   "cell_type": "code",
   "execution_count": 0,
   "metadata": {
    "application/vnd.databricks.v1+cell": {
     "cellMetadata": {
      "byteLimit": 2048000,
      "rowLimit": 10000
     },
     "inputWidgets": {},
     "nuid": "8d6f7fc3-1c39-45e5-8718-f137f287e327",
     "showTitle": false,
     "title": ""
    }
   },
   "outputs": [],
   "source": [
    "from maturity_area_seasonal_expected_schema import maturity_area_seasonal_expected_schema\n",
    "\n",
    "maturity_area_seasonal_expected_schema"
   ]
  },
  {
   "cell_type": "code",
   "execution_count": 0,
   "metadata": {
    "application/vnd.databricks.v1+cell": {
     "cellMetadata": {
      "byteLimit": 2048000,
      "rowLimit": 10000
     },
     "inputWidgets": {},
     "nuid": "5d7baa89-c25d-420e-b96c-49be172fe8e4",
     "showTitle": false,
     "title": ""
    }
   },
   "outputs": [],
   "source": [
    "maturity_area_seasonal_sdf = spark.table(params[\"maturity_area_orchard_seasonal\"])\n",
    "\n",
    "maturity_area_seasonal_count_sdf = maturity_area_seasonal_sdf.count()\n",
    "mlflow.log_metric(\"maturity_area_seasonal_count\", maturity_area_seasonal_count_sdf)\n",
    "\n",
    "maturity_area_seasonal_sdf.printSchema()\n",
    "maturity_area_seasonal_sdf.show()\n",
    "maturity_area_seasonal_count_sdf"
   ]
  },
  {
   "cell_type": "code",
   "execution_count": 0,
   "metadata": {
    "application/vnd.databricks.v1+cell": {
     "cellMetadata": {
      "byteLimit": 2048000,
      "rowLimit": 10000
     },
     "inputWidgets": {},
     "nuid": "da698039-07f7-40ef-83df-4e513aaedd7d",
     "showTitle": false,
     "title": ""
    }
   },
   "outputs": [],
   "source": [
    "assert maturity_area_seasonal_expected_schema == maturity_area_seasonal_sdf.schema"
   ]
  },
  {
   "cell_type": "code",
   "execution_count": 0,
   "metadata": {
    "application/vnd.databricks.v1+cell": {
     "cellMetadata": {
      "byteLimit": 2048000,
      "rowLimit": 10000
     },
     "inputWidgets": {},
     "nuid": "4257f04c-cbcb-49ff-a007-9a782f344d4f",
     "showTitle": false,
     "title": ""
    }
   },
   "outputs": [],
   "source": [
    "from joint_maturity_area_expected_schema import joint_maturity_area_expected_schema\n",
    "\n",
    "joint_maturity_area_expected_schema"
   ]
  },
  {
   "cell_type": "code",
   "execution_count": 0,
   "metadata": {
    "application/vnd.databricks.v1+cell": {
     "cellMetadata": {
      "byteLimit": 2048000,
      "rowLimit": 10000
     },
     "inputWidgets": {},
     "nuid": "ca61c0d7-9726-400e-bfb5-76726ccfe610",
     "showTitle": false,
     "title": ""
    }
   },
   "outputs": [],
   "source": [
    "joined_maturity_area_sdf = maturity_area_orchard_sdf.join(maturity_area_seasonal_sdf, [\"Maturity_Area\", \"KPIN\"])\n",
    "\n",
    "joined_maturity_area_sdf.printSchema()\n",
    "joined_maturity_area_sdf.show()\n",
    "joined_maturity_area_sdf.count()"
   ]
  },
  {
   "cell_type": "code",
   "execution_count": 0,
   "metadata": {
    "application/vnd.databricks.v1+cell": {
     "cellMetadata": {
      "byteLimit": 2048000,
      "rowLimit": 10000
     },
     "inputWidgets": {},
     "nuid": "94a3052b-aa0f-4364-9d4f-c93fbe328423",
     "showTitle": false,
     "title": ""
    }
   },
   "outputs": [],
   "source": [
    "assert joint_maturity_area_expected_schema == joined_maturity_area_sdf.schema"
   ]
  },
  {
   "cell_type": "code",
   "execution_count": 0,
   "metadata": {
    "application/vnd.databricks.v1+cell": {
     "cellMetadata": {
      "byteLimit": 2048000,
      "rowLimit": 10000
     },
     "inputWidgets": {},
     "nuid": "bbeef402-c737-4039-b2a1-c9e8b84b86ba",
     "showTitle": false,
     "title": ""
    }
   },
   "outputs": [],
   "source": [
    "joined_maturity_area_summary_sdf = joined_maturity_area_sdf.summary()\n",
    "\n",
    "joined_maturity_area_summary_sdf.show()"
   ]
  },
  {
   "cell_type": "code",
   "execution_count": 0,
   "metadata": {
    "application/vnd.databricks.v1+cell": {
     "cellMetadata": {
      "byteLimit": 2048000,
      "rowLimit": 10000
     },
     "inputWidgets": {},
     "nuid": "59d6eda7-ce9d-4c53-a908-105d900f896f",
     "showTitle": false,
     "title": ""
    }
   },
   "outputs": [],
   "source": [
    "joined_maturity_area_summary_pdf = joined_maturity_area_summary_sdf.toPandas()\n",
    "joined_maturity_area_summary_pdf.to_csv(local_tmp_artifact_dir_path + \"joined_maturity_area_summary.csv\", index=False)"
   ]
  },
  {
   "cell_type": "markdown",
   "metadata": {
    "application/vnd.databricks.v1+cell": {
     "cellMetadata": {
      "byteLimit": 2048000,
      "rowLimit": 10000
     },
     "inputWidgets": {},
     "nuid": "bf560705-824d-4c42-b79d-987415bae60b",
     "showTitle": false,
     "title": ""
    }
   },
   "source": [
    "## Write joint maturity area data set to Databrick Catalog"
   ]
  },
  {
   "cell_type": "code",
   "execution_count": 0,
   "metadata": {
    "application/vnd.databricks.v1+cell": {
     "cellMetadata": {
      "byteLimit": 2048000,
      "rowLimit": 10000
     },
     "inputWidgets": {},
     "nuid": "dd60cb99-d38e-4d81-b172-fef2ea2624b3",
     "showTitle": false,
     "title": ""
    }
   },
   "outputs": [],
   "source": [
    "target_table_name = \"datalake_lab.lab_project_fruitdropzgs.joined_maturity_area_data_set\"\n",
    "target_table_sdf = spark.table(target_table_name)\n",
    "target_table_sdf.printSchema()\n",
    "target_table_sdf.show()"
   ]
  },
  {
   "cell_type": "code",
   "execution_count": 0,
   "metadata": {
    "application/vnd.databricks.v1+cell": {
     "cellMetadata": {
      "byteLimit": 2048000,
      "rowLimit": 10000
     },
     "inputWidgets": {},
     "nuid": "6ab90a67-2030-48b8-bdd9-dedad8831c09",
     "showTitle": false,
     "title": ""
    }
   },
   "outputs": [],
   "source": [
    "if target_table_sdf.exceptAll(joined_maturity_area_sdf).count() == 0 and joined_maturity_area_sdf.exceptAll(target_table_sdf).count() == 0:\n",
    "  print(\"The dataframes are equal.\")\n",
    "else:\n",
    "  joined_maturity_area_sdf.write.mode(\"overwrite\").saveAsTable(target_table_name)\n",
    "  print(\"The Datarames are not equal. Overwrite the new version of table\")"
   ]
  },
  {
   "cell_type": "code",
   "execution_count": 0,
   "metadata": {
    "application/vnd.databricks.v1+cell": {
     "cellMetadata": {
      "byteLimit": 2048000,
      "rowLimit": 10000
     },
     "inputWidgets": {},
     "nuid": "e2aaea0f-778e-4b92-b2e7-d7ccf613f6bb",
     "showTitle": false,
     "title": ""
    }
   },
   "outputs": [],
   "source": [
    "spark.sql(f\"\"\"DESCRIBE HISTORY {target_table_name}\"\"\").show()"
   ]
  },
  {
   "cell_type": "markdown",
   "metadata": {
    "application/vnd.databricks.v1+cell": {
     "cellMetadata": {
      "byteLimit": 2048000,
      "rowLimit": 10000
     },
     "inputWidgets": {},
     "nuid": "b8b3ca24-31df-49da-9b15-9c6a5627fca8",
     "showTitle": false,
     "title": ""
    }
   },
   "source": [
    "## Wrap up"
   ]
  },
  {
   "cell_type": "code",
   "execution_count": 0,
   "metadata": {
    "application/vnd.databricks.v1+cell": {
     "cellMetadata": {
      "byteLimit": 2048000,
      "rowLimit": 10000
     },
     "inputWidgets": {},
     "nuid": "b8d4631f-8e8e-4d4d-8964-a573467d711c",
     "showTitle": false,
     "title": ""
    }
   },
   "outputs": [],
   "source": [
    "mlflow.log_artifacts(local_tmp_artifact_dir_path)"
   ]
  },
  {
   "cell_type": "code",
   "execution_count": 0,
   "metadata": {
    "application/vnd.databricks.v1+cell": {
     "cellMetadata": {
      "byteLimit": 2048000,
      "rowLimit": 10000
     },
     "inputWidgets": {},
     "nuid": "7bc5c57d-e142-449e-ad97-ed895c2aed12",
     "showTitle": false,
     "title": ""
    }
   },
   "outputs": [],
   "source": [
    "# Remove tmp directory file\n",
    "tmp_dir = os.path.dirname(os.path.dirname(local_tmp_artifact_dir_path))\n",
    "dbutils.fs.rm(\"file:\" + tmp_dir, recurse=True)"
   ]
  },
  {
   "cell_type": "code",
   "execution_count": 0,
   "metadata": {
    "application/vnd.databricks.v1+cell": {
     "cellMetadata": {
      "byteLimit": 2048000,
      "rowLimit": 10000
     },
     "inputWidgets": {},
     "nuid": "4b349518-e11b-4505-ae0d-d9ea55329ca7",
     "showTitle": false,
     "title": ""
    }
   },
   "outputs": [],
   "source": [
    "# End MLflow run\n",
    "mlflow.end_run()"
   ]
  }
 ],
 "metadata": {
  "application/vnd.databricks.v1+notebook": {
   "dashboards": [],
   "language": "python",
   "notebookMetadata": {
    "pythonIndentUnit": 2
   },
   "notebookName": "analyze_maturity_area_data_set",
   "widgets": {}
  }
 },
 "nbformat": 4,
 "nbformat_minor": 0
}
