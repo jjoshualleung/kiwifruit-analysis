{
 "cells": [
  {
   "cell_type": "markdown",
   "metadata": {
    "application/vnd.databricks.v1+cell": {
     "cellMetadata": {
      "byteLimit": 2048000,
      "rowLimit": 10000
     },
     "inputWidgets": {},
     "nuid": "4e175033-0140-4bf1-bf8f-63476f8b5860",
     "showTitle": false,
     "title": ""
    }
   },
   "source": [
    "# Analyze fruit analysis data set"
   ]
  },
  {
   "cell_type": "markdown",
   "metadata": {
    "application/vnd.databricks.v1+cell": {
     "cellMetadata": {
      "byteLimit": 2048000,
      "rowLimit": 10000
     },
     "inputWidgets": {},
     "nuid": "3d886951-35bd-4a0f-8cb1-79176f14d210",
     "showTitle": false,
     "title": ""
    }
   },
   "source": [
    "## Method\n",
    "- Load fruit analysis data\n",
    "- Analyze the distribution for each field\n",
    "- Compute statistics for relevant fruit analysis\n",
    "- Plot charts for relevant statistics"
   ]
  },
  {
   "cell_type": "markdown",
   "metadata": {
    "application/vnd.databricks.v1+cell": {
     "cellMetadata": {
      "byteLimit": 2048000,
      "rowLimit": 10000
     },
     "inputWidgets": {},
     "nuid": "b430e55e-3762-4459-963f-8d0d4aa06543",
     "showTitle": false,
     "title": ""
    }
   },
   "source": [
    "## Preamble"
   ]
  },
  {
   "cell_type": "code",
   "execution_count": 0,
   "metadata": {
    "application/vnd.databricks.v1+cell": {
     "cellMetadata": {
      "byteLimit": 2048000,
      "rowLimit": 10000
     },
     "inputWidgets": {},
     "nuid": "efe0ba2f-60b9-4466-9244-ef95c5fcca82",
     "showTitle": false,
     "title": ""
    }
   },
   "outputs": [],
   "source": [
    "import os\n",
    "import pandas as pd\n",
    "import mlflow\n",
    "import matplotlib.pyplot as plt\n",
    "import seaborn as sns\n",
    "from pyspark.sql import SparkSession\n",
    "from pyspark.sql import functions as F\n",
    "from pyspark.sql.functions import col, count, when, lit"
   ]
  },
  {
   "cell_type": "code",
   "execution_count": 0,
   "metadata": {
    "application/vnd.databricks.v1+cell": {
     "cellMetadata": {
      "byteLimit": 2048000,
      "rowLimit": 10000
     },
     "inputWidgets": {},
     "nuid": "dd64e23e-e7f4-4318-9c53-ceced22bbc9b",
     "showTitle": false,
     "title": ""
    }
   },
   "outputs": [],
   "source": [
    "experiment_name = \"/Lab_Project_FruitDropZGS/mlflow_experiment/analyze_fruit_analysis_data_set_experiment\"\n",
    "mlflow.set_experiment(experiment_name)"
   ]
  },
  {
   "cell_type": "code",
   "execution_count": 0,
   "metadata": {
    "application/vnd.databricks.v1+cell": {
     "cellMetadata": {
      "byteLimit": 2048000,
      "rowLimit": 10000
     },
     "inputWidgets": {},
     "nuid": "77a2c44f-286a-4c05-a37e-e5a15d5ae7c9",
     "showTitle": false,
     "title": ""
    }
   },
   "outputs": [],
   "source": [
    "run_mlflow = mlflow.start_run()\n",
    "\n",
    "local_tmp_artifact_dir_path = f\"/Workspace/Lab_Project_FruitDropZGS/notebook_artifacts/tmp/{run_mlflow.info.run_id}/artifacts/\"\n",
    "if not os.path.exists(local_tmp_artifact_dir_path):\n",
    "    os.makedirs(local_tmp_artifact_dir_path)\n",
    "      \n",
    "local_tmp_artifact_dir_path"
   ]
  },
  {
   "cell_type": "markdown",
   "metadata": {
    "application/vnd.databricks.v1+cell": {
     "cellMetadata": {
      "byteLimit": 2048000,
      "rowLimit": 10000
     },
     "inputWidgets": {},
     "nuid": "6576ab25-1446-43d8-8877-2dfd9c502e39",
     "showTitle": false,
     "title": ""
    }
   },
   "source": [
    "## Configure parameters"
   ]
  },
  {
   "cell_type": "code",
   "execution_count": 0,
   "metadata": {
    "application/vnd.databricks.v1+cell": {
     "cellMetadata": {
      "byteLimit": 2048000,
      "rowLimit": 10000
     },
     "inputWidgets": {},
     "nuid": "f4fbf9fc-c336-4265-919c-6e0c0da7fadb",
     "showTitle": false,
     "title": ""
    }
   },
   "outputs": [],
   "source": [
    "from params_selected_grower_number import params_selected_grower_number\n",
    "from params_all_orchards import params_all_orchards\n",
    "\n",
    "params = params_all_orchards\n",
    "# params = params_selected_grower_number\n",
    "\n",
    "mlflow.log_params(params)\n",
    "\n",
    "params"
   ]
  },
  {
   "cell_type": "code",
   "execution_count": 0,
   "metadata": {
    "application/vnd.databricks.v1+cell": {
     "cellMetadata": {
      "byteLimit": 2048000,
      "rowLimit": 10000
     },
     "inputWidgets": {},
     "nuid": "2565eb0f-155d-4641-b0fa-4060af37837a",
     "showTitle": false,
     "title": ""
    }
   },
   "outputs": [],
   "source": [
    "if params[\"select_grower_number\"]:\n",
    "  filter_grower_number = col(\"Grower Number\").isin(params[\"select_grower_number\"])\n",
    "else:\n",
    "  filter_grower_number = col(\"Grower Number\").isNotNull() | col(\"Grower Number\").isNull()\n",
    "\n",
    "filter_conditions = filter_grower_number\n",
    "\n",
    "filter_conditions"
   ]
  },
  {
   "cell_type": "markdown",
   "metadata": {
    "application/vnd.databricks.v1+cell": {
     "cellMetadata": {
      "byteLimit": 2048000,
      "rowLimit": 10000
     },
     "inputWidgets": {},
     "nuid": "b7fef7b8-8539-4c9c-80fb-cfcede021996",
     "showTitle": false,
     "title": ""
    }
   },
   "source": [
    "## Load data"
   ]
  },
  {
   "cell_type": "code",
   "execution_count": 0,
   "metadata": {
    "application/vnd.databricks.v1+cell": {
     "cellMetadata": {
      "byteLimit": 2048000,
      "rowLimit": 10000
     },
     "inputWidgets": {},
     "nuid": "329611a4-67b1-4fb3-9626-d9be82539fe1",
     "showTitle": false,
     "title": ""
    }
   },
   "outputs": [],
   "source": [
    "from expected_schema import expected_schema\n",
    "\n",
    "expected_schema"
   ]
  },
  {
   "cell_type": "code",
   "execution_count": 0,
   "metadata": {
    "application/vnd.databricks.v1+cell": {
     "cellMetadata": {
      "byteLimit": 2048000,
      "rowLimit": 10000
     },
     "inputWidgets": {},
     "nuid": "a51943f3-b287-47b9-9bdd-02cb0fdfa149",
     "showTitle": false,
     "title": ""
    }
   },
   "outputs": [],
   "source": [
    "initial_sdf = spark.table(params[\"table_name\"])\n",
    "\n",
    "fruit_sdf = initial_sdf.filter(filter_conditions) \n",
    "\n",
    "fruit_sdf_count = fruit_sdf.count()\n",
    "mlflow.log_metric(\"fruit_sdf_count\", fruit_sdf_count)\n",
    "  \n",
    "fruit_sdf.printSchema()\n",
    "fruit_sdf.show()\n",
    "fruit_sdf_count"
   ]
  },
  {
   "cell_type": "code",
   "execution_count": 0,
   "metadata": {
    "application/vnd.databricks.v1+cell": {
     "cellMetadata": {
      "byteLimit": 2048000,
      "rowLimit": 10000
     },
     "inputWidgets": {},
     "nuid": "3d3a431d-0128-4b44-845b-9507b9babd08",
     "showTitle": false,
     "title": ""
    }
   },
   "outputs": [],
   "source": [
    "assert expected_schema == initial_sdf.schema"
   ]
  },
  {
   "cell_type": "markdown",
   "metadata": {
    "application/vnd.databricks.v1+cell": {
     "cellMetadata": {
      "byteLimit": 2048000,
      "rowLimit": 10000
     },
     "inputWidgets": {},
     "nuid": "914274e8-c40c-4a91-9f0e-44f3613a1bcb",
     "showTitle": false,
     "title": ""
    }
   },
   "source": [
    "## Distribution of collect date by grower number and maturity area"
   ]
  },
  {
   "cell_type": "code",
   "execution_count": 0,
   "metadata": {
    "application/vnd.databricks.v1+cell": {
     "cellMetadata": {
      "byteLimit": 2048000,
      "rowLimit": 10000
     },
     "inputWidgets": {},
     "nuid": "79ed96c2-8757-44a3-83ff-733d885b01c0",
     "showTitle": false,
     "title": ""
    }
   },
   "outputs": [],
   "source": [
    "fruit_grower_maturity_area_collect_date_sdf = fruit_sdf.groupBy(\n",
    "  \"Grower Number\",\n",
    "  \"Maturity Area Name\",\n",
    "  \"Collect Date\"\n",
    ").count()\n",
    "\n",
    "fruit_grower_maturity_area_collect_date_sdf.show()\n",
    "fruit_grower_maturity_area_collect_date_sdf.count()"
   ]
  },
  {
   "cell_type": "code",
   "execution_count": 0,
   "metadata": {
    "application/vnd.databricks.v1+cell": {
     "cellMetadata": {
      "byteLimit": 2048000,
      "rowLimit": 10000
     },
     "inputWidgets": {},
     "nuid": "fbe59154-91e8-40e6-a08c-b1efe2c88fda",
     "showTitle": false,
     "title": ""
    }
   },
   "outputs": [],
   "source": [
    "fruit_grower_maturity_area_collect_date_summary_sdf = fruit_grower_maturity_area_collect_date_sdf.select(\"count\").summary()\n",
    "fruit_grower_maturity_area_collect_date_summary_sdf.show()"
   ]
  },
  {
   "cell_type": "code",
   "execution_count": 0,
   "metadata": {
    "application/vnd.databricks.v1+cell": {
     "cellMetadata": {
      "byteLimit": 2048000,
      "rowLimit": 10000
     },
     "inputWidgets": {},
     "nuid": "e68591c1-9f86-4fa5-84de-8712951ecf72",
     "showTitle": false,
     "title": ""
    }
   },
   "outputs": [],
   "source": [
    "fruit_grower_maturity_area_collect_date_summary_pdf = fruit_grower_maturity_area_collect_date_summary_sdf.toPandas()\n",
    "fruit_grower_maturity_area_collect_date_summary_pdf.to_csv(local_tmp_artifact_dir_path + 'fruit_grower_maturity_area_collect_date_summary.csv', index=False)"
   ]
  },
  {
   "cell_type": "markdown",
   "metadata": {
    "application/vnd.databricks.v1+cell": {
     "cellMetadata": {
      "byteLimit": 2048000,
      "rowLimit": 10000
     },
     "inputWidgets": {},
     "nuid": "fc966bc9-7f5f-4706-b050-a646aecdec1f",
     "showTitle": false,
     "title": ""
    }
   },
   "source": [
    "### Count of distinct collect date by grower number and maturity area"
   ]
  },
  {
   "cell_type": "code",
   "execution_count": 0,
   "metadata": {
    "application/vnd.databricks.v1+cell": {
     "cellMetadata": {
      "byteLimit": 2048000,
      "rowLimit": 10000
     },
     "inputWidgets": {},
     "nuid": "4430fddf-4158-4571-af2f-222a188a4a5c",
     "showTitle": false,
     "title": ""
    }
   },
   "outputs": [],
   "source": [
    "fruit_distinct_collect_date_count_sdf = fruit_grower_maturity_area_collect_date_sdf.groupBy(\n",
    "  \"Grower Number\",\n",
    "  \"Maturity Area Name\"\n",
    ").count().withColumnRenamed(\"count\", \"count_distinct_collect_date\").orderBy(\"count_distinct_collect_date\", ascending=False)\n",
    "\n",
    "fruit_distinct_collect_date_count_pdf = fruit_distinct_collect_date_count_sdf.toPandas()\n",
    "\n",
    "fruit_distinct_collect_date_count_pdf"
   ]
  },
  {
   "cell_type": "code",
   "execution_count": 0,
   "metadata": {
    "application/vnd.databricks.v1+cell": {
     "cellMetadata": {
      "byteLimit": 2048000,
      "rowLimit": 10000
     },
     "inputWidgets": {},
     "nuid": "44428188-48d2-47d1-b360-381feebfc682",
     "showTitle": false,
     "title": ""
    }
   },
   "outputs": [],
   "source": [
    "fruit_distinct_collect_date_count_pdf.to_csv(local_tmp_artifact_dir_path + 'fruit_distinct_collect_date_count.csv', index=False)"
   ]
  },
  {
   "cell_type": "markdown",
   "metadata": {
    "application/vnd.databricks.v1+cell": {
     "cellMetadata": {
      "byteLimit": 2048000,
      "rowLimit": 10000
     },
     "inputWidgets": {},
     "nuid": "08e70c6f-2b5c-4ac3-b3b6-bc3a14dc368e",
     "showTitle": false,
     "title": ""
    }
   },
   "source": [
    "## Count record by grower number, orchard and special instructions "
   ]
  },
  {
   "cell_type": "code",
   "execution_count": 0,
   "metadata": {
    "application/vnd.databricks.v1+cell": {
     "cellMetadata": {
      "byteLimit": 2048000,
      "rowLimit": 10000
     },
     "inputWidgets": {},
     "nuid": "97a6603f-1bff-42ea-8f24-248205d3ccfa",
     "showTitle": false,
     "title": ""
    }
   },
   "outputs": [],
   "source": [
    "fruit_grower_number_orchard_specialIns_sdf = fruit_sdf.groupby([\n",
    "  \"Grower Number\",\n",
    "  \"Orchard Name\",\n",
    "  \"specialInstructions\"\n",
    "]).count().withColumnRenamed(\"count\", \"count_records\").orderBy(\"Grower Number\")\n",
    "\n",
    "fruit_grower_number_orchard_specialIns_sdf.show()\n",
    "fruit_grower_number_orchard_specialIns_sdf.count()"
   ]
  },
  {
   "cell_type": "markdown",
   "metadata": {
    "application/vnd.databricks.v1+cell": {
     "cellMetadata": {
      "byteLimit": 2048000,
      "rowLimit": 10000
     },
     "inputWidgets": {},
     "nuid": "4c02f0c8-aa9a-43b8-975c-f8402abf27e6",
     "showTitle": false,
     "title": ""
    }
   },
   "source": [
    "## Compute statistical distribution for relevant fruit analysis"
   ]
  },
  {
   "cell_type": "code",
   "execution_count": 0,
   "metadata": {
    "application/vnd.databricks.v1+cell": {
     "cellMetadata": {
      "byteLimit": 2048000,
      "rowLimit": 10000
     },
     "inputWidgets": {},
     "nuid": "80b20527-38c5-4477-a7f6-b6d34587a137",
     "showTitle": false,
     "title": ""
    }
   },
   "outputs": [],
   "source": [
    "fruit_relevant_analysis_sdf = fruit_sdf.select(\n",
    "  \"Dry Matter\",\n",
    "  \"Brix Equatorial\",\n",
    "  \"Fresh Weight\",\n",
    "  \"Hue\",\n",
    "  \"Pressure\",\n",
    ")\n",
    "\n",
    "fruit_relevant_analysis_sdf.printSchema()\n",
    "fruit_relevant_analysis_sdf.show()\n",
    "fruit_relevant_analysis_sdf.count()"
   ]
  },
  {
   "cell_type": "markdown",
   "metadata": {
    "application/vnd.databricks.v1+cell": {
     "cellMetadata": {
      "byteLimit": 2048000,
      "rowLimit": 10000
     },
     "inputWidgets": {},
     "nuid": "39371299-4db2-4441-9811-8bb48607d15f",
     "showTitle": false,
     "title": ""
    }
   },
   "source": [
    "### Result: statistical distribution for relevant fruit analysis"
   ]
  },
  {
   "cell_type": "code",
   "execution_count": 0,
   "metadata": {
    "application/vnd.databricks.v1+cell": {
     "cellMetadata": {
      "byteLimit": 2048000,
      "rowLimit": 10000
     },
     "inputWidgets": {},
     "nuid": "6707425d-87c2-41e7-86b6-f739125203bc",
     "showTitle": false,
     "title": ""
    }
   },
   "outputs": [],
   "source": [
    "fruit_relevant_analysis_summary_sdf = fruit_relevant_analysis_sdf.summary()\n",
    "fruit_relevant_analysis_summary_sdf.show()"
   ]
  },
  {
   "cell_type": "code",
   "execution_count": 0,
   "metadata": {
    "application/vnd.databricks.v1+cell": {
     "cellMetadata": {
      "byteLimit": 2048000,
      "rowLimit": 10000
     },
     "inputWidgets": {},
     "nuid": "5fdc8143-392b-4584-bf44-d14a8214f7d8",
     "showTitle": false,
     "title": ""
    }
   },
   "outputs": [],
   "source": [
    "fruit_relevant_analysis_summary_pdf = fruit_relevant_analysis_summary_sdf.toPandas()\n",
    "fruit_relevant_analysis_summary_pdf.to_csv(local_tmp_artifact_dir_path + 'fruit_relevant_analysis_statistics_summary.csv', index=False)"
   ]
  },
  {
   "cell_type": "markdown",
   "metadata": {
    "application/vnd.databricks.v1+cell": {
     "cellMetadata": {
      "byteLimit": 2048000,
      "rowLimit": 10000
     },
     "inputWidgets": {},
     "nuid": "90ad2dae-b3a5-40d0-8e12-82e8de798a0b",
     "showTitle": false,
     "title": ""
    }
   },
   "source": [
    "## Analysis of relevant fruit analysis by grower number and sample time"
   ]
  },
  {
   "cell_type": "markdown",
   "metadata": {
    "application/vnd.databricks.v1+cell": {
     "cellMetadata": {
      "byteLimit": 2048000,
      "rowLimit": 10000
     },
     "inputWidgets": {},
     "nuid": "84652ce6-e6fe-4899-92c7-b902a4dd4312",
     "showTitle": false,
     "title": ""
    }
   },
   "source": [
    "### Split special instructions to sample time and positions"
   ]
  },
  {
   "cell_type": "code",
   "execution_count": 0,
   "metadata": {
    "application/vnd.databricks.v1+cell": {
     "cellMetadata": {
      "byteLimit": 2048000,
      "rowLimit": 10000
     },
     "inputWidgets": {},
     "nuid": "885eb8f0-e431-4ac2-b1d7-ff9be3170c53",
     "showTitle": false,
     "title": ""
    }
   },
   "outputs": [],
   "source": [
    "fruit_split_sdf = fruit_sdf.withColumn(\n",
    "    \"Sample Time\",\n",
    "    when(col(\"specialInstructions\").startswith(\"ripening 1\"), \"ripening 1\")\n",
    "    .when(col(\"specialInstructions\").startswith(\"ripening 2\"), \"ripening 2\")\n",
    "    .when(col(\"specialInstructions\").startswith(\"HarvestTop\"), \"Harvest\")\n",
    "    .when(col(\"specialInstructions\").startswith(\"HarvestMiddle\"), \"Harvest\")\n",
    "    .when(col(\"specialInstructions\").startswith(\"HarvestBottom\"), \"Harvest\")\n",
    "    .when(col(\"specialInstructions\").startswith(\"Post harvest\"), \"Post harvest\")\n",
    "    .otherwise(lit(None))\n",
    ").withColumn(\n",
    "    \"Positions\",\n",
    "    when(col(\"specialInstructions\").endswith(\"Bottom\"), \"Bottom\")\n",
    "    .when(col(\"specialInstructions\").endswith(\"Middle\"), \"Middle\")\n",
    "    .when(col(\"specialInstructions\").endswith(\"Top\"), \"Top\")\n",
    "    .when(col(\"specialInstructions\").endswith(\"harvest\"), \"Harvest\")\n",
    "    .otherwise(lit(None))\n",
    ")\n",
    "\n",
    "fruit_split_sdf.printSchema()\n",
    "fruit_split_sdf.show()\n",
    "fruit_split_sdf.count()"
   ]
  },
  {
   "cell_type": "markdown",
   "metadata": {
    "application/vnd.databricks.v1+cell": {
     "cellMetadata": {
      "byteLimit": 2048000,
      "rowLimit": 10000
     },
     "inputWidgets": {},
     "nuid": "877ac6d3-620f-4998-ad5d-5cacb5ad2e80",
     "showTitle": false,
     "title": ""
    }
   },
   "source": [
    "## Distribution of collect date across sample time "
   ]
  },
  {
   "cell_type": "code",
   "execution_count": 0,
   "metadata": {
    "application/vnd.databricks.v1+cell": {
     "cellMetadata": {
      "byteLimit": 2048000,
      "rowLimit": 10000
     },
     "inputWidgets": {},
     "nuid": "3f96105d-732e-47c1-81cf-93273bb6445a",
     "showTitle": false,
     "title": ""
    }
   },
   "outputs": [],
   "source": [
    "fruit_split_collect_date_across_sample_time_sdf = fruit_split_sdf.groupBy(\n",
    "  \"Sample Time\"\n",
    ").agg(\n",
    "  F.min(\"Collect Date\").alias(\"min_collect_date\"),\n",
    "  F.max(\"Collect Date\").alias(\"max_collect_date\"),\n",
    "  (F.max(\"Collect Date\") -  F.min(\"Collect Date\")),\n",
    ").orderBy(\"min_collect_date\")\n",
    "\n",
    "fruit_split_collect_date_across_sample_time_sdf.printSchema()\n",
    "fruit_split_collect_date_across_sample_time_sdf.show()\n",
    "fruit_split_collect_date_across_sample_time_sdf.count()"
   ]
  },
  {
   "cell_type": "code",
   "execution_count": 0,
   "metadata": {
    "application/vnd.databricks.v1+cell": {
     "cellMetadata": {},
     "inputWidgets": {},
     "nuid": "c631f26b-3b98-4f75-be62-50828b3c5958",
     "showTitle": false,
     "title": ""
    }
   },
   "outputs": [],
   "source": [
    "fruit_split_collect_date_across_sample_time_pdf = fruit_split_collect_date_across_sample_time_sdf.toPandas()\n",
    "fruit_split_collect_date_across_sample_time_pdf.to_csv(local_tmp_artifact_dir_path + 'fruit_collect_date_across_sample_time.csv', index=False)"
   ]
  },
  {
   "cell_type": "markdown",
   "metadata": {
    "application/vnd.databricks.v1+cell": {
     "cellMetadata": {
      "byteLimit": 2048000,
      "rowLimit": 10000
     },
     "inputWidgets": {},
     "nuid": "c0f406da-f6b7-4c1b-862f-f34173d05d23",
     "showTitle": false,
     "title": ""
    }
   },
   "source": [
    "### Compare relevant fruit analysis by grower number and sample time"
   ]
  },
  {
   "cell_type": "code",
   "execution_count": 0,
   "metadata": {
    "application/vnd.databricks.v1+cell": {
     "cellMetadata": {
      "byteLimit": 2048000,
      "rowLimit": 10000
     },
     "inputWidgets": {},
     "nuid": "1ed386c5-9afe-42a2-95ba-26170650fd73",
     "showTitle": false,
     "title": ""
    }
   },
   "outputs": [],
   "source": [
    "fruit_relevant_analysis_grower_num_sample_time_sdf = fruit_split_sdf.select(\n",
    "  \"Grower Number\",\n",
    "  \"Sample Time\",\n",
    "  \"Dry Matter\",\n",
    "  \"Brix Equatorial\",\n",
    "  \"Fresh Weight\",\n",
    "  \"Hue\",\n",
    "  \"Pressure\",\n",
    ")\n",
    "\n",
    "fruit_relevant_analysis_grower_num_sample_time_sdf.printSchema()\n",
    "fruit_relevant_analysis_grower_num_sample_time_sdf.show()\n",
    "fruit_relevant_analysis_grower_num_sample_time_sdf.count()"
   ]
  },
  {
   "cell_type": "code",
   "execution_count": 0,
   "metadata": {
    "application/vnd.databricks.v1+cell": {
     "cellMetadata": {
      "byteLimit": 2048000,
      "rowLimit": 10000
     },
     "inputWidgets": {},
     "nuid": "f553ec83-40ab-4699-80e4-3bb060b8e238",
     "showTitle": false,
     "title": ""
    }
   },
   "outputs": [],
   "source": [
    "fruit_relevant_analysis_grower_num_sample_time_pdf = fruit_relevant_analysis_grower_num_sample_time_sdf.toPandas()\n",
    "fruit_relevant_analysis_grower_num_sample_time_pdf.info()\n",
    "fruit_relevant_analysis_grower_num_sample_time_pdf"
   ]
  },
  {
   "cell_type": "markdown",
   "metadata": {
    "application/vnd.databricks.v1+cell": {
     "cellMetadata": {
      "byteLimit": 2048000,
      "rowLimit": 10000
     },
     "inputWidgets": {},
     "nuid": "a41c4406-293e-44cd-bc15-6d48d148225b",
     "showTitle": false,
     "title": ""
    }
   },
   "source": [
    "#### Result : compare relevant fruit analysis by grower number and sample time"
   ]
  },
  {
   "cell_type": "code",
   "execution_count": 0,
   "metadata": {
    "application/vnd.databricks.v1+cell": {
     "cellMetadata": {
      "byteLimit": 2048000,
      "rowLimit": 10000
     },
     "inputWidgets": {},
     "nuid": "5c4be3fe-13e2-420b-add6-748a2f39fd1b",
     "showTitle": false,
     "title": ""
    }
   },
   "outputs": [],
   "source": [
    "relevant_analysis = fruit_relevant_analysis_grower_num_sample_time_pdf.select_dtypes(include=['float64'])\n",
    "\n",
    "fruit_relevant_analysis_grower_num_sample_time_pdf[\"Grower Number\"] = fruit_relevant_analysis_grower_num_sample_time_pdf[\"Grower Number\"].astype(str)\n",
    "\n",
    "fruit_relevant_analysis_grower_num_sample_time_pdf = fruit_relevant_analysis_grower_num_sample_time_pdf.sort_values(by=\"Grower Number\", ascending=False)\n",
    "\n",
    "for analysis in relevant_analysis:\n",
    "    fig, ax = plt.subplots(figsize=(16, 22))\n",
    "    sns.boxplot(x=analysis, y=\"Grower Number\", hue=\"Sample Time\", data=fruit_relevant_analysis_grower_num_sample_time_pdf, orient=\"h\",ax=ax)\n",
    "    ax.set_title(f\"Fruit {analysis} by Grower Number\")\n",
    "    ax.grid()\n",
    "    plt.show()\n",
    "    fig.savefig(local_tmp_artifact_dir_path + f\"analysis_{analysis}_by_grower_num_sampletime.png\")"
   ]
  },
  {
   "cell_type": "markdown",
   "metadata": {
    "application/vnd.databricks.v1+cell": {
     "cellMetadata": {
      "byteLimit": 2048000,
      "rowLimit": 10000
     },
     "inputWidgets": {},
     "nuid": "7c0dd434-e421-410a-9351-e5138c8933b7",
     "showTitle": false,
     "title": ""
    }
   },
   "source": [
    "## Boxplot analysis of the distribution of fruit analysis across sample time by grower number and maturity area"
   ]
  },
  {
   "cell_type": "code",
   "execution_count": 0,
   "metadata": {
    "application/vnd.databricks.v1+cell": {
     "cellMetadata": {
      "byteLimit": 2048000,
      "rowLimit": 10000
     },
     "inputWidgets": {},
     "nuid": "1838dec4-bb38-4e0a-b25c-6e442546c272",
     "showTitle": false,
     "title": ""
    }
   },
   "outputs": [],
   "source": [
    "fruit_relevant_analysis_grower_maturity_area_sample_time_sdf = fruit_split_sdf.select(\n",
    "  \"Grower Number\",\n",
    "  \"Maturity Area Name\",\n",
    "  \"Sample Time\",\n",
    "  \"Dry Matter\",\n",
    "  \"Brix Equatorial\",\n",
    "  \"Fresh Weight\",\n",
    "  \"Hue\",\n",
    "  \"Pressure\",\n",
    ")\n",
    "\n",
    "fruit_relevant_analysis_grower_maturity_area_sample_time_sdf.printSchema()\n",
    "fruit_relevant_analysis_grower_maturity_area_sample_time_sdf.show()\n",
    "fruit_relevant_analysis_grower_maturity_area_sample_time_sdf.count()"
   ]
  },
  {
   "cell_type": "markdown",
   "metadata": {
    "application/vnd.databricks.v1+cell": {
     "cellMetadata": {
      "byteLimit": 2048000,
      "rowLimit": 10000
     },
     "inputWidgets": {},
     "nuid": "8af49a81-f2e7-4e19-9f6b-28c50974954d",
     "showTitle": false,
     "title": ""
    }
   },
   "source": [
    "### Result: boxplot analysis of the distribution of fruit analysis across sample time by grower number and maturity area"
   ]
  },
  {
   "cell_type": "code",
   "execution_count": 0,
   "metadata": {
    "application/vnd.databricks.v1+cell": {
     "cellMetadata": {
      "byteLimit": 2048000,
      "rowLimit": 10000
     },
     "inputWidgets": {},
     "nuid": "29928418-56d7-4d26-acb3-bbeea2adff5d",
     "showTitle": false,
     "title": ""
    }
   },
   "outputs": [],
   "source": [
    "fruit_relevant_analysis_grower_maturity_area_sample_time_pdf = fruit_relevant_analysis_grower_maturity_area_sample_time_sdf.toPandas()\n",
    "\n",
    "fruit_relevant_analysis_grower_maturity_area_sample_time_pdf[\"Grower_Number_Maturity_Area\"] = fruit_relevant_analysis_grower_maturity_area_sample_time_pdf[\"Grower Number\"].astype(str) + \"_\" + fruit_relevant_analysis_grower_maturity_area_sample_time_pdf[\"Maturity Area Name\"]\n",
    "\n",
    "fruit_relevant_analysis_grower_maturity_area_sample_time_pdf = fruit_relevant_analysis_grower_maturity_area_sample_time_pdf.sort_values(by=\"Grower_Number_Maturity_Area\", ascending=False)\n",
    "\n",
    "relevant_analysis = fruit_relevant_analysis_grower_maturity_area_sample_time_pdf.select_dtypes(include=[\"float64\"])\n",
    "\n",
    "for analysis in relevant_analysis:\n",
    "  fig, ax = plt.subplots(figsize=(16, 22))\n",
    "  sns.boxplot(x=analysis, y=\"Grower_Number_Maturity_Area\", hue=\"Sample Time\", data=fruit_relevant_analysis_grower_maturity_area_sample_time_pdf, orient=\"h\",ax=ax)\n",
    "  ax.set_title(f\"Fruit {analysis} by Grower Number and Maturity Area\")\n",
    "  ax.grid()\n",
    "  plt.show()\n",
    "  fig.savefig(local_tmp_artifact_dir_path + f\"analysis_{analysis}_across_simple_time_by_grower_maturity_area.png\")"
   ]
  },
  {
   "cell_type": "markdown",
   "metadata": {
    "application/vnd.databricks.v1+cell": {
     "cellMetadata": {
      "byteLimit": 2048000,
      "rowLimit": 10000
     },
     "inputWidgets": {},
     "nuid": "6703626b-f591-4c60-a903-5020f5fb8759",
     "showTitle": false,
     "title": ""
    }
   },
   "source": [
    "## Wrap up"
   ]
  },
  {
   "cell_type": "code",
   "execution_count": 0,
   "metadata": {
    "application/vnd.databricks.v1+cell": {
     "cellMetadata": {
      "byteLimit": 2048000,
      "rowLimit": 10000
     },
     "inputWidgets": {},
     "nuid": "8573e06f-a4e9-4ab2-b072-2f1308f1fe23",
     "showTitle": false,
     "title": ""
    }
   },
   "outputs": [],
   "source": [
    "mlflow.log_artifacts(local_tmp_artifact_dir_path)"
   ]
  },
  {
   "cell_type": "code",
   "execution_count": 0,
   "metadata": {
    "application/vnd.databricks.v1+cell": {
     "cellMetadata": {
      "byteLimit": 2048000,
      "rowLimit": 10000
     },
     "inputWidgets": {},
     "nuid": "5b7427db-7f0b-4282-b7b8-cda06f6f7327",
     "showTitle": false,
     "title": ""
    }
   },
   "outputs": [],
   "source": [
    "# Remove tmp directory file\n",
    "tmp_dir = os.path.dirname(os.path.dirname(local_tmp_artifact_dir_path))\n",
    "dbutils.fs.rm(\"file:\" + tmp_dir, recurse=True)"
   ]
  },
  {
   "cell_type": "code",
   "execution_count": 0,
   "metadata": {
    "application/vnd.databricks.v1+cell": {
     "cellMetadata": {
      "byteLimit": 2048000,
      "rowLimit": 10000
     },
     "inputWidgets": {},
     "nuid": "9cddfde6-fe33-4a1e-9871-e78eade3351b",
     "showTitle": false,
     "title": ""
    }
   },
   "outputs": [],
   "source": [
    "# End MLflow run\n",
    "mlflow.end_run() "
   ]
  }
 ],
 "metadata": {
  "application/vnd.databricks.v1+notebook": {
   "dashboards": [],
   "language": "python",
   "notebookMetadata": {
    "pythonIndentUnit": 2
   },
   "notebookName": "analyze_fruit_analysis_data_set",
   "widgets": {}
  },
  "language_info": {
   "name": "python"
  }
 },
 "nbformat": 4,
 "nbformat_minor": 0
}
