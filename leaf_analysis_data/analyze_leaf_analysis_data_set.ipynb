{
 "cells": [
  {
   "cell_type": "markdown",
   "metadata": {
    "application/vnd.databricks.v1+cell": {
     "cellMetadata": {
      "byteLimit": 2048000,
      "rowLimit": 10000
     },
     "inputWidgets": {},
     "nuid": "c7b2511b-cbf4-4cdf-8eba-e3a1ab241fdb",
     "showTitle": false,
     "title": ""
    }
   },
   "source": [
    "# Analyze leaf analysis data set"
   ]
  },
  {
   "cell_type": "markdown",
   "metadata": {
    "application/vnd.databricks.v1+cell": {
     "cellMetadata": {
      "byteLimit": 2048000,
      "rowLimit": 10000
     },
     "inputWidgets": {},
     "nuid": "36f88c7c-afc4-48d1-8b9f-052943eaff62",
     "showTitle": false,
     "title": ""
    }
   },
   "source": [
    "## Method"
   ]
  },
  {
   "cell_type": "markdown",
   "metadata": {
    "application/vnd.databricks.v1+cell": {
     "cellMetadata": {
      "byteLimit": 2048000,
      "rowLimit": 10000
     },
     "inputWidgets": {},
     "nuid": "5d99f55f-ff75-4ec9-9d6d-9024f35c8370",
     "showTitle": false,
     "title": ""
    }
   },
   "source": [
    "- Load leaf analysis data set        \n",
    "- Check data set schema\n",
    "- Compute statistical distribution for leaf analysis\n",
    "- Compute distribution of leaf analysis across sample time"
   ]
  },
  {
   "cell_type": "markdown",
   "metadata": {
    "application/vnd.databricks.v1+cell": {
     "cellMetadata": {
      "byteLimit": 2048000,
      "rowLimit": 10000
     },
     "inputWidgets": {},
     "nuid": "ade74141-34aa-4286-85ff-e34d4826a91c",
     "showTitle": false,
     "title": ""
    }
   },
   "source": [
    "## Preamble"
   ]
  },
  {
   "cell_type": "code",
   "execution_count": 0,
   "metadata": {
    "application/vnd.databricks.v1+cell": {
     "cellMetadata": {
      "byteLimit": 2048000,
      "rowLimit": 10000
     },
     "inputWidgets": {},
     "nuid": "cbd920e8-8954-4026-9126-4a585721ea19",
     "showTitle": false,
     "title": ""
    }
   },
   "outputs": [],
   "source": [
    "import os\n",
    "import pandas as pd\n",
    "import mlflow\n",
    "import matplotlib.pyplot as plt\n",
    "import seaborn as sns\n",
    "from pyspark.sql import SparkSession\n",
    "from pyspark.sql.functions import col, count, when"
   ]
  },
  {
   "cell_type": "code",
   "execution_count": 0,
   "metadata": {
    "application/vnd.databricks.v1+cell": {
     "cellMetadata": {
      "byteLimit": 2048000,
      "rowLimit": 10000
     },
     "inputWidgets": {},
     "nuid": "5e7865ad-a5f4-45f7-99ff-fe33c570238e",
     "showTitle": false,
     "title": ""
    }
   },
   "outputs": [],
   "source": [
    "experiment_name = \"/Lab_Project_FruitDropZGS/mlflow_experiment/analyze_leaf_analysis_data_set_experiment\"\n",
    "mlflow.set_experiment(experiment_name)"
   ]
  },
  {
   "cell_type": "code",
   "execution_count": 0,
   "metadata": {
    "application/vnd.databricks.v1+cell": {
     "cellMetadata": {
      "byteLimit": 2048000,
      "rowLimit": 10000
     },
     "inputWidgets": {},
     "nuid": "e30bdad2-b9a8-4576-8eee-e5aa541a5b8b",
     "showTitle": false,
     "title": ""
    }
   },
   "outputs": [],
   "source": [
    "run_mlflow = mlflow.start_run()\n",
    "\n",
    "local_tmp_artifact_dir_path = f\"/Workspace/Lab_Project_FruitDropZGS/notebook_artifacts/tmp/{run_mlflow.info.run_id}/artifacts/\"\n",
    "if not os.path.exists(local_tmp_artifact_dir_path):\n",
    "    os.makedirs(local_tmp_artifact_dir_path)\n",
    "      \n",
    "local_tmp_artifact_dir_path"
   ]
  },
  {
   "cell_type": "markdown",
   "metadata": {
    "application/vnd.databricks.v1+cell": {
     "cellMetadata": {
      "byteLimit": 2048000,
      "rowLimit": 10000
     },
     "inputWidgets": {},
     "nuid": "ea9a6973-256f-4fb4-957f-37dd9ca1198b",
     "showTitle": false,
     "title": ""
    }
   },
   "source": [
    "## Configure parameters"
   ]
  },
  {
   "cell_type": "code",
   "execution_count": 0,
   "metadata": {
    "application/vnd.databricks.v1+cell": {
     "cellMetadata": {
      "byteLimit": 2048000,
      "rowLimit": 10000
     },
     "inputWidgets": {},
     "nuid": "213878fe-8061-415b-848c-8c36b9585213",
     "showTitle": false,
     "title": ""
    }
   },
   "outputs": [],
   "source": [
    "from leaf_analysis_params_all_orchards import params_all_orchards\n",
    "from leaf_analysis_params_selected_kpin import params_selected_kpin\n",
    "\n",
    "params = params_all_orchards\n",
    "# params = params_selected_kpin\n",
    "\n",
    "mlflow.log_params(params)\n",
    "\n",
    "params"
   ]
  },
  {
   "cell_type": "code",
   "execution_count": 0,
   "metadata": {
    "application/vnd.databricks.v1+cell": {
     "cellMetadata": {
      "byteLimit": 2048000,
      "rowLimit": 10000
     },
     "inputWidgets": {},
     "nuid": "48ab1433-4adc-4ad2-977a-622c7837f914",
     "showTitle": false,
     "title": ""
    }
   },
   "outputs": [],
   "source": [
    "if params[\"select_kpin\"]:\n",
    "  filter_kpin = col(\"KPIN\").isin(params[\"select_kpin\"])\n",
    "else:\n",
    "  filter_kpin= col(\"KPIN\").isNotNull() | col(\"KPIN\").isNull()\n",
    "\n",
    "filter_conditions = filter_kpin\n",
    "filter_conditions"
   ]
  },
  {
   "cell_type": "markdown",
   "metadata": {
    "application/vnd.databricks.v1+cell": {
     "cellMetadata": {
      "byteLimit": 2048000,
      "rowLimit": 10000
     },
     "inputWidgets": {},
     "nuid": "a52ebc60-2af9-4bcf-850d-6fe21048f903",
     "showTitle": false,
     "title": ""
    }
   },
   "source": [
    "## Load data"
   ]
  },
  {
   "cell_type": "code",
   "execution_count": 0,
   "metadata": {
    "application/vnd.databricks.v1+cell": {
     "cellMetadata": {
      "byteLimit": 2048000,
      "rowLimit": 10000
     },
     "inputWidgets": {},
     "nuid": "4b9f91f9-e91e-4fbe-857d-ec646c5a9223",
     "showTitle": false,
     "title": ""
    }
   },
   "outputs": [],
   "source": [
    "from leaf_analysis_expected_schema import expected_schema\n",
    "\n",
    "expected_schema"
   ]
  },
  {
   "cell_type": "code",
   "execution_count": 0,
   "metadata": {
    "application/vnd.databricks.v1+cell": {
     "cellMetadata": {
      "byteLimit": 2048000,
      "rowLimit": 10000
     },
     "inputWidgets": {},
     "nuid": "ccd01f17-24e5-4e8f-8bf4-f27879a2fdcd",
     "showTitle": false,
     "title": ""
    }
   },
   "outputs": [],
   "source": [
    "initial_sdf = spark.table(params[\"table_name\"])\n",
    "\n",
    "leaf_sdf = initial_sdf.filter(filter_conditions) \n",
    "\n",
    "leaf_sdf_count = leaf_sdf.count()\n",
    "mlflow.log_metric(\"leaf_sdf_count\", leaf_sdf_count)\n",
    "  \n",
    "leaf_sdf.printSchema()\n",
    "leaf_sdf.show()\n",
    "leaf_sdf_count"
   ]
  },
  {
   "cell_type": "code",
   "execution_count": 0,
   "metadata": {
    "application/vnd.databricks.v1+cell": {
     "cellMetadata": {
      "byteLimit": 2048000,
      "rowLimit": 10000
     },
     "inputWidgets": {},
     "nuid": "5e785526-d042-4a1f-898e-be6523cd087b",
     "showTitle": false,
     "title": ""
    }
   },
   "outputs": [],
   "source": [
    "assert expected_schema == initial_sdf.schema"
   ]
  },
  {
   "cell_type": "markdown",
   "metadata": {
    "application/vnd.databricks.v1+cell": {
     "cellMetadata": {
      "byteLimit": 2048000,
      "rowLimit": 10000
     },
     "inputWidgets": {},
     "nuid": "de01e702-32df-4107-bf09-b724add90a3a",
     "showTitle": false,
     "title": ""
    }
   },
   "source": [
    "## Distribution of data analysis by KPIN and maturity area"
   ]
  },
  {
   "cell_type": "code",
   "execution_count": 0,
   "metadata": {
    "application/vnd.databricks.v1+cell": {
     "cellMetadata": {
      "byteLimit": 2048000,
      "rowLimit": 10000
     },
     "inputWidgets": {},
     "nuid": "6c438930-5057-4827-b2d6-adf08e0ccb01",
     "showTitle": false,
     "title": ""
    }
   },
   "outputs": [],
   "source": [
    "leaf_data_analysis_count_sdf = leaf_sdf.groupBy(\n",
    "  \"KPIN\",\n",
    "  \"MA\",\n",
    "  \"data analysis\"\n",
    ").count().orderBy(\"data analysis\")\n",
    "\n",
    "leaf_data_analysis_count_sdf.show()\n",
    "leaf_data_analysis_count_sdf.count()"
   ]
  },
  {
   "cell_type": "code",
   "execution_count": 0,
   "metadata": {
    "application/vnd.databricks.v1+cell": {
     "cellMetadata": {
      "byteLimit": 2048000,
      "rowLimit": 10000
     },
     "inputWidgets": {},
     "nuid": "7ceb69ce-9a61-4607-9a6d-bf327eaf8048",
     "showTitle": false,
     "title": ""
    }
   },
   "outputs": [],
   "source": [
    "leaf_data_analysis_count_summary_sdf = leaf_data_analysis_count_sdf.select(\"count\").summary()\n",
    "leaf_data_analysis_count_summary_sdf.show()"
   ]
  },
  {
   "cell_type": "markdown",
   "metadata": {
    "application/vnd.databricks.v1+cell": {
     "cellMetadata": {
      "byteLimit": 2048000,
      "rowLimit": 10000
     },
     "inputWidgets": {},
     "nuid": "21d93968-6a5b-44d9-9fdc-d3b9423b9cf4",
     "showTitle": false,
     "title": ""
    }
   },
   "source": [
    "### Count distinct data analysis by KPIN and maturity area"
   ]
  },
  {
   "cell_type": "code",
   "execution_count": 0,
   "metadata": {
    "application/vnd.databricks.v1+cell": {
     "cellMetadata": {
      "byteLimit": 2048000,
      "rowLimit": 10000
     },
     "inputWidgets": {},
     "nuid": "3dd07cc7-4642-4046-9bd1-a221519cb8f1",
     "showTitle": false,
     "title": ""
    }
   },
   "outputs": [],
   "source": [
    "leaf_data_analysis_distinct_count_sdf = leaf_data_analysis_count_sdf.groupBy(\n",
    "  \"KPIN\",\n",
    "  \"MA\",\n",
    ").count().withColumnRenamed(\"count\", \"count_distinct_data_analysis\").orderBy(\"count_distinct_data_analysis\", ascending=False)\n",
    "\n",
    "leaf_data_analysis_distinct_count_pdf = leaf_data_analysis_distinct_count_sdf.toPandas()\n",
    "\n",
    "leaf_data_analysis_distinct_count_pdf"
   ]
  },
  {
   "cell_type": "code",
   "execution_count": 0,
   "metadata": {
    "application/vnd.databricks.v1+cell": {
     "cellMetadata": {
      "byteLimit": 2048000,
      "rowLimit": 10000
     },
     "inputWidgets": {},
     "nuid": "6386d301-e023-4bca-a60e-613d9c9776b6",
     "showTitle": false,
     "title": ""
    }
   },
   "outputs": [],
   "source": [
    "leaf_data_analysis_distinct_count_pdf.to_csv(local_tmp_artifact_dir_path + 'leaf_data_analysis_distinct_count.csv', index=False)"
   ]
  },
  {
   "cell_type": "markdown",
   "metadata": {
    "application/vnd.databricks.v1+cell": {
     "cellMetadata": {
      "byteLimit": 2048000,
      "rowLimit": 10000
     },
     "inputWidgets": {},
     "nuid": "99e3c6cc-fe29-464c-848c-2fdc8c8eea8d",
     "showTitle": false,
     "title": ""
    }
   },
   "source": [
    "## Compute statistical distribution for leaf analysis"
   ]
  },
  {
   "cell_type": "code",
   "execution_count": 0,
   "metadata": {
    "application/vnd.databricks.v1+cell": {
     "cellMetadata": {
      "byteLimit": 2048000,
      "rowLimit": 10000
     },
     "inputWidgets": {},
     "nuid": "a7a4f755-159b-47a1-ba56-0e2dd0aeef71",
     "showTitle": false,
     "title": ""
    }
   },
   "outputs": [],
   "source": [
    "leaf_analysis_summary_sdf = leaf_sdf.select(\n",
    "  \"N %\",\n",
    "  \"P %\",\n",
    "  \"K %\",\n",
    "  \"Ca %\",\n",
    "  \"Mg %\",\n",
    "  \"Na %\",\n",
    "  \"Fe ppm\",\n",
    "  \"Mn ppm\",\n",
    "  \"Cu ppm\",\n",
    "  \"Zn ppm\",\n",
    "  \"B ppm\"\n",
    ").summary()\n",
    "\n",
    "leaf_analysis_summary_pdf = leaf_analysis_summary_sdf.toPandas()\n",
    "leaf_analysis_summary_pdf.info()\n",
    "leaf_analysis_summary_pdf"
   ]
  },
  {
   "cell_type": "code",
   "execution_count": 0,
   "metadata": {
    "application/vnd.databricks.v1+cell": {
     "cellMetadata": {
      "byteLimit": 2048000,
      "rowLimit": 10000
     },
     "inputWidgets": {},
     "nuid": "990b864b-270a-4aec-b915-7cd02efe7821",
     "showTitle": false,
     "title": ""
    }
   },
   "outputs": [],
   "source": [
    "leaf_analysis_summary_pdf.to_csv(local_tmp_artifact_dir_path + 'leaf_analysis_summary.csv', index=False)"
   ]
  },
  {
   "cell_type": "markdown",
   "metadata": {
    "application/vnd.databricks.v1+cell": {
     "cellMetadata": {
      "byteLimit": 2048000,
      "rowLimit": 10000
     },
     "inputWidgets": {},
     "nuid": "fd66967e-75dd-4dcc-8bc1-dc82fa70a7a5",
     "showTitle": false,
     "title": ""
    }
   },
   "source": [
    "## Boxplot analysis of distribution of leaf analysis across sample time by KPIN and maturity area"
   ]
  },
  {
   "cell_type": "code",
   "execution_count": 0,
   "metadata": {
    "application/vnd.databricks.v1+cell": {
     "cellMetadata": {
      "byteLimit": 2048000,
      "rowLimit": 10000
     },
     "inputWidgets": {},
     "nuid": "d781e507-f866-41f4-97da-7930ba6791e0",
     "showTitle": false,
     "title": ""
    }
   },
   "outputs": [],
   "source": [
    "leaf_analysis_by_kpin_maturity_area_sdf = leaf_sdf.select(\n",
    "  \"KPIN\",\n",
    "  \"MA\",\n",
    "  \"Sample time\",\n",
    "  \"N %\",\n",
    "  \"P %\",\n",
    "  \"K %\",\n",
    "  \"Ca %\",\n",
    "  \"Mg %\",\n",
    "  \"Na %\",\n",
    "  \"Fe ppm\",\n",
    "  \"Mn ppm\",\n",
    "  \"Cu ppm\",\n",
    "  \"Zn ppm\",\n",
    "  \"B ppm\"\n",
    ")\n",
    "\n",
    "leaf_analysis_by_kpin_maturity_area_sdf.printSchema()\n",
    "leaf_analysis_by_kpin_maturity_area_sdf.show()\n",
    "leaf_analysis_by_kpin_maturity_area_sdf.count()"
   ]
  },
  {
   "cell_type": "markdown",
   "metadata": {
    "application/vnd.databricks.v1+cell": {
     "cellMetadata": {
      "byteLimit": 2048000,
      "rowLimit": 10000
     },
     "inputWidgets": {},
     "nuid": "06fa4d6e-93f0-468f-afe7-2c4469f09bcc",
     "showTitle": false,
     "title": ""
    }
   },
   "source": [
    "### Result: boxplot analysis of distribution of leaf analysis across sample time by KPIN and maturity area"
   ]
  },
  {
   "cell_type": "code",
   "execution_count": 0,
   "metadata": {
    "application/vnd.databricks.v1+cell": {
     "cellMetadata": {
      "byteLimit": 2048000,
      "rowLimit": 10000
     },
     "inputWidgets": {},
     "nuid": "905a7e49-0d71-4d64-9b22-dfcc2cef61bb",
     "showTitle": false,
     "title": ""
    }
   },
   "outputs": [],
   "source": [
    "leaf_analysis_by_kpin_maturity_area_pdf = leaf_analysis_by_kpin_maturity_area_sdf.toPandas()\n",
    "\n",
    "leaf_analysis_by_kpin_maturity_area_pdf[\"KPIN_MA\"] = leaf_analysis_by_kpin_maturity_area_pdf[\"KPIN\"].astype(str) + \"_\" + leaf_analysis_by_kpin_maturity_area_pdf[\"MA\"]\n",
    "\n",
    "leaf_analysis_by_kpin_maturity_area_pdf = leaf_analysis_by_kpin_maturity_area_pdf.sort_values(by=\"KPIN_MA\", ascending=False)\n",
    "\n",
    "leaf_analysis = leaf_analysis_by_kpin_maturity_area_pdf.iloc[:, 4: -1]\n",
    "\n",
    "for analysis in leaf_analysis:\n",
    "  fig, ax = plt.subplots(figsize=(16, 22))\n",
    "  sns.boxplot(x=analysis, y=\"KPIN_MA\", hue=\"Sample time\", data=leaf_analysis_by_kpin_maturity_area_pdf, orient=\"h\",ax=ax)\n",
    "  ax.set_title(f\"Fruit {analysis} by KPIN and MA\")\n",
    "  ax.grid()\n",
    "  plt.show()\n",
    "  fig.savefig(local_tmp_artifact_dir_path + f\"analysis_{analysis}_across_sample_time_by_kpin_maturity_area.png\")"
   ]
  },
  {
   "cell_type": "markdown",
   "metadata": {
    "application/vnd.databricks.v1+cell": {
     "cellMetadata": {
      "byteLimit": 2048000,
      "rowLimit": 10000
     },
     "inputWidgets": {},
     "nuid": "1b8047ea-88c8-40e3-bc4a-902c15d6a8b3",
     "showTitle": false,
     "title": ""
    }
   },
   "source": [
    "## Wrap up"
   ]
  },
  {
   "cell_type": "code",
   "execution_count": 0,
   "metadata": {
    "application/vnd.databricks.v1+cell": {
     "cellMetadata": {
      "byteLimit": 2048000,
      "rowLimit": 10000
     },
     "inputWidgets": {},
     "nuid": "68f62f8b-cc6c-40c3-8d61-5fb84839f984",
     "showTitle": false,
     "title": ""
    }
   },
   "outputs": [],
   "source": [
    "mlflow.log_artifacts(local_tmp_artifact_dir_path)"
   ]
  },
  {
   "cell_type": "code",
   "execution_count": 0,
   "metadata": {
    "application/vnd.databricks.v1+cell": {
     "cellMetadata": {
      "byteLimit": 2048000,
      "rowLimit": 10000
     },
     "inputWidgets": {},
     "nuid": "e5d0e954-75ab-4d96-9fe7-3afbb08fa256",
     "showTitle": false,
     "title": ""
    }
   },
   "outputs": [],
   "source": [
    "# Remove tmp directory file\n",
    "tmp_dir = os.path.dirname(os.path.dirname(local_tmp_artifact_dir_path))\n",
    "dbutils.fs.rm(\"file:\" + tmp_dir, recurse=True)"
   ]
  },
  {
   "cell_type": "code",
   "execution_count": 0,
   "metadata": {
    "application/vnd.databricks.v1+cell": {
     "cellMetadata": {
      "byteLimit": 2048000,
      "rowLimit": 10000
     },
     "inputWidgets": {},
     "nuid": "56a727a0-3981-493c-8a5d-7fcfa9c4a46e",
     "showTitle": false,
     "title": ""
    }
   },
   "outputs": [],
   "source": [
    "# End MLflow run\n",
    "mlflow.end_run() "
   ]
  }
 ],
 "metadata": {
  "application/vnd.databricks.v1+notebook": {
   "dashboards": [],
   "language": "python",
   "notebookMetadata": {
    "pythonIndentUnit": 2
   },
   "notebookName": "analyze_leaf_analysis_data_set",
   "widgets": {}
  }
 },
 "nbformat": 4,
 "nbformat_minor": 0
}
