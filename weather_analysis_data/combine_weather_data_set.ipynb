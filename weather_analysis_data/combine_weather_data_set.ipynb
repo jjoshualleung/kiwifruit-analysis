{
 "cells": [
  {
   "cell_type": "markdown",
   "metadata": {
    "application/vnd.databricks.v1+cell": {
     "cellMetadata": {
      "byteLimit": 2048000,
      "rowLimit": 10000
     },
     "inputWidgets": {},
     "nuid": "0e6929de-93b6-46c9-ae79-deb9ad531267",
     "showTitle": false,
     "title": ""
    }
   },
   "source": [
    "# Combine weather data set"
   ]
  },
  {
   "cell_type": "markdown",
   "metadata": {
    "application/vnd.databricks.v1+cell": {
     "cellMetadata": {
      "byteLimit": 2048000,
      "rowLimit": 10000
     },
     "inputWidgets": {},
     "nuid": "2bd55e0e-d1fd-4068-a39e-5d4079190bab",
     "showTitle": false,
     "title": ""
    }
   },
   "source": [
    "## Objectives\n",
    "\n",
    "- Write the merged table to Databricks catalog if there are any difference between the previous and new versions"
   ]
  },
  {
   "cell_type": "markdown",
   "metadata": {
    "application/vnd.databricks.v1+cell": {
     "cellMetadata": {
      "byteLimit": 2048000,
      "rowLimit": 10000
     },
     "inputWidgets": {},
     "nuid": "dd99ff46-9298-410e-a0d1-4068511f3888",
     "showTitle": false,
     "title": ""
    }
   },
   "source": [
    "## Load multiple raw weather data sets"
   ]
  },
  {
   "cell_type": "code",
   "execution_count": 0,
   "metadata": {
    "application/vnd.databricks.v1+cell": {
     "cellMetadata": {
      "byteLimit": 2048000,
      "rowLimit": 10000
     },
     "inputWidgets": {},
     "nuid": "2332c7be-5c0d-46d5-aed1-a39f5da097b6",
     "showTitle": false,
     "title": ""
    }
   },
   "outputs": [],
   "source": [
    "from weather_data_sets import *\n",
    "\n",
    "weather_data_sets = weather_data_sets_2024"
   ]
  },
  {
   "cell_type": "code",
   "execution_count": 0,
   "metadata": {
    "application/vnd.databricks.v1+cell": {
     "cellMetadata": {
      "byteLimit": 2048000,
      "rowLimit": 10000
     },
     "inputWidgets": {},
     "nuid": "7f0e5456-9e6f-4e2b-8ba6-1a994362d0bb",
     "showTitle": false,
     "title": ""
    }
   },
   "outputs": [],
   "source": [
    "weather_data_dict = {}\n",
    "\n",
    "for station, table_name in weather_data_sets.items():\n",
    "    weather_data_dict[station] = spark.table(table_name)\n",
    "\n",
    "weather_data_dict"
   ]
  },
  {
   "cell_type": "markdown",
   "metadata": {
    "application/vnd.databricks.v1+cell": {
     "cellMetadata": {
      "byteLimit": 2048000,
      "rowLimit": 10000
     },
     "inputWidgets": {},
     "nuid": "c34c48c8-84b6-4bf5-bdec-bbdc4031a494",
     "showTitle": false,
     "title": ""
    }
   },
   "source": [
    "## Combine multiple raw weather data sets"
   ]
  },
  {
   "cell_type": "code",
   "execution_count": 0,
   "metadata": {
    "application/vnd.databricks.v1+cell": {
     "cellMetadata": {
      "byteLimit": 2048000,
      "rowLimit": 10000
     },
     "inputWidgets": {},
     "nuid": "48728e4c-44e7-4b7d-a111-1d1bb77de19d",
     "showTitle": false,
     "title": ""
    }
   },
   "outputs": [],
   "source": [
    "from merge_weather_station_data_sets import mergeWeatherData\n",
    "\n",
    "merged_weather_data_set_sdf = mergeWeatherData(weather_data_dict)\n",
    "\n",
    "merged_weather_data_set_sdf.printSchema()\n",
    "merged_weather_data_set_sdf.show()\n",
    "merged_weather_data_set_sdf.count()"
   ]
  },
  {
   "cell_type": "code",
   "execution_count": 0,
   "metadata": {
    "application/vnd.databricks.v1+cell": {
     "cellMetadata": {
      "byteLimit": 2048000,
      "rowLimit": 10000
     },
     "inputWidgets": {},
     "nuid": "db11e104-5ff3-4130-b863-c36d35134421",
     "showTitle": false,
     "title": ""
    }
   },
   "outputs": [],
   "source": [
    "merged_weather_data_set_sdf.createOrReplaceTempView(\"merged_weather_data_set\")\n",
    "  \n",
    "spark.sql(\n",
    "\"\"\"CREATE TABLE IF NOT EXISTS datalake_lab.lab_project_fruitdropzgs.merged_weather_data_set_2024 \n",
    "AS SELECT * FROM merged_weather_data_set\"\"\"\n",
    ")"
   ]
  },
  {
   "cell_type": "code",
   "execution_count": 0,
   "metadata": {
    "application/vnd.databricks.v1+cell": {
     "cellMetadata": {
      "byteLimit": 2048000,
      "rowLimit": 10000
     },
     "inputWidgets": {},
     "nuid": "f478f142-ee5e-40c0-ba6b-f0edb3c28aa0",
     "showTitle": false,
     "title": ""
    }
   },
   "outputs": [],
   "source": [
    "target_table_name = \"datalake_lab.lab_project_fruitdropzgs.merged_weather_data_set_2024\"\n",
    "target_table_sdf = spark.table(target_table_name)\n",
    "target_table_sdf.printSchema()\n",
    "target_table_sdf.show()"
   ]
  },
  {
   "cell_type": "markdown",
   "metadata": {
    "application/vnd.databricks.v1+cell": {
     "cellMetadata": {
      "byteLimit": 2048000,
      "rowLimit": 10000
     },
     "inputWidgets": {},
     "nuid": "c15c3266-cfb4-4eb2-b3e2-a70322f78356",
     "showTitle": false,
     "title": ""
    }
   },
   "source": [
    "## Write table to Databricks catalog"
   ]
  },
  {
   "cell_type": "code",
   "execution_count": 0,
   "metadata": {
    "application/vnd.databricks.v1+cell": {
     "cellMetadata": {
      "byteLimit": 2048000,
      "rowLimit": 10000
     },
     "inputWidgets": {},
     "nuid": "6e5132d2-3bcf-4fb2-9165-f5261e5d5d2c",
     "showTitle": false,
     "title": ""
    }
   },
   "outputs": [],
   "source": [
    "from merged_weather_data_expected_schema import merged_weather_data_expected_schema\n",
    "\n",
    "merged_weather_data_expected_schema"
   ]
  },
  {
   "cell_type": "code",
   "execution_count": 0,
   "metadata": {
    "application/vnd.databricks.v1+cell": {
     "cellMetadata": {
      "byteLimit": 2048000,
      "rowLimit": 10000
     },
     "inputWidgets": {},
     "nuid": "41a41dfd-c2d6-46b8-8d20-121c2b9dfc81",
     "showTitle": false,
     "title": ""
    }
   },
   "outputs": [],
   "source": [
    "if target_table_sdf.exceptAll(merged_weather_data_set_sdf).count() == 0 and merged_weather_data_set_sdf.exceptAll(target_table_sdf).count() == 0 and merged_weather_data_expected_schema == target_table_sdf.schema:\n",
    "    print(\"The dataframes are equal. The merged weather data is up-to-date.\")\n",
    "else:\n",
    "    merged_weather_data_set_sdf.write.mode(\"overwrite\").option(\"overwriteSchema\", \"true\").saveAsTable(target_table_name)\n",
    "    print(\"The datarames are not equal. Overwrite the new version of table\")"
   ]
  },
  {
   "cell_type": "markdown",
   "metadata": {
    "application/vnd.databricks.v1+cell": {
     "cellMetadata": {
      "byteLimit": 2048000,
      "rowLimit": 10000
     },
     "inputWidgets": {},
     "nuid": "43413f3b-9772-440d-9e9c-3451be0eda04",
     "showTitle": false,
     "title": ""
    }
   },
   "source": [
    "## Retrieve table history "
   ]
  },
  {
   "cell_type": "code",
   "execution_count": 0,
   "metadata": {
    "application/vnd.databricks.v1+cell": {
     "cellMetadata": {
      "byteLimit": 2048000,
      "rowLimit": 10000
     },
     "inputWidgets": {},
     "nuid": "414d50ea-1e59-47fa-acd0-b62a52473452",
     "showTitle": false,
     "title": ""
    }
   },
   "outputs": [],
   "source": [
    "spark.sql(f\"\"\"DESCRIBE HISTORY {target_table_name}\"\"\").show()"
   ]
  }
 ],
 "metadata": {
  "application/vnd.databricks.v1+notebook": {
   "dashboards": [],
   "language": "python",
   "notebookMetadata": {
    "pythonIndentUnit": 2
   },
   "notebookName": "combine_weather_data_set",
   "widgets": {}
  }
 },
 "nbformat": 4,
 "nbformat_minor": 0
}
