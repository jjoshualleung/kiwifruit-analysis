{
 "cells": [
  {
   "cell_type": "markdown",
   "metadata": {
    "application/vnd.databricks.v1+cell": {
     "cellMetadata": {
      "byteLimit": 2048000,
      "rowLimit": 10000
     },
     "inputWidgets": {},
     "nuid": "592e78a3-e378-4cc3-9569-9a0767b23e48",
     "showTitle": false,
     "title": ""
    }
   },
   "source": [
    "# Analyze merged weather data set"
   ]
  },
  {
   "cell_type": "markdown",
   "metadata": {
    "application/vnd.databricks.v1+cell": {
     "cellMetadata": {
      "byteLimit": 2048000,
      "rowLimit": 10000
     },
     "inputWidgets": {},
     "nuid": "3d40f169-cd2c-478d-bb5d-9f0e64f1fbc0",
     "showTitle": false,
     "title": ""
    }
   },
   "source": [
    "## Objectives\n",
    "- Load merged weather data set\n",
    "- Compute statistical distribution\n",
    "- Review the relationship between average hourly humidity and temperature"
   ]
  },
  {
   "cell_type": "markdown",
   "metadata": {
    "application/vnd.databricks.v1+cell": {
     "cellMetadata": {
      "byteLimit": 2048000,
      "rowLimit": 10000
     },
     "inputWidgets": {},
     "nuid": "619192fa-fd0a-49eb-bd38-5fd29690b65b",
     "showTitle": false,
     "title": ""
    }
   },
   "source": [
    "## Preamble\n"
   ]
  },
  {
   "cell_type": "code",
   "execution_count": 0,
   "metadata": {
    "application/vnd.databricks.v1+cell": {
     "cellMetadata": {
      "byteLimit": 2048000,
      "rowLimit": 10000
     },
     "inputWidgets": {},
     "nuid": "f2caf918-bec5-4f65-b205-7299857cfc08",
     "showTitle": false,
     "title": ""
    }
   },
   "outputs": [],
   "source": [
    "import os\n",
    "import math\n",
    "import mlflow\n",
    "import numpy as np\n",
    "import pandas as pd\n",
    "import seaborn as sns\n",
    "import matplotlib.pyplot as plt\n",
    "from pyspark.sql import functions as F\n",
    "from pyspark.sql.functions import col, count, hour, to_date\n",
    "sns.set_theme(style=\"darkgrid\")"
   ]
  },
  {
   "cell_type": "code",
   "execution_count": 0,
   "metadata": {
    "application/vnd.databricks.v1+cell": {
     "cellMetadata": {
      "byteLimit": 2048000,
      "rowLimit": 10000
     },
     "inputWidgets": {},
     "nuid": "36f51bf3-2e13-44fd-810a-f89dc1960770",
     "showTitle": false,
     "title": ""
    }
   },
   "outputs": [],
   "source": [
    "experiment_name = \"/Lab_Project_FruitDropZGS/mlflow_experiment/analyze_merged_weather_data_set_experiment\"\n",
    "mlflow.set_experiment(experiment_name)"
   ]
  },
  {
   "cell_type": "code",
   "execution_count": 0,
   "metadata": {
    "application/vnd.databricks.v1+cell": {
     "cellMetadata": {
      "byteLimit": 2048000,
      "rowLimit": 10000
     },
     "inputWidgets": {},
     "nuid": "96c47c61-5213-47d8-bdec-16e3cdfaf838",
     "showTitle": false,
     "title": ""
    }
   },
   "outputs": [],
   "source": [
    "run_mlflow = mlflow.start_run()\n",
    "\n",
    "local_tmp_artifact_dir_path = \"/Workspace/Lab_Project_FruitDropZGS/notebook_artifacts/tmp/\" + run_mlflow.info.run_id + \"/artifacts/\"\n",
    "\n",
    "if not os.path.exists(local_tmp_artifact_dir_path):\n",
    "  os.makedirs(local_tmp_artifact_dir_path)\n",
    "  \n",
    "local_tmp_artifact_dir_path"
   ]
  },
  {
   "cell_type": "markdown",
   "metadata": {
    "application/vnd.databricks.v1+cell": {
     "cellMetadata": {
      "byteLimit": 2048000,
      "rowLimit": 10000
     },
     "inputWidgets": {},
     "nuid": "6eeee38e-d172-4ea3-8426-959e2e0a441f",
     "showTitle": false,
     "title": ""
    }
   },
   "source": [
    "## Configure parameters"
   ]
  },
  {
   "cell_type": "code",
   "execution_count": 0,
   "metadata": {
    "application/vnd.databricks.v1+cell": {
     "cellMetadata": {
      "byteLimit": 2048000,
      "rowLimit": 10000
     },
     "inputWidgets": {},
     "nuid": "365ad66b-0d4a-401c-81f1-f02d4694c1fd",
     "showTitle": false,
     "title": ""
    }
   },
   "outputs": [],
   "source": [
    "from merged_weather_params_all_stations import params_all_stations\n",
    "from merged_weather_params_select_stations import params_select_stations\n",
    "\n",
    "# params = params_all_stations\n",
    "params = params_select_stations\n",
    "\n",
    "mlflow.log_params(params)\n",
    "\n",
    "params"
   ]
  },
  {
   "cell_type": "code",
   "execution_count": 0,
   "metadata": {
    "application/vnd.databricks.v1+cell": {
     "cellMetadata": {
      "byteLimit": 2048000,
      "rowLimit": 10000
     },
     "inputWidgets": {},
     "nuid": "ffff2087-de68-4e72-b240-7667b3d1a1d3",
     "showTitle": false,
     "title": ""
    }
   },
   "outputs": [],
   "source": [
    "if params[\"station\"]:\n",
    "  station_condition = col(\"station\").isin(params[\"station\"])\n",
    "  mlflow.log_params({\"station\": params[\"station\"]})\n",
    "else:\n",
    "  station_condition = col(\"station\").isNotNull() | col(\"station\").isNull()"
   ]
  },
  {
   "cell_type": "markdown",
   "metadata": {
    "application/vnd.databricks.v1+cell": {
     "cellMetadata": {
      "byteLimit": 2048000,
      "rowLimit": 10000
     },
     "inputWidgets": {},
     "nuid": "944f154d-9795-4492-9577-8b248ee0e176",
     "showTitle": false,
     "title": ""
    }
   },
   "source": [
    "## Load data"
   ]
  },
  {
   "cell_type": "code",
   "execution_count": 0,
   "metadata": {
    "application/vnd.databricks.v1+cell": {
     "cellMetadata": {
      "byteLimit": 2048000,
      "rowLimit": 10000
     },
     "inputWidgets": {},
     "nuid": "0281a0f5-8586-4fe2-aee6-5aa3a52714a3",
     "showTitle": false,
     "title": ""
    }
   },
   "outputs": [],
   "source": [
    "from merged_weather_data_expected_schema import merged_weather_data_expected_schema\n",
    "\n",
    "merged_weather_data_expected_schema"
   ]
  },
  {
   "cell_type": "code",
   "execution_count": 0,
   "metadata": {
    "application/vnd.databricks.v1+cell": {
     "cellMetadata": {
      "byteLimit": 2048000,
      "rowLimit": 10000
     },
     "inputWidgets": {},
     "nuid": "51a7a0c4-58b0-406c-a062-eb50fb66abe1",
     "showTitle": false,
     "title": ""
    }
   },
   "outputs": [],
   "source": [
    "initial_sdf = spark.table(params[\"merged_weather_data_set\"])\n",
    "\n",
    "merged_weather_data_set_sdf = initial_sdf.filter(station_condition).cache()\n",
    "\n",
    "merged_weather_data_set_count_sdf = merged_weather_data_set_sdf.count()\n",
    "mlflow.log_metric(\"merge_weather_data_set_count\", merged_weather_data_set_count_sdf)\n",
    "\n",
    "merged_weather_data_set_sdf.printSchema()\n",
    "merged_weather_data_set_sdf.show()\n",
    "merged_weather_data_set_count_sdf"
   ]
  },
  {
   "cell_type": "code",
   "execution_count": 0,
   "metadata": {
    "application/vnd.databricks.v1+cell": {
     "cellMetadata": {
      "byteLimit": 2048000,
      "rowLimit": 10000
     },
     "inputWidgets": {},
     "nuid": "96b21c23-6844-4103-9837-5fd7c7d8df97",
     "showTitle": false,
     "title": ""
    }
   },
   "outputs": [],
   "source": [
    "assert merged_weather_data_expected_schema == merged_weather_data_set_sdf.schema"
   ]
  },
  {
   "cell_type": "markdown",
   "metadata": {
    "application/vnd.databricks.v1+cell": {
     "cellMetadata": {
      "byteLimit": 2048000,
      "rowLimit": 10000
     },
     "inputWidgets": {},
     "nuid": "bff2d08d-0997-4a82-8b0b-b3da9e93c5b4",
     "showTitle": false,
     "title": ""
    }
   },
   "source": [
    "## Compute statistical distribution"
   ]
  },
  {
   "cell_type": "code",
   "execution_count": 0,
   "metadata": {
    "application/vnd.databricks.v1+cell": {
     "cellMetadata": {
      "byteLimit": 2048000,
      "rowLimit": 10000
     },
     "inputWidgets": {},
     "nuid": "2bc3463f-a35c-42f5-b23f-97c8ee164550",
     "showTitle": false,
     "title": ""
    }
   },
   "outputs": [],
   "source": [
    "merged_weather_data_set_summary_sdf = merged_weather_data_set_sdf.summary(\"count\", \"mean\", \"stddev\", \"min\", \"25%\", \"50%\", \"75%\", \"90%\", \"95%\", \"98%\", \"99%\", \"max\")\n",
    "merged_weather_data_set_summary_sdf.show()"
   ]
  },
  {
   "cell_type": "code",
   "execution_count": 0,
   "metadata": {
    "application/vnd.databricks.v1+cell": {
     "cellMetadata": {
      "byteLimit": 2048000,
      "rowLimit": 10000
     },
     "inputWidgets": {},
     "nuid": "d20f4834-5741-440d-ab06-57cf6191d7e2",
     "showTitle": false,
     "title": ""
    }
   },
   "outputs": [],
   "source": [
    "merged_weather_data_set_summary_pdf = merged_weather_data_set_summary_sdf.toPandas()\n",
    "merged_weather_data_set_summary_pdf.to_csv(local_tmp_artifact_dir_path + 'merged_weather_data_summary.csv', index=False)"
   ]
  },
  {
   "cell_type": "markdown",
   "metadata": {
    "application/vnd.databricks.v1+cell": {
     "cellMetadata": {
      "byteLimit": 2048000,
      "rowLimit": 10000
     },
     "inputWidgets": {},
     "nuid": "5a7c9735-d581-4eca-ae7b-03aeccf65f8b",
     "showTitle": false,
     "title": ""
    }
   },
   "source": [
    "## Count of duplicate records by station"
   ]
  },
  {
   "cell_type": "code",
   "execution_count": 0,
   "metadata": {
    "application/vnd.databricks.v1+cell": {
     "cellMetadata": {
      "byteLimit": 2048000,
      "rowLimit": 10000
     },
     "inputWidgets": {},
     "nuid": "e8cd827c-47d5-48f3-b7d2-860eb94191c6",
     "showTitle": false,
     "title": ""
    }
   },
   "outputs": [],
   "source": [
    "count_by_datetime_station_sdf = merged_weather_data_set_sdf.groupBy(\"datetime\", \"station\").count().filter(col(\"count\") > 1)\n",
    "\n",
    "count_by_datetime_station_sdf.show()\n",
    "count_by_datetime_station_sdf.count()"
   ]
  },
  {
   "cell_type": "code",
   "execution_count": 0,
   "metadata": {
    "application/vnd.databricks.v1+cell": {
     "cellMetadata": {
      "byteLimit": 2048000,
      "rowLimit": 10000
     },
     "inputWidgets": {},
     "nuid": "ab9903c8-e56e-43a4-a18e-b60fc2f4e982",
     "showTitle": false,
     "title": ""
    }
   },
   "outputs": [],
   "source": [
    "duplicate_records_count_by_station_sdf = count_by_datetime_station_sdf.groupBy(\"station\").agg(F.sum(\"count\").alias(\"count_duplicates\"))\n",
    "\n",
    "duplicate_records_count_by_station_sdf.show()\n",
    "duplicate_records_count_by_station_sdf.count()"
   ]
  },
  {
   "cell_type": "markdown",
   "metadata": {
    "application/vnd.databricks.v1+cell": {
     "cellMetadata": {
      "byteLimit": 2048000,
      "rowLimit": 10000
     },
     "inputWidgets": {},
     "nuid": "bc21772f-2fb8-4e2c-b37c-a370a7be6fd5",
     "showTitle": false,
     "title": ""
    }
   },
   "source": [
    "## Count of unique records"
   ]
  },
  {
   "cell_type": "code",
   "execution_count": 0,
   "metadata": {
    "application/vnd.databricks.v1+cell": {
     "cellMetadata": {
      "byteLimit": 2048000,
      "rowLimit": 10000
     },
     "inputWidgets": {},
     "nuid": "61d4b07f-1330-45d4-96f7-d2deadc80e14",
     "showTitle": false,
     "title": ""
    }
   },
   "outputs": [],
   "source": [
    "unique_weather_sdf = merged_weather_data_set_sdf.dropDuplicates(['datetime', 'station'])\n",
    "\n",
    "unique_weather_count_sdf = unique_weather_sdf.count()\n",
    "mlflow.log_metric(\"unique_weather_count\", unique_weather_count_sdf)\n",
    "\n",
    "unique_weather_sdf.printSchema()\n",
    "unique_weather_sdf.show()\n",
    "unique_weather_count_sdf"
   ]
  },
  {
   "cell_type": "code",
   "execution_count": 0,
   "metadata": {
    "application/vnd.databricks.v1+cell": {
     "cellMetadata": {
      "byteLimit": 2048000,
      "rowLimit": 10000
     },
     "inputWidgets": {},
     "nuid": "788defda-ba53-428a-88b0-fb72ecbb2efc",
     "showTitle": false,
     "title": ""
    }
   },
   "outputs": [],
   "source": [
    "merged_weather_data_set_sdf = unique_weather_sdf"
   ]
  },
  {
   "cell_type": "markdown",
   "metadata": {
    "application/vnd.databricks.v1+cell": {
     "cellMetadata": {
      "byteLimit": 2048000,
      "rowLimit": 10000
     },
     "inputWidgets": {},
     "nuid": "e76d4b71-d2f4-4101-92af-b478d3d4e96e",
     "showTitle": false,
     "title": ""
    }
   },
   "source": [
    "## CDF diagram for average hourly temperature by station"
   ]
  },
  {
   "cell_type": "code",
   "execution_count": 0,
   "metadata": {
    "application/vnd.databricks.v1+cell": {
     "cellMetadata": {
      "byteLimit": 2048000,
      "rowLimit": 10000
     },
     "inputWidgets": {},
     "nuid": "a7ccfdc8-69fa-4658-85ff-42d519c58833",
     "showTitle": false,
     "title": ""
    }
   },
   "outputs": [],
   "source": [
    "station_avg_temperature_C_sdf = merged_weather_data_set_sdf.groupBy(\n",
    "  \"station\", \"avg_temperature_C\"\n",
    ").count().withColumnRenamed(\n",
    "  \"count\", \"count_observations\"\n",
    ").na.drop().orderBy(\n",
    "\"avg_temperature_C\", ascending=False)\n",
    "\n",
    "station_avg_temperature_C_sdf.printSchema()\n",
    "station_avg_temperature_C_sdf.show()\n",
    "station_avg_temperature_C_sdf.count()"
   ]
  },
  {
   "cell_type": "code",
   "execution_count": 0,
   "metadata": {
    "application/vnd.databricks.v1+cell": {
     "cellMetadata": {
      "byteLimit": 2048000,
      "rowLimit": 10000
     },
     "inputWidgets": {},
     "nuid": "d674b8e3-4d80-4ef1-b9a1-742ef91c7c4c",
     "showTitle": false,
     "title": ""
    }
   },
   "outputs": [],
   "source": [
    "station_avg_temperature_C_pdf = station_avg_temperature_C_sdf.toPandas()\n",
    "\n",
    "percentiles = np.arange(0, 1.02, 0.02)\n",
    "\n",
    "grouped = station_avg_temperature_C_pdf.groupby(\"station\")\n",
    "quantiles_pdf = grouped['avg_temperature_C'].quantile(q=percentiles).unstack()\n",
    "quantiles_station_avg_temperature_C_pdf = quantiles_pdf.transpose().rename_axis(columns='quantiles')\n",
    "\n",
    "quantiles_station_avg_temperature_C_pdf"
   ]
  },
  {
   "cell_type": "code",
   "execution_count": 0,
   "metadata": {
    "application/vnd.databricks.v1+cell": {
     "cellMetadata": {
      "byteLimit": 2048000,
      "rowLimit": 10000
     },
     "inputWidgets": {},
     "nuid": "57233de3-091a-4964-830a-939d57ed8420",
     "showTitle": false,
     "title": ""
    }
   },
   "outputs": [],
   "source": [
    "fig, ax = plt.subplots(figsize=(28, 18))\n",
    "\n",
    "for station in quantiles_station_avg_temperature_C_pdf.columns:\n",
    "    plt.plot(\n",
    "    quantiles_station_avg_temperature_C_pdf[station],\n",
    "    quantiles_station_avg_temperature_C_pdf.index,\n",
    "    label=station,\n",
    "    marker=\"*\",\n",
    "    )\n",
    "\n",
    "plt.title(\"CDF diagram for average hourly temperature by station\")\n",
    "plt.ylabel(\"Quantiles\")\n",
    "plt.xlabel(\"Average temperature (C)\")\n",
    "plt.legend(title=\"Station\")\n",
    "plt.grid(True)\n",
    "plt.show()\n",
    "\n",
    "fig.savefig(local_tmp_artifact_dir_path + f\"cdf_avg_hourly_temp_by_station.png\")"
   ]
  },
  {
   "cell_type": "markdown",
   "metadata": {
    "application/vnd.databricks.v1+cell": {
     "cellMetadata": {
      "byteLimit": 2048000,
      "rowLimit": 10000
     },
     "inputWidgets": {},
     "nuid": "f450debc-27e6-475d-a1d2-cf9fa2e2fdaa",
     "showTitle": false,
     "title": ""
    }
   },
   "source": [
    "## CDF diagram for average hourly humidity by station"
   ]
  },
  {
   "cell_type": "code",
   "execution_count": 0,
   "metadata": {
    "application/vnd.databricks.v1+cell": {
     "cellMetadata": {
      "byteLimit": 2048000,
      "rowLimit": 10000
     },
     "inputWidgets": {},
     "nuid": "e9161c0a-50bb-41b6-8415-c0e57ed10f77",
     "showTitle": false,
     "title": ""
    }
   },
   "outputs": [],
   "source": [
    "station_avg_humidity_percent_sdf = merged_weather_data_set_sdf.groupBy(\n",
    "  \"station\", \"avg_humidity_percent\"\n",
    ").count().withColumnRenamed(\n",
    "  \"count\", \"count_observations\"\n",
    ").na.drop().orderBy(\n",
    "\"avg_humidity_percent\", ascending=False)\n",
    "\n",
    "station_avg_humidity_percent_sdf.printSchema()\n",
    "station_avg_humidity_percent_sdf.show()\n",
    "station_avg_humidity_percent_sdf.count()"
   ]
  },
  {
   "cell_type": "code",
   "execution_count": 0,
   "metadata": {
    "application/vnd.databricks.v1+cell": {
     "cellMetadata": {
      "byteLimit": 2048000,
      "rowLimit": 10000
     },
     "inputWidgets": {},
     "nuid": "4eb82c47-10dc-4ed9-9920-fe66f79d7d99",
     "showTitle": false,
     "title": ""
    }
   },
   "outputs": [],
   "source": [
    "station_avg_humidity_percent_pdf = station_avg_humidity_percent_sdf.toPandas()\n",
    "\n",
    "percentiles = np.arange(0, 1.02, 0.02)\n",
    "\n",
    "grouped = station_avg_humidity_percent_pdf.groupby(\"station\")\n",
    "quantiles_pdf = grouped['avg_humidity_percent'].quantile(q=percentiles).unstack()\n",
    "quantiles_station_avg_humidity_percent_pdf = quantiles_pdf.transpose().rename_axis(columns='quantiles')\n",
    "\n",
    "quantiles_station_avg_humidity_percent_pdf"
   ]
  },
  {
   "cell_type": "code",
   "execution_count": 0,
   "metadata": {
    "application/vnd.databricks.v1+cell": {
     "cellMetadata": {
      "byteLimit": 2048000,
      "rowLimit": 10000
     },
     "inputWidgets": {},
     "nuid": "c36305e9-fd45-4a58-8eaf-46d1c1fb9fc2",
     "showTitle": false,
     "title": ""
    }
   },
   "outputs": [],
   "source": [
    "fig, ax = plt.subplots(figsize=(28, 18))\n",
    "\n",
    "for station in quantiles_station_avg_humidity_percent_pdf.columns:\n",
    "  plt.plot(\n",
    "    quantiles_station_avg_humidity_percent_pdf[station],\n",
    "    quantiles_station_avg_humidity_percent_pdf.index,\n",
    "    label=station,\n",
    "    marker=\"*\",\n",
    "  )\n",
    "\n",
    "plt.title(\"CDF diagram for average humidity temperature by station\")\n",
    "plt.ylabel('Quantiles')\n",
    "plt.xlabel(\"Average humidity (%)\")\n",
    "plt.legend(title=\"Station\")\n",
    "plt.grid(True)\n",
    "plt.show()\n",
    "\n",
    "fig.savefig(local_tmp_artifact_dir_path + f\"cdf_avg_hourly_humidity_by_station.png\")"
   ]
  },
  {
   "cell_type": "markdown",
   "metadata": {
    "application/vnd.databricks.v1+cell": {
     "cellMetadata": {
      "byteLimit": 2048000,
      "rowLimit": 10000
     },
     "inputWidgets": {},
     "nuid": "e2ec0643-882c-4138-879c-78c91a6ab7fe",
     "showTitle": false,
     "title": ""
    }
   },
   "source": [
    "## The relationship between average hourly humidity and temperature"
   ]
  },
  {
   "cell_type": "code",
   "execution_count": 0,
   "metadata": {
    "application/vnd.databricks.v1+cell": {
     "cellMetadata": {
      "byteLimit": 2048000,
      "rowLimit": 10000
     },
     "inputWidgets": {},
     "nuid": "cd7c8fe5-3b21-4bb9-b79e-2fe56c811c41",
     "showTitle": false,
     "title": ""
    }
   },
   "outputs": [],
   "source": [
    "avg_humidity_temperature_count_sdf = merged_weather_data_set_sdf.groupBy(\"avg_humidity_percent\", \"avg_temperature_C\").count().withColumnRenamed(\"count\", \"count_observations\")\n",
    "\n",
    "avg_humidity_temperature_count_sdf.printSchema()\n",
    "avg_humidity_temperature_count_sdf.show()\n",
    "avg_humidity_temperature_count_sdf.count()"
   ]
  },
  {
   "cell_type": "code",
   "execution_count": 0,
   "metadata": {
    "application/vnd.databricks.v1+cell": {
     "cellMetadata": {
      "byteLimit": 2048000,
      "rowLimit": 10000
     },
     "inputWidgets": {},
     "nuid": "df6026d5-14a3-4e8b-b6f4-4b1b68b26cbd",
     "showTitle": false,
     "title": ""
    }
   },
   "outputs": [],
   "source": [
    "avg_humidity_temperature_count_pdf = avg_humidity_temperature_count_sdf.toPandas()\n",
    "\n",
    "fig, ax = plt.subplots(figsize=(28, 18))\n",
    "avg_humidity_temperature_count_pdf.plot.hexbin(\n",
    "  \"avg_temperature_C\",\n",
    "  \"avg_humidity_percent\",\n",
    "  C=\"count_observations\",\n",
    "  reduce_C_function=np.sum,\n",
    "  gridsize=50,\n",
    "  ax=ax,\n",
    "  edgecolors=\"grey\",\n",
    "  cmap=\"inferno\",\n",
    "  mincnt=1\n",
    ")\n",
    "ax.grid(True)\n",
    "\n",
    "fig.savefig(local_tmp_artifact_dir_path + f\"avg_humidity_temperature_count_pdf.png\")"
   ]
  },
  {
   "cell_type": "markdown",
   "metadata": {
    "application/vnd.databricks.v1+cell": {
     "cellMetadata": {
      "byteLimit": 2048000,
      "rowLimit": 10000
     },
     "inputWidgets": {},
     "nuid": "5177af2f-f14e-4967-a59e-96da2dfe9a60",
     "showTitle": false,
     "title": ""
    }
   },
   "source": [
    "## The relationship between daily average humidity and temperature across time"
   ]
  },
  {
   "cell_type": "code",
   "execution_count": 0,
   "metadata": {
    "application/vnd.databricks.v1+cell": {
     "cellMetadata": {
      "byteLimit": 2048000,
      "rowLimit": 10000
     },
     "inputWidgets": {},
     "nuid": "d901afc4-4bc7-4f64-9392-1f1a6e629b2e",
     "showTitle": false,
     "title": ""
    }
   },
   "outputs": [],
   "source": [
    "avg_humidity_temperature_datetime_sdf = merged_weather_data_set_sdf.select(\"datetime\", \"avg_humidity_percent\", \"avg_temperature_C\")\n",
    "\n",
    "avg_humidity_temperature_datetime_sdf.printSchema()\n",
    "avg_humidity_temperature_datetime_sdf.show()\n",
    "avg_humidity_temperature_datetime_sdf.count()"
   ]
  },
  {
   "cell_type": "code",
   "execution_count": 0,
   "metadata": {
    "application/vnd.databricks.v1+cell": {
     "cellMetadata": {
      "byteLimit": 2048000,
      "rowLimit": 10000
     },
     "inputWidgets": {},
     "nuid": "4a64dfab-9081-426c-a2c9-4cd608a3508a",
     "showTitle": false,
     "title": ""
    }
   },
   "outputs": [],
   "source": [
    "avg_humidity_temperature_datetime_pdf = avg_humidity_temperature_datetime_sdf.toPandas()\n",
    "\n",
    "resample_avg_humidity_temperature_datetime_pdf = avg_humidity_temperature_datetime_pdf.set_index(\"datetime\").resample(\"D\").mean()\n",
    "\n",
    "resample_avg_humidity_temperature_datetime_pdf"
   ]
  },
  {
   "cell_type": "code",
   "execution_count": 0,
   "metadata": {
    "application/vnd.databricks.v1+cell": {
     "cellMetadata": {
      "byteLimit": 2048000,
      "rowLimit": 10000
     },
     "inputWidgets": {},
     "nuid": "3feea50d-7c58-4c1a-bb70-0a732f249207",
     "showTitle": false,
     "title": ""
    }
   },
   "outputs": [],
   "source": [
    "fig, ax1 = plt.subplots(figsize=(28,18))\n",
    "\n",
    "ax1.plot(\n",
    "  resample_avg_humidity_temperature_datetime_pdf.index,\n",
    "  resample_avg_humidity_temperature_datetime_pdf[\"avg_humidity_percent\"],\n",
    "  marker=\"*\", \n",
    "  color=\"b\"\n",
    ")\n",
    "\n",
    "ax1.set_xlabel(\"datetime\")\n",
    "ax1.set_ylabel(\"Average Humidity (%)\", color=\"b\")\n",
    "ax1.tick_params(\"y\", colors=\"b\")\n",
    "\n",
    "ax2 = ax1.twinx()\n",
    "ax2.plot(\n",
    "  resample_avg_humidity_temperature_datetime_pdf.index,\n",
    "  resample_avg_humidity_temperature_datetime_pdf[\"avg_temperature_C\"],\n",
    "  marker=\"*\",\n",
    "  color=\"r\"\n",
    ")\n",
    "\n",
    "ax2.set_ylabel(\"Average temperature (C)\", color=\"r\")\n",
    "ax2.tick_params(\"y\", colors=\"r\")\n",
    "\n",
    "plt.title(\"Daily average humidity and temperature over time\")\n",
    "plt.show()\n",
    "\n",
    "fig.savefig(local_tmp_artifact_dir_path + f\"daily_avg_humidity_temperature_across_time.png\")"
   ]
  },
  {
   "cell_type": "markdown",
   "metadata": {
    "application/vnd.databricks.v1+cell": {
     "cellMetadata": {
      "byteLimit": 2048000,
      "rowLimit": 10000
     },
     "inputWidgets": {},
     "nuid": "9724395a-e63b-439c-af1a-3c98023f9d28",
     "showTitle": false,
     "title": ""
    }
   },
   "source": [
    "## The variance of high hourly temperature by station"
   ]
  },
  {
   "cell_type": "code",
   "execution_count": 0,
   "metadata": {
    "application/vnd.databricks.v1+cell": {
     "cellMetadata": {
      "byteLimit": 2048000,
      "rowLimit": 10000
     },
     "inputWidgets": {},
     "nuid": "f2c344a5-9bcc-425d-b8e1-62391372b46d",
     "showTitle": false,
     "title": ""
    }
   },
   "outputs": [],
   "source": [
    "high_temp_value_by_station_sdf = merged_weather_data_set_sdf.select(\"datetime\", \"station\", \"avg_temperature_C\").filter(merged_weather_data_set_sdf.avg_temperature_C >= params[\"selected_high_temp_value\"])\n",
    "\n",
    "high_temp_value_by_station_sdf.printSchema()\n",
    "high_temp_value_by_station_sdf.show()\n",
    "high_temp_value_by_station_sdf.count()"
   ]
  },
  {
   "cell_type": "code",
   "execution_count": 0,
   "metadata": {
    "application/vnd.databricks.v1+cell": {
     "cellMetadata": {
      "byteLimit": 2048000,
      "rowLimit": 10000
     },
     "inputWidgets": {},
     "nuid": "79bbd3c7-e21a-4207-ab17-cb190f16659f",
     "showTitle": false,
     "title": ""
    }
   },
   "outputs": [],
   "source": [
    "avg_high_hourly_temp_value_by_station_pdf = high_temp_value_by_station_sdf.toPandas()\n",
    "\n",
    "fig, ax = plt.subplots(figsize=(18,28))\n",
    "sns.boxplot(x=\"avg_temperature_C\", y=\"station\", data=avg_high_hourly_temp_value_by_station_pdf, orient=\"h\", ax=ax)\n",
    "ax.set_title(f\"Distribution of average hourly high temperature with {params['selected_high_temp_value']} degree Celsius across stations\")\n",
    "plt.show()\n",
    "\n",
    "fig.savefig(local_tmp_artifact_dir_path + f\"avg_high_hourly_temp_value_by_station.png\")"
   ]
  },
  {
   "cell_type": "markdown",
   "metadata": {
    "application/vnd.databricks.v1+cell": {
     "cellMetadata": {
      "byteLimit": 2048000,
      "rowLimit": 10000
     },
     "inputWidgets": {},
     "nuid": "49518000-4792-46ff-bfe1-d70b81c4e989",
     "showTitle": false,
     "title": ""
    }
   },
   "source": [
    "### Percentage of hours with high average temperature by station"
   ]
  },
  {
   "cell_type": "code",
   "execution_count": 0,
   "metadata": {
    "application/vnd.databricks.v1+cell": {
     "cellMetadata": {
      "byteLimit": 2048000,
      "rowLimit": 10000
     },
     "inputWidgets": {},
     "nuid": "5fcae70e-ad89-4502-8730-15240d4db75f",
     "showTitle": false,
     "title": ""
    }
   },
   "outputs": [],
   "source": [
    "total_high_temp_value_by_station_sdf = high_temp_value_by_station_sdf.groupBy(\"station\").agg(\n",
    "  F.count(\"datetime\").alias(\"total_hours_of_high_temperature\"),\n",
    ")\n",
    "total_high_temp_value_by_station_sdf.show()\n",
    "total_high_temp_value_by_station_sdf.count()"
   ]
  },
  {
   "cell_type": "code",
   "execution_count": 0,
   "metadata": {
    "application/vnd.databricks.v1+cell": {
     "cellMetadata": {
      "byteLimit": 2048000,
      "rowLimit": 10000
     },
     "inputWidgets": {},
     "nuid": "82ffe53e-2a8c-4249-92b5-049334d7cd58",
     "showTitle": false,
     "title": ""
    }
   },
   "outputs": [],
   "source": [
    "count_total_hours_observation_by_station_sdf = merged_weather_data_set_sdf.filter(col(\"avg_temperature_C\").isNotNull()).groupBy(\"station\").count().withColumnRenamed(\"count\", \"total_hours_observation\")\n",
    "\n",
    "count_total_hours_observation_by_station_sdf.show()\n",
    "count_total_hours_observation_by_station_sdf.count()"
   ]
  },
  {
   "cell_type": "code",
   "execution_count": 0,
   "metadata": {
    "application/vnd.databricks.v1+cell": {
     "cellMetadata": {
      "byteLimit": 2048000,
      "rowLimit": 10000
     },
     "inputWidgets": {},
     "nuid": "db917dfe-aeb8-452f-9372-9728d278b8f6",
     "showTitle": false,
     "title": ""
    }
   },
   "outputs": [],
   "source": [
    "joined_sdf = total_high_temp_value_by_station_sdf.join(count_total_hours_observation_by_station_sdf, \"station\", \"left\")\n",
    "\n",
    "joined_sdf.printSchema()\n",
    "joined_sdf.show()\n",
    "joined_sdf.count()"
   ]
  },
  {
   "cell_type": "code",
   "execution_count": 0,
   "metadata": {
    "application/vnd.databricks.v1+cell": {
     "cellMetadata": {
      "byteLimit": 2048000,
      "rowLimit": 10000
     },
     "inputWidgets": {},
     "nuid": "72947dd3-5b64-4f90-bedd-38ed54675c2f",
     "showTitle": false,
     "title": ""
    }
   },
   "outputs": [],
   "source": [
    "percentage_of_total_hourly_high_temp_sdf = joined_sdf.withColumn(\"percentage\", (col(\"total_hours_of_high_temperature\") / col(\"total_hours_observation\")) * 100).orderBy(\"percentage\", ascending=False)\n",
    "\n",
    "percentage_of_total_hourly_high_temp_sdf.printSchema()\n",
    "percentage_of_total_hourly_high_temp_sdf.show()\n",
    "percentage_of_total_hourly_high_temp_sdf.count()"
   ]
  },
  {
   "cell_type": "markdown",
   "metadata": {
    "application/vnd.databricks.v1+cell": {
     "cellMetadata": {
      "byteLimit": 2048000,
      "rowLimit": 10000
     },
     "inputWidgets": {},
     "nuid": "1c23ef6e-8f09-447f-94cc-e4798e0172df",
     "showTitle": false,
     "title": ""
    }
   },
   "source": [
    "## Filter complete time series weather data"
   ]
  },
  {
   "cell_type": "code",
   "execution_count": 0,
   "metadata": {
    "application/vnd.databricks.v1+cell": {
     "cellMetadata": {
      "byteLimit": 2048000,
      "rowLimit": 10000
     },
     "inputWidgets": {},
     "nuid": "7af884ea-dbe3-41ca-8dd6-7c289d162299",
     "showTitle": false,
     "title": ""
    }
   },
   "outputs": [],
   "source": [
    "from filter_complete_time_series_weather_data import filterCompleteWeatherTimeSeries\n",
    "\n",
    "complete_timeseries_sdf = filterCompleteWeatherTimeSeries(merged_weather_data_set_sdf).cache()\n",
    "\n",
    "complete_timeseries_count_sdf = complete_timeseries_sdf.count()\n",
    "mlflow.log_metric(\"complete_timeseries_count\", complete_timeseries_count_sdf)\n",
    "\n",
    "complete_timeseries_sdf.printSchema()\n",
    "complete_timeseries_sdf.show()\n",
    "complete_timeseries_count_sdf"
   ]
  },
  {
   "cell_type": "code",
   "execution_count": 0,
   "metadata": {
    "application/vnd.databricks.v1+cell": {
     "cellMetadata": {
      "byteLimit": 2048000,
      "rowLimit": 10000
     },
     "inputWidgets": {},
     "nuid": "c60618c3-3fc9-4059-9b5e-a0dc778fd90b",
     "showTitle": false,
     "title": ""
    }
   },
   "outputs": [],
   "source": [
    "count_complete_timeseries_sdf = complete_timeseries_sdf.groupBy(\"datetime\").count().withColumnRenamed(\"count\", \"count_records\").cache()\n",
    "\n",
    "count_complete_timeseries_sdf.printSchema()\n",
    "count_complete_timeseries_sdf.show()\n",
    "count_complete_timeseries_sdf.count()"
   ]
  },
  {
   "cell_type": "code",
   "execution_count": 0,
   "metadata": {
    "application/vnd.databricks.v1+cell": {
     "cellMetadata": {
      "byteLimit": 2048000,
      "rowLimit": 10000
     },
     "inputWidgets": {},
     "nuid": "b4d6c485-5144-487c-a5ae-f87ff9fc15ff",
     "showTitle": false,
     "title": ""
    }
   },
   "outputs": [],
   "source": [
    "count_complete_timeseries_pdf = count_complete_timeseries_sdf.toPandas()\n",
    "\n",
    "count_complete_timeseries_pdf.set_index(\"datetime\", inplace=True)\n",
    "\n",
    "count_complete_timeseries_by_week_pdf = count_complete_timeseries_pdf.resample('W').count()\n",
    "\n",
    "count_complete_timeseries_by_week_pdf"
   ]
  },
  {
   "cell_type": "code",
   "execution_count": 0,
   "metadata": {
    "application/vnd.databricks.v1+cell": {
     "cellMetadata": {
      "byteLimit": 2048000,
      "rowLimit": 10000
     },
     "inputWidgets": {},
     "nuid": "0952bb94-07d7-4263-aac9-3497584f8cab",
     "showTitle": false,
     "title": ""
    }
   },
   "outputs": [],
   "source": [
    "count_complete_timeseries_by_week_pdf.to_csv(local_tmp_artifact_dir_path + 'count_complete_timeseries_by_week.csv')"
   ]
  },
  {
   "cell_type": "code",
   "execution_count": 0,
   "metadata": {
    "application/vnd.databricks.v1+cell": {
     "cellMetadata": {
      "byteLimit": 2048000,
      "rowLimit": 10000
     },
     "inputWidgets": {},
     "nuid": "7d600572-ff7b-4976-b6bb-786ea613fe44",
     "showTitle": false,
     "title": ""
    }
   },
   "outputs": [],
   "source": [
    "complete_timeseries_by_week_summary_pdf = count_complete_timeseries_by_week_pdf.describe()\n",
    "complete_timeseries_by_week_summary_pdf"
   ]
  },
  {
   "cell_type": "code",
   "execution_count": 0,
   "metadata": {
    "application/vnd.databricks.v1+cell": {
     "cellMetadata": {
      "byteLimit": 2048000,
      "rowLimit": 10000
     },
     "inputWidgets": {},
     "nuid": "6893dd00-421d-401c-bf25-5395b7e1b70d",
     "showTitle": false,
     "title": ""
    }
   },
   "outputs": [],
   "source": [
    "complete_timeseries_by_week_summary_pdf.reset_index().to_csv(local_tmp_artifact_dir_path + 'complete_timeseries_by_week_summary.csv', index=False)"
   ]
  },
  {
   "cell_type": "markdown",
   "metadata": {
    "application/vnd.databricks.v1+cell": {
     "cellMetadata": {
      "byteLimit": 2048000,
      "rowLimit": 10000
     },
     "inputWidgets": {},
     "nuid": "a95f3031-0d63-423e-8f7b-cd4292c21439",
     "showTitle": false,
     "title": ""
    }
   },
   "source": [
    "### Daytime time series from complete time series data"
   ]
  },
  {
   "cell_type": "code",
   "execution_count": 0,
   "metadata": {
    "application/vnd.databricks.v1+cell": {
     "cellMetadata": {
      "byteLimit": 2048000,
      "rowLimit": 10000
     },
     "inputWidgets": {},
     "nuid": "0394497f-e86b-4906-a5fc-11c727987f2c",
     "showTitle": false,
     "title": ""
    }
   },
   "outputs": [],
   "source": [
    "daytime_timeseries_sdf = complete_timeseries_sdf.filter((hour(\"datetime\") >= 6) & (hour(\"datetime\") < 20)).cache()\n",
    "\n",
    "daytime_timeseries_sdf.printSchema()\n",
    "daytime_timeseries_sdf.show()\n",
    "daytime_timeseries_sdf.count()"
   ]
  },
  {
   "cell_type": "code",
   "execution_count": 0,
   "metadata": {
    "application/vnd.databricks.v1+cell": {
     "cellMetadata": {
      "byteLimit": 2048000,
      "rowLimit": 10000
     },
     "inputWidgets": {},
     "nuid": "bf957137-102c-48eb-8630-263e415e2604",
     "showTitle": false,
     "title": ""
    }
   },
   "outputs": [],
   "source": [
    "daytime_timeseries_count_sdf = daytime_timeseries_sdf.groupBy(\"datetime\").count().withColumnRenamed(\"count\", \"count_records\").cache()\n",
    "\n",
    "daytime_timeseries_count_sdf.printSchema()\n",
    "daytime_timeseries_count_sdf.show()\n",
    "daytime_timeseries_count_sdf.count()"
   ]
  },
  {
   "cell_type": "code",
   "execution_count": 0,
   "metadata": {
    "application/vnd.databricks.v1+cell": {
     "cellMetadata": {
      "byteLimit": 2048000,
      "rowLimit": 10000
     },
     "inputWidgets": {},
     "nuid": "0472013f-ed42-424f-be64-349fcd93a1b7",
     "showTitle": false,
     "title": ""
    }
   },
   "outputs": [],
   "source": [
    "daytime_timeseries_count_pdf = daytime_timeseries_count_sdf.toPandas()\n",
    "\n",
    "daytime_timeseries_count_pdf.set_index(\"datetime\", inplace=True)\n",
    "\n",
    "count_daytime_timeseries_by_week_pdf = daytime_timeseries_count_pdf.resample('W').count()\n",
    "\n",
    "count_daytime_timeseries_by_week_pdf"
   ]
  },
  {
   "cell_type": "code",
   "execution_count": 0,
   "metadata": {
    "application/vnd.databricks.v1+cell": {
     "cellMetadata": {
      "byteLimit": 2048000,
      "rowLimit": 10000
     },
     "inputWidgets": {},
     "nuid": "1e5cd765-7a76-4cd2-bf6b-5782cad12204",
     "showTitle": false,
     "title": ""
    }
   },
   "outputs": [],
   "source": [
    "count_daytime_timeseries_by_week_pdf.to_csv(local_tmp_artifact_dir_path + 'count_daytime_timeseries_by_week.csv')"
   ]
  },
  {
   "cell_type": "code",
   "execution_count": 0,
   "metadata": {
    "application/vnd.databricks.v1+cell": {
     "cellMetadata": {
      "byteLimit": 2048000,
      "rowLimit": 10000
     },
     "inputWidgets": {},
     "nuid": "2006f43f-fdbc-4436-8d86-4b8d8503452e",
     "showTitle": false,
     "title": ""
    }
   },
   "outputs": [],
   "source": [
    "count_daytime_timeseries_by_week_summary_pdf = count_daytime_timeseries_by_week_pdf.describe()\n",
    "count_daytime_timeseries_by_week_summary_pdf"
   ]
  },
  {
   "cell_type": "code",
   "execution_count": 0,
   "metadata": {
    "application/vnd.databricks.v1+cell": {
     "cellMetadata": {
      "byteLimit": 2048000,
      "rowLimit": 10000
     },
     "inputWidgets": {},
     "nuid": "c2dae6ff-f3bc-43ee-9cd8-6d7e63c1accf",
     "showTitle": false,
     "title": ""
    }
   },
   "outputs": [],
   "source": [
    "count_daytime_timeseries_by_week_summary_pdf.reset_index().to_csv(local_tmp_artifact_dir_path + 'count_daytime_timeseries_by_week_summary.csv', index=False)"
   ]
  },
  {
   "cell_type": "markdown",
   "metadata": {
    "application/vnd.databricks.v1+cell": {
     "cellMetadata": {
      "byteLimit": 2048000,
      "rowLimit": 10000
     },
     "inputWidgets": {},
     "nuid": "445d41a6-1a13-4938-bc87-6243254359a7",
     "showTitle": false,
     "title": ""
    }
   },
   "source": [
    "## What is the difference between missing datetime and high temperature?"
   ]
  },
  {
   "cell_type": "code",
   "execution_count": 0,
   "metadata": {
    "application/vnd.databricks.v1+cell": {
     "cellMetadata": {
      "byteLimit": 2048000,
      "rowLimit": 10000
     },
     "inputWidgets": {},
     "nuid": "d9a2aa91-c20a-4f6e-b42a-cff510d24a68",
     "showTitle": false,
     "title": ""
    }
   },
   "outputs": [],
   "source": [
    "merged_weather_data_set_by_station_sdf = merged_weather_data_set_sdf.select(\n",
    "  \"datetime\", \n",
    "  \"station\", \n",
    "  \"avg_temperature_C\"\n",
    ").filter(\n",
    "  F.col(\"avg_temperature_C\").isNotNull()\n",
    ").orderBy(\n",
    "  \"datetime\", \n",
    "  ascending=True\n",
    ")\n",
    "\n",
    "merged_weather_data_set_by_station_sdf.printSchema()\n",
    "merged_weather_data_set_by_station_sdf.show()\n",
    "merged_weather_data_set_by_station_sdf.count()"
   ]
  },
  {
   "cell_type": "code",
   "execution_count": 0,
   "metadata": {
    "application/vnd.databricks.v1+cell": {
     "cellMetadata": {
      "byteLimit": 2048000,
      "rowLimit": 10000
     },
     "inputWidgets": {},
     "nuid": "ec1f2e8e-5273-4a52-a835-7e72ee769647",
     "showTitle": false,
     "title": ""
    }
   },
   "outputs": [],
   "source": [
    "grouped_weather_temperature_by_station_sdf = merged_weather_data_set_by_station_sdf.withColumn(\n",
    "  \"date\", to_date(\"datetime\")\n",
    ").groupBy(\n",
    "  \"date\",\n",
    "  \"station\"\n",
    ").agg(\n",
    "  F.mean(\"avg_temperature_C\").alias(\"daily_avg_temperature_C\")\n",
    ")\n",
    "grouped_weather_temperature_by_station_sdf.printSchema()\n",
    "grouped_weather_temperature_by_station_sdf.show()\n",
    "grouped_weather_temperature_by_station_sdf.count()"
   ]
  },
  {
   "cell_type": "markdown",
   "metadata": {
    "application/vnd.databricks.v1+cell": {
     "cellMetadata": {
      "byteLimit": 2048000,
      "rowLimit": 10000
     },
     "inputWidgets": {},
     "nuid": "9b99ad2f-a20a-4374-a0ae-45d399dac228",
     "showTitle": false,
     "title": ""
    }
   },
   "source": [
    "### Daily average temperature by station"
   ]
  },
  {
   "cell_type": "code",
   "execution_count": 0,
   "metadata": {
    "application/vnd.databricks.v1+cell": {
     "cellMetadata": {
      "byteLimit": 2048000,
      "rowLimit": 10000
     },
     "inputWidgets": {},
     "nuid": "fa773654-4e5c-44ab-a7dd-4e5826bec7b9",
     "showTitle": false,
     "title": ""
    }
   },
   "outputs": [],
   "source": [
    "grouped_weather_temperature_by_station_pdf = grouped_weather_temperature_by_station_sdf.toPandas()\n",
    "\n",
    "fig, ax = plt.subplots(figsize=(28, 16))\n",
    "\n",
    "sns.lineplot(x=\"date\", y=\"daily_avg_temperature_C\", data=grouped_weather_temperature_by_station_pdf, hue=\"station\", ax=ax)\n",
    "\n",
    "ax.set_title(\"Daily average temperature by station\")\n",
    "ax.set_xlabel(\"Date\")\n",
    "ax.set_ylabel(\"Daily average temperature\")\n",
    "ax.grid(True)\n",
    "ax.legend()\n",
    "\n",
    "plt.show()\n",
    "fig.savefig(local_tmp_artifact_dir_path + f\"daily_average_temperature_by_station.png\")"
   ]
  },
  {
   "cell_type": "markdown",
   "metadata": {
    "application/vnd.databricks.v1+cell": {
     "cellMetadata": {
      "byteLimit": 2048000,
      "rowLimit": 10000
     },
     "inputWidgets": {},
     "nuid": "30ae097c-87bb-4a76-b181-b67dd4d47c7c",
     "showTitle": false,
     "title": ""
    }
   },
   "source": [
    "### Missing datetime from original data sources"
   ]
  },
  {
   "cell_type": "code",
   "execution_count": 0,
   "metadata": {
    "application/vnd.databricks.v1+cell": {
     "cellMetadata": {
      "byteLimit": 2048000,
      "rowLimit": 10000
     },
     "inputWidgets": {},
     "nuid": "9c2dfa88-a464-4842-998b-af1a48d067f3",
     "showTitle": false,
     "title": ""
    }
   },
   "outputs": [],
   "source": [
    "from pyspark.sql.functions import expr\n",
    "\n",
    "start_datetime = merged_weather_data_set_by_station_sdf.select(F.min(\"datetime\")).first()[0]\n",
    "end_datetime = merged_weather_data_set_by_station_sdf.select(F.max(\"datetime\")).first()[0]\n",
    "\n",
    "total_hours = (end_datetime - start_datetime).total_seconds() // 3600\n",
    "\n",
    "complete_hourly_timeseries_sdf = spark.range(total_hours).select(\n",
    "    (F.lit(start_datetime) + F.expr(\"INTERVAL 1 HOUR\") * F.col(\"id\")).alias(\"complete_datetime\")\n",
    ")\n",
    "\n",
    "complete_hourly_timeseries_sdf.printSchema()\n",
    "complete_hourly_timeseries_sdf.show()\n",
    "complete_hourly_timeseries_sdf.count()"
   ]
  },
  {
   "cell_type": "code",
   "execution_count": 0,
   "metadata": {
    "application/vnd.databricks.v1+cell": {
     "cellMetadata": {
      "byteLimit": 2048000,
      "rowLimit": 10000
     },
     "inputWidgets": {},
     "nuid": "e17d3c4b-6ecb-4f0a-8cb9-ae0cf0a105db",
     "showTitle": false,
     "title": ""
    }
   },
   "outputs": [],
   "source": [
    "distinct_station_sdf = merged_weather_data_set_by_station_sdf.select(\"station\").distinct()\n",
    "\n",
    "complete_hourly_timeseries_with_station_sdf = complete_hourly_timeseries_sdf.crossJoin(distinct_station_sdf).withColumnRenamed(\"station\", \"WeatherStation\")\n",
    "\n",
    "complete_hourly_timeseries_with_station_sdf.printSchema()\n",
    "complete_hourly_timeseries_with_station_sdf.show()\n",
    "complete_hourly_timeseries_with_station_sdf.count()"
   ]
  },
  {
   "cell_type": "code",
   "execution_count": 0,
   "metadata": {
    "application/vnd.databricks.v1+cell": {
     "cellMetadata": {
      "byteLimit": 2048000,
      "rowLimit": 10000
     },
     "inputWidgets": {},
     "nuid": "ca214f61-3206-4a55-a750-0672b8b0351e",
     "showTitle": false,
     "title": ""
    }
   },
   "outputs": [],
   "source": [
    "joint_complete_timeseries_with_weather_features_sdf = complete_hourly_timeseries_with_station_sdf.join(\n",
    "  merged_weather_data_set_by_station_sdf,\n",
    "  (complete_hourly_timeseries_with_station_sdf[\"complete_datetime\"] == merged_weather_data_set_by_station_sdf[\"datetime\"]) &\n",
    "  (complete_hourly_timeseries_with_station_sdf[\"WeatherStation\"] == merged_weather_data_set_by_station_sdf[\"station\"]),\n",
    "  \"left\"\n",
    ").drop(\"station\").withColumnRenamed(\"WeatherStation\", \"station\")\n",
    "\n",
    "joint_complete_timeseries_with_weather_features_sdf.printSchema()\n",
    "joint_complete_timeseries_with_weather_features_sdf.show()\n",
    "joint_complete_timeseries_with_weather_features_sdf.count()"
   ]
  },
  {
   "cell_type": "code",
   "execution_count": 0,
   "metadata": {
    "application/vnd.databricks.v1+cell": {
     "cellMetadata": {
      "byteLimit": 2048000,
      "rowLimit": 10000
     },
     "inputWidgets": {},
     "nuid": "2dd60033-2dc4-4555-9d5f-22a22f6d76f2",
     "showTitle": false,
     "title": ""
    }
   },
   "outputs": [],
   "source": [
    "joint_complete_timeseries_with_weather_features_sdf.groupBy(\"station\").count().show()"
   ]
  },
  {
   "cell_type": "markdown",
   "metadata": {
    "application/vnd.databricks.v1+cell": {
     "cellMetadata": {
      "byteLimit": 2048000,
      "rowLimit": 10000
     },
     "inputWidgets": {},
     "nuid": "177df345-f01c-4f06-bcb3-cd67286293f7",
     "showTitle": false,
     "title": ""
    }
   },
   "source": [
    "### Count of missing hourly datetime by station"
   ]
  },
  {
   "cell_type": "code",
   "execution_count": 0,
   "metadata": {
    "application/vnd.databricks.v1+cell": {
     "cellMetadata": {
      "byteLimit": 2048000,
      "rowLimit": 10000
     },
     "inputWidgets": {},
     "nuid": "0c3ebb26-88a6-4eaf-9671-6c6020d7b428",
     "showTitle": false,
     "title": ""
    }
   },
   "outputs": [],
   "source": [
    "joint_complete_timeseries_with_weather_features_pdf = joint_complete_timeseries_with_weather_features_sdf.toPandas()\n",
    "\n",
    "missing_datetime_count_pdf = joint_complete_timeseries_with_weather_features_pdf.groupby(\"station\")[\"datetime\"].apply(lambda x: x.isnull().sum())\n",
    "missing_datetime_count_pdf = missing_datetime_count_pdf.reset_index(name = \"count_missing_hourly_datetime\").sort_values(by=\"count_missing_hourly_datetime\", ascending=False)\n",
    "missing_datetime_count_pdf"
   ]
  },
  {
   "cell_type": "code",
   "execution_count": 0,
   "metadata": {
    "application/vnd.databricks.v1+cell": {
     "cellMetadata": {
      "byteLimit": 2048000,
      "rowLimit": 10000
     },
     "inputWidgets": {},
     "nuid": "9c27f869-1b64-4951-b512-b78c220aafca",
     "showTitle": false,
     "title": ""
    }
   },
   "outputs": [],
   "source": [
    "complete_hourly_timeseries_pdf = complete_hourly_timeseries_sdf.toPandas()\n",
    "\n",
    "complete_count = complete_hourly_timeseries_pdf.count()['complete_datetime']\n",
    "\n",
    "missing_datetime_count_pdf[\"complete_hourly_datetime\"] = complete_count\n",
    "missing_datetime_count_pdf['missing_datetime_ratio'] = missing_datetime_count_pdf['count_missing_hourly_datetime'] / missing_datetime_count_pdf['complete_hourly_datetime']\n",
    "\n",
    "missing_datetime_count_pdf"
   ]
  },
  {
   "cell_type": "markdown",
   "metadata": {
    "application/vnd.databricks.v1+cell": {
     "cellMetadata": {
      "byteLimit": 2048000,
      "rowLimit": 10000
     },
     "inputWidgets": {},
     "nuid": "85df3c85-6364-4c0d-aa8b-11fb66a7aa8c",
     "showTitle": false,
     "title": ""
    }
   },
   "source": [
    "### Compare count of missing hourly date time and hourly high temperature records"
   ]
  },
  {
   "cell_type": "code",
   "execution_count": 0,
   "metadata": {
    "application/vnd.databricks.v1+cell": {
     "cellMetadata": {
      "byteLimit": 2048000,
      "rowLimit": 10000
     },
     "inputWidgets": {},
     "nuid": "6c90b974-fbfb-4ae4-9202-f01d40f80928",
     "showTitle": false,
     "title": ""
    }
   },
   "outputs": [],
   "source": [
    "percentage_of_total_hourly_high_temp_pdf = percentage_of_total_hourly_high_temp_sdf.select(\"station\", \"total_hours_of_high_temperature\").toPandas()\n",
    "\n",
    "joint_missing_datetime_with_total_hourly_high_temp_pdf = percentage_of_total_hourly_high_temp_pdf.merge(missing_datetime_count_pdf, on=\"station\")\n",
    "\n",
    "joint_missing_datetime_with_total_hourly_high_temp_pdf.sort_values(by=\"missing_datetime_ratio\", ascending=False, inplace=True)\n",
    "\n",
    "joint_missing_datetime_with_total_hourly_high_temp_pdf"
   ]
  },
  {
   "cell_type": "code",
   "execution_count": 0,
   "metadata": {
    "application/vnd.databricks.v1+cell": {
     "cellMetadata": {
      "byteLimit": 2048000,
      "rowLimit": 10000
     },
     "inputWidgets": {},
     "nuid": "f3e2bf1a-d3fa-4279-be05-0e68a5937090",
     "showTitle": false,
     "title": ""
    }
   },
   "outputs": [],
   "source": [
    "joint_missing_datetime_with_total_hourly_high_temp_pdf.reset_index().to_csv(local_tmp_artifact_dir_path + 'missing_hourly_datetime_with_total_hourly_high_temp.csv', index=False)"
   ]
  },
  {
   "cell_type": "markdown",
   "metadata": {
    "application/vnd.databricks.v1+cell": {
     "cellMetadata": {
      "byteLimit": 2048000,
      "rowLimit": 10000
     },
     "inputWidgets": {},
     "nuid": "0542d219-bc09-47e3-a766-baca91074f6c",
     "showTitle": false,
     "title": ""
    }
   },
   "source": [
    "## Are the missing data underestimate the cumulative weather stress? "
   ]
  },
  {
   "cell_type": "code",
   "execution_count": 0,
   "metadata": {
    "application/vnd.databricks.v1+cell": {
     "cellMetadata": {
      "byteLimit": 2048000,
      "rowLimit": 10000
     },
     "inputWidgets": {},
     "nuid": "84810636-3306-4fb2-bfd5-b0824ea2a8ab",
     "showTitle": false,
     "title": ""
    }
   },
   "outputs": [],
   "source": [
    "joint_complete_timeseries_with_weather_features_pdf.set_index(\"complete_datetime\")\n",
    "\n",
    "grouped_station = joint_complete_timeseries_with_weather_features_pdf.groupby(\"station\").resample(\"W\", on= \"complete_datetime\")\n",
    "\n",
    "weekly_missing_cumulative_weather_stress_pdf = grouped_station.agg({\n",
    "  \"avg_temperature_C\": lambda x: (x >= 32).sum(),\n",
    "  \"datetime\": lambda x:  x.isnull().sum(),\n",
    "  \"complete_datetime\": \"count\"\n",
    "}).rename(columns = {\n",
    "  \"avg_temperature_C\": \"total_hourly_high_temperture\",\n",
    "  \"datetime\": \"total_missing_hourly_datetime\",\n",
    "  \"complete_datetime\": \"total_complete_hourly_datetime\",\n",
    "})\n",
    "\n",
    "weekly_missing_cumulative_weather_stress_pdf = weekly_missing_cumulative_weather_stress_pdf.reset_index().sort_values(by=[\"station\", \"complete_datetime\"])\n",
    "weekly_missing_cumulative_weather_stress_pdf"
   ]
  },
  {
   "cell_type": "code",
   "execution_count": 0,
   "metadata": {
    "application/vnd.databricks.v1+cell": {
     "cellMetadata": {
      "byteLimit": 2048000,
      "rowLimit": 10000
     },
     "inputWidgets": {},
     "nuid": "d62492ad-e34f-4cc0-948e-54f244cd7656",
     "showTitle": false,
     "title": ""
    }
   },
   "outputs": [],
   "source": [
    "weekly_missing_cumulative_weather_stress_pdf.reset_index().to_csv(local_tmp_artifact_dir_path + 'weekly_missing_cumulative_weather_stress.csv', index=False)"
   ]
  },
  {
   "cell_type": "code",
   "execution_count": 0,
   "metadata": {
    "application/vnd.databricks.v1+cell": {
     "cellMetadata": {
      "byteLimit": 2048000,
      "rowLimit": 10000
     },
     "inputWidgets": {},
     "nuid": "5aee259b-2782-4faa-9fd7-894729b93ec9",
     "showTitle": false,
     "title": ""
    }
   },
   "outputs": [],
   "source": [
    "weekly_missing_cumulative_weather_stress_pdf['missing_hourly_datetime_ratio'] = (\n",
    "    weekly_missing_cumulative_weather_stress_pdf['total_missing_hourly_datetime'] /\n",
    "    weekly_missing_cumulative_weather_stress_pdf['total_complete_hourly_datetime']\n",
    ")\n",
    "\n",
    "weekly_missing_cumulative_weather_stress_pdf"
   ]
  },
  {
   "cell_type": "code",
   "execution_count": 0,
   "metadata": {
    "application/vnd.databricks.v1+cell": {
     "cellMetadata": {
      "byteLimit": 2048000,
      "rowLimit": 10000
     },
     "inputWidgets": {},
     "nuid": "00bd00fc-3d5c-49df-81f0-824ed3c634d1",
     "showTitle": false,
     "title": ""
    }
   },
   "outputs": [],
   "source": [
    "filterd_weekly_missing_cumulative_weather_stress_pdf = weekly_missing_cumulative_weather_stress_pdf[\n",
    " (weekly_missing_cumulative_weather_stress_pdf[\"complete_datetime\"].dt.month >= 5) & \n",
    " (weekly_missing_cumulative_weather_stress_pdf[\"complete_datetime\"].dt.month <= 10)\n",
    "]\n",
    "\n",
    "filterd_weekly_missing_cumulative_weather_stress_pdf"
   ]
  },
  {
   "cell_type": "code",
   "execution_count": 0,
   "metadata": {
    "application/vnd.databricks.v1+cell": {
     "cellMetadata": {
      "byteLimit": 2048000,
      "rowLimit": 10000
     },
     "inputWidgets": {},
     "nuid": "cb452ed8-f40a-4447-b445-1d58c2551327",
     "showTitle": false,
     "title": ""
    }
   },
   "outputs": [],
   "source": [
    "filterd_weekly_missing_cumulative_weather_stress_pdf.reset_index().to_csv(local_tmp_artifact_dir_path + 'filterd_weekly_missing_cumulative_weather_stress.csv', index=False)"
   ]
  },
  {
   "cell_type": "markdown",
   "metadata": {
    "application/vnd.databricks.v1+cell": {
     "cellMetadata": {
      "byteLimit": 2048000,
      "rowLimit": 10000
     },
     "inputWidgets": {},
     "nuid": "1e0d3f5a-d7fd-4b8e-9e29-5a74a6ca2dc4",
     "showTitle": false,
     "title": ""
    }
   },
   "source": [
    "## Wrap up"
   ]
  },
  {
   "cell_type": "code",
   "execution_count": 0,
   "metadata": {
    "application/vnd.databricks.v1+cell": {
     "cellMetadata": {
      "byteLimit": 2048000,
      "rowLimit": 10000
     },
     "inputWidgets": {},
     "nuid": "465def0f-d4bb-4373-a914-63a637f9d744",
     "showTitle": false,
     "title": ""
    }
   },
   "outputs": [],
   "source": [
    "mlflow.log_artifacts(local_tmp_artifact_dir_path)"
   ]
  },
  {
   "cell_type": "code",
   "execution_count": 0,
   "metadata": {
    "application/vnd.databricks.v1+cell": {
     "cellMetadata": {
      "byteLimit": 2048000,
      "rowLimit": 10000
     },
     "inputWidgets": {},
     "nuid": "f3644ef3-7e30-423f-8e9f-c641afdb2de6",
     "showTitle": false,
     "title": ""
    }
   },
   "outputs": [],
   "source": [
    "# Remove tmp directory file\n",
    "tmp_dir = os.path.dirname(os.path.dirname(local_tmp_artifact_dir_path))\n",
    "dbutils.fs.rm(\"file:\" + tmp_dir, recurse=True)"
   ]
  },
  {
   "cell_type": "code",
   "execution_count": 0,
   "metadata": {
    "application/vnd.databricks.v1+cell": {
     "cellMetadata": {
      "byteLimit": 2048000,
      "rowLimit": 10000
     },
     "inputWidgets": {},
     "nuid": "700bfb98-ce2e-4d64-80b0-2119437411a8",
     "showTitle": false,
     "title": ""
    }
   },
   "outputs": [],
   "source": [
    "# End MLflow run\n",
    "mlflow.end_run()"
   ]
  }
 ],
 "metadata": {
  "application/vnd.databricks.v1+notebook": {
   "dashboards": [],
   "language": "python",
   "notebookMetadata": {
    "pythonIndentUnit": 2
   },
   "notebookName": "analyze_merged_weather_data_set",
   "widgets": {}
  }
 },
 "nbformat": 4,
 "nbformat_minor": 0
}
