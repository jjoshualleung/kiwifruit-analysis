{
 "cells": [
  {
   "cell_type": "markdown",
   "metadata": {
    "application/vnd.databricks.v1+cell": {
     "cellMetadata": {
      "byteLimit": 2048000,
      "rowLimit": 10000
     },
     "inputWidgets": {},
     "nuid": "d2e6a2b9-3d51-40a5-a1ea-c72e77b071ea",
     "showTitle": false,
     "title": ""
    }
   },
   "source": [
    "# Analyze canes data set"
   ]
  },
  {
   "cell_type": "markdown",
   "metadata": {
    "application/vnd.databricks.v1+cell": {
     "cellMetadata": {
      "byteLimit": 2048000,
      "rowLimit": 10000
     },
     "inputWidgets": {},
     "nuid": "744d9de0-5a79-44c1-b0a8-c5fbd31d806a",
     "showTitle": false,
     "title": ""
    }
   },
   "source": [
    "## Objectives\n",
    "\n",
    "- Compute statistical distribution for dimensions and metrics\n",
    "- Analyze the variance among bays in each maturity area in terms of the relevant metrics\n",
    "- Explore distibution of initial fruit number compared to median cane diameter\n",
    "- Compute distribution discrepancy between the cane diameter and positions"
   ]
  },
  {
   "cell_type": "code",
   "execution_count": 0,
   "metadata": {
    "application/vnd.databricks.v1+cell": {
     "cellMetadata": {
      "byteLimit": 2048000,
      "rowLimit": 10000
     },
     "inputWidgets": {},
     "nuid": "9730ce99-dcdd-499d-af61-90063bc5802b",
     "showTitle": false,
     "title": ""
    }
   },
   "outputs": [],
   "source": [
    "import os\n",
    "import math\n",
    "import mlflow\n",
    "import numpy as np\n",
    "import pandas as pd\n",
    "import seaborn as sns\n",
    "import matplotlib.pyplot as plt\n",
    "from pyspark.sql import functions as F\n",
    "from pyspark.sql.functions import col, count, when\n",
    "sns.set_theme(style=\"darkgrid\")"
   ]
  },
  {
   "cell_type": "markdown",
   "metadata": {
    "application/vnd.databricks.v1+cell": {
     "cellMetadata": {
      "byteLimit": 2048000,
      "rowLimit": 10000
     },
     "inputWidgets": {},
     "nuid": "da04f0b3-791d-4a7e-b8a2-925c0ccca87c",
     "showTitle": false,
     "title": ""
    }
   },
   "source": [
    "## Preamble"
   ]
  },
  {
   "cell_type": "code",
   "execution_count": 0,
   "metadata": {
    "application/vnd.databricks.v1+cell": {
     "cellMetadata": {
      "byteLimit": 2048000,
      "rowLimit": 10000
     },
     "inputWidgets": {},
     "nuid": "4fd12be1-5acf-4514-9bd3-f3e7cbcfdfa2",
     "showTitle": false,
     "title": ""
    }
   },
   "outputs": [],
   "source": [
    "experiment_name = \"/Lab_Project_FruitDropZGS/mlflow_experiment/analyze_canes_data_set_experiment\"\n",
    "mlflow.set_experiment(experiment_name)"
   ]
  },
  {
   "cell_type": "code",
   "execution_count": 0,
   "metadata": {
    "application/vnd.databricks.v1+cell": {
     "cellMetadata": {
      "byteLimit": 2048000,
      "rowLimit": 10000
     },
     "inputWidgets": {},
     "nuid": "e9adaba2-8879-46c7-8534-4ce2282eadd4",
     "showTitle": false,
     "title": ""
    }
   },
   "outputs": [],
   "source": [
    "run_mlflow = mlflow.start_run()\n",
    "\n",
    "local_tmp_artifact_dir_path = \"/Workspace/Lab_Project_FruitDropZGS/notebook_artifacts/tmp/\" + run_mlflow.info.run_id + \"/artifacts/\"\n",
    "\n",
    "if not os.path.exists(local_tmp_artifact_dir_path):\n",
    "  os.makedirs(local_tmp_artifact_dir_path)\n",
    "  \n",
    "local_tmp_artifact_dir_path"
   ]
  },
  {
   "cell_type": "markdown",
   "metadata": {
    "application/vnd.databricks.v1+cell": {
     "cellMetadata": {
      "byteLimit": 2048000,
      "rowLimit": 10000
     },
     "inputWidgets": {},
     "nuid": "f44f0998-2a0b-47da-8a04-08724b5acf20",
     "showTitle": false,
     "title": ""
    }
   },
   "source": [
    "## Configure parameters"
   ]
  },
  {
   "cell_type": "code",
   "execution_count": 0,
   "metadata": {
    "application/vnd.databricks.v1+cell": {
     "cellMetadata": {
      "byteLimit": 2048000,
      "rowLimit": 10000
     },
     "inputWidgets": {},
     "nuid": "e6d0c4d6-2b80-4423-b4e9-ee95665ed68d",
     "showTitle": false,
     "title": ""
    }
   },
   "outputs": [],
   "source": [
    "from canes_params_all_orchards import params_all_orchards\n",
    "from canes_params_select_kpin import params_select_kpin\n",
    "\n",
    "params = params_all_orchards\n",
    "# params = params_select_kpin\n",
    "\n",
    "mlflow.log_params(params)\n",
    "\n",
    "params"
   ]
  },
  {
   "cell_type": "code",
   "execution_count": 0,
   "metadata": {
    "application/vnd.databricks.v1+cell": {
     "cellMetadata": {
      "byteLimit": 2048000,
      "rowLimit": 10000
     },
     "inputWidgets": {},
     "nuid": "85b2feef-6400-4228-b201-f1d6893dc22b",
     "showTitle": false,
     "title": ""
    }
   },
   "outputs": [],
   "source": [
    "if params[\"KPIN\"]:\n",
    "  kpin_condition = col(\"KPIN\").isin(params[\"KPIN\"])\n",
    "  mlflow.log_params({\"KPIN\": params[\"KPIN\"]})\n",
    "else:\n",
    "  kpin_condition = col(\"KPIN\").isNotNull() | col(\"KPIN\").isNull()"
   ]
  },
  {
   "cell_type": "markdown",
   "metadata": {
    "application/vnd.databricks.v1+cell": {
     "cellMetadata": {
      "byteLimit": 2048000,
      "rowLimit": 10000
     },
     "inputWidgets": {},
     "nuid": "3c5ee572-92f8-4be0-ad72-b74c75deda32",
     "showTitle": false,
     "title": ""
    }
   },
   "source": [
    "## Load data"
   ]
  },
  {
   "cell_type": "code",
   "execution_count": 0,
   "metadata": {
    "application/vnd.databricks.v1+cell": {
     "cellMetadata": {
      "byteLimit": 2048000,
      "rowLimit": 10000
     },
     "inputWidgets": {},
     "nuid": "58fc5d9d-27ad-4423-b7e4-4640ea5dfc7e",
     "showTitle": false,
     "title": ""
    }
   },
   "outputs": [],
   "source": [
    "from canes_expected_schema import canes_expected_schema\n",
    "\n",
    "canes_expected_schema"
   ]
  },
  {
   "cell_type": "code",
   "execution_count": 0,
   "metadata": {
    "application/vnd.databricks.v1+cell": {
     "cellMetadata": {
      "byteLimit": 2048000,
      "rowLimit": 10000
     },
     "inputWidgets": {},
     "nuid": "590adea1-7875-4d00-be0b-5512f9740e77",
     "showTitle": false,
     "title": ""
    }
   },
   "outputs": [],
   "source": [
    "initial_sdf = spark.table(params['table_name'])\n",
    "    \n",
    "fruit_sdf = initial_sdf.filter(kpin_condition).cache()\n",
    "\n",
    "fruit_count_sdf = fruit_sdf.count()\n",
    "mlflow.log_metric(\"fruit_count\",fruit_count_sdf)\n",
    "\n",
    "fruit_sdf.printSchema()\n",
    "fruit_sdf.show()\n",
    "fruit_count_sdf"
   ]
  },
  {
   "cell_type": "code",
   "execution_count": 0,
   "metadata": {
    "application/vnd.databricks.v1+cell": {
     "cellMetadata": {
      "byteLimit": 2048000,
      "rowLimit": 10000
     },
     "inputWidgets": {},
     "nuid": "8b213d78-649b-4f70-b894-58c35664bb74",
     "showTitle": false,
     "title": ""
    }
   },
   "outputs": [],
   "source": [
    "assert canes_expected_schema == initial_sdf.schema"
   ]
  },
  {
   "cell_type": "markdown",
   "metadata": {
    "application/vnd.databricks.v1+cell": {
     "cellMetadata": {
      "byteLimit": 2048000,
      "rowLimit": 10000
     },
     "inputWidgets": {},
     "nuid": "7884fdb7-010b-4714-89d6-40aeabb43096",
     "showTitle": false,
     "title": ""
    }
   },
   "source": [
    "### Count of missing values"
   ]
  },
  {
   "cell_type": "code",
   "execution_count": 0,
   "metadata": {
    "application/vnd.databricks.v1+cell": {
     "cellMetadata": {
      "byteLimit": 2048000,
      "rowLimit": 10000
     },
     "inputWidgets": {},
     "nuid": "41a31292-c087-45b8-8a18-a07746e86e79",
     "showTitle": false,
     "title": ""
    }
   },
   "outputs": [],
   "source": [
    "fruit_sdf.select([count(when(col(c).isNull(), c)).alias(c) for c in fruit_sdf.columns]).show()"
   ]
  },
  {
   "cell_type": "markdown",
   "metadata": {
    "application/vnd.databricks.v1+cell": {
     "cellMetadata": {
      "byteLimit": 2048000,
      "rowLimit": 10000
     },
     "inputWidgets": {},
     "nuid": "b8f07cd6-2766-4b15-977d-7e21e4c41604",
     "showTitle": false,
     "title": ""
    }
   },
   "source": [
    "## Compute statistical distribution for dimensions"
   ]
  },
  {
   "cell_type": "code",
   "execution_count": 0,
   "metadata": {
    "application/vnd.databricks.v1+cell": {
     "cellMetadata": {
      "byteLimit": 2048000,
      "rowLimit": 10000
     },
     "inputWidgets": {},
     "nuid": "626fb13c-a987-44d1-8283-4ffa97596122",
     "showTitle": false,
     "title": ""
    }
   },
   "outputs": [],
   "source": [
    "dimensions_summary_sdf = fruit_sdf.select(\n",
    "  \"grower\",\n",
    "  \"KPIN\",\n",
    "  \"maturity_area\",\n",
    "  \"bay\",\n",
    "  \"latitude\",\n",
    "  \"longitude\",\n",
    "  \"sq_meters_bay\",\n",
    "  \"cane_number\",\n",
    ").summary()\n",
    "\n",
    "dimensions_summary_sdf.printSchema()\n",
    "dimensions_summary_sdf.show()"
   ]
  },
  {
   "cell_type": "code",
   "execution_count": 0,
   "metadata": {
    "application/vnd.databricks.v1+cell": {
     "cellMetadata": {
      "byteLimit": 2048000,
      "rowLimit": 10000
     },
     "inputWidgets": {},
     "nuid": "9d9504ae-245e-482b-abb3-ed5b168f0d38",
     "showTitle": false,
     "title": ""
    }
   },
   "outputs": [],
   "source": [
    "dimensions_summary_pdf = dimensions_summary_sdf.toPandas()\n",
    "dimensions_summary_pdf.to_csv(local_tmp_artifact_dir_path + 'dimensions_summary.csv', index=False)"
   ]
  },
  {
   "cell_type": "markdown",
   "metadata": {
    "application/vnd.databricks.v1+cell": {
     "cellMetadata": {
      "byteLimit": 2048000,
      "rowLimit": 10000
     },
     "inputWidgets": {},
     "nuid": "589e0904-b1cc-4d14-9d6f-89624ad1004e",
     "showTitle": false,
     "title": ""
    }
   },
   "source": [
    "## Compute statistical distribution for metrics"
   ]
  },
  {
   "cell_type": "code",
   "execution_count": 0,
   "metadata": {
    "application/vnd.databricks.v1+cell": {
     "cellMetadata": {
      "byteLimit": 2048000,
      "rowLimit": 10000
     },
     "inputWidgets": {},
     "nuid": "e81f1b77-1892-4637-8f7c-b216e9cefbc5",
     "showTitle": false,
     "title": ""
    }
   },
   "outputs": [],
   "source": [
    "metrics_summary_sdf = fruit_sdf.select(\n",
    "  \"cane_length_cm\",\n",
    "  \"cane_diameter_bottom_cm\",\n",
    "  \"cane_diameter_middle_cm\",\n",
    "  \"cane_diameter_top_cm\",\n",
    "  \"king_fruit_number\",\n",
    "  \"lateral_fruit_number\",\n",
    "  \"initial_fruit_number\",\n",
    ").summary()\n",
    "\n",
    "metrics_summary_sdf.printSchema()\n",
    "metrics_summary_sdf.show()"
   ]
  },
  {
   "cell_type": "code",
   "execution_count": 0,
   "metadata": {
    "application/vnd.databricks.v1+cell": {
     "cellMetadata": {
      "byteLimit": 2048000,
      "rowLimit": 10000
     },
     "inputWidgets": {},
     "nuid": "5c2e3131-9565-4d89-b824-4cb94d2bf2c7",
     "showTitle": false,
     "title": ""
    }
   },
   "outputs": [],
   "source": [
    "metrics_summary_pdf = metrics_summary_sdf.toPandas()\n",
    "metrics_summary_pdf.to_csv(local_tmp_artifact_dir_path + 'metrics_summary.csv', index=False)"
   ]
  },
  {
   "cell_type": "markdown",
   "metadata": {
    "application/vnd.databricks.v1+cell": {
     "cellMetadata": {
      "byteLimit": 2048000,
      "rowLimit": 10000
     },
     "inputWidgets": {},
     "nuid": "fe452b51-97c0-487e-b1a7-0d3fbdd7bdf5",
     "showTitle": false,
     "title": ""
    }
   },
   "source": [
    "## Analyze the distribution of initial fruit count on the canes"
   ]
  },
  {
   "cell_type": "code",
   "execution_count": 0,
   "metadata": {
    "application/vnd.databricks.v1+cell": {
     "cellMetadata": {
      "byteLimit": 2048000,
      "rowLimit": 10000
     },
     "inputWidgets": {},
     "nuid": "bdb86a38-0353-4cd0-8f86-7ad7430a66b1",
     "showTitle": false,
     "title": ""
    }
   },
   "outputs": [],
   "source": [
    "initial_fruit_number_sdf = fruit_sdf.select(\"initial_fruit_number\")\n",
    "\n",
    "initial_fruit_number_sdf.printSchema()\n",
    "initial_fruit_number_sdf.show()\n",
    "initial_fruit_number_sdf.count()"
   ]
  },
  {
   "cell_type": "code",
   "execution_count": 0,
   "metadata": {
    "application/vnd.databricks.v1+cell": {
     "cellMetadata": {
      "byteLimit": 2048000,
      "rowLimit": 10000
     },
     "inputWidgets": {},
     "nuid": "de138995-a986-4f49-b85d-8a3f0b18ecaa",
     "showTitle": false,
     "title": ""
    }
   },
   "outputs": [],
   "source": [
    "initial_fruit_number_summary_sdf = initial_fruit_number_sdf.summary()\n",
    "initial_fruit_number_summary_sdf.show()"
   ]
  },
  {
   "cell_type": "code",
   "execution_count": 0,
   "metadata": {
    "application/vnd.databricks.v1+cell": {
     "cellMetadata": {
      "byteLimit": 2048000,
      "rowLimit": 10000
     },
     "inputWidgets": {},
     "nuid": "02350ac9-e20d-4fcd-9da1-bb40b4af22d9",
     "showTitle": false,
     "title": ""
    }
   },
   "outputs": [],
   "source": [
    "initial_fruit_number_summary_pdf = initial_fruit_number_summary_sdf.toPandas()\n",
    "initial_fruit_number_summary_pdf.to_csv(local_tmp_artifact_dir_path + 'canes_initial_fruit_number_summary.csv', index=False)"
   ]
  },
  {
   "cell_type": "markdown",
   "metadata": {
    "application/vnd.databricks.v1+cell": {
     "cellMetadata": {
      "byteLimit": 2048000,
      "rowLimit": 10000
     },
     "inputWidgets": {},
     "nuid": "c3869465-3b4a-477e-ad4e-fa5c3a8d73b0",
     "showTitle": false,
     "title": ""
    }
   },
   "source": [
    "## The variance among bays in each maturity area in terms of the initial fruit number"
   ]
  },
  {
   "cell_type": "code",
   "execution_count": 0,
   "metadata": {
    "application/vnd.databricks.v1+cell": {
     "cellMetadata": {
      "byteLimit": 2048000,
      "rowLimit": 10000
     },
     "inputWidgets": {},
     "nuid": "97363f34-96c3-4373-bf3f-68f14d6e128c",
     "showTitle": false,
     "title": ""
    }
   },
   "outputs": [],
   "source": [
    "total_initial_fruit_number_among_bay_sdf = fruit_sdf.groupBy([\"grower\", \"KPIN\", \"maturity_area\", \"bay\"]).agg(\n",
    "  F.sum(\"initial_fruit_number\").alias(\"total_initial_fruit_number\"),\n",
    ")\n",
    "\n",
    "total_initial_fruit_number_among_bay_sdf.printSchema()\n",
    "total_initial_fruit_number_among_bay_sdf.show()\n",
    "total_initial_fruit_number_among_bay_sdf.count()"
   ]
  },
  {
   "cell_type": "code",
   "execution_count": 0,
   "metadata": {
    "application/vnd.databricks.v1+cell": {
     "cellMetadata": {
      "byteLimit": 2048000,
      "rowLimit": 10000
     },
     "inputWidgets": {},
     "nuid": "fe3aa5f9-7961-420f-9fc3-feb8075a69e2",
     "showTitle": false,
     "title": ""
    }
   },
   "outputs": [],
   "source": [
    "total_initial_fruit_number_among_bay_pdf = total_initial_fruit_number_among_bay_sdf.toPandas()\n",
    "total_initial_fruit_number_among_bay_pdf.info()\n",
    "total_initial_fruit_number_among_bay_pdf"
   ]
  },
  {
   "cell_type": "code",
   "execution_count": 0,
   "metadata": {
    "application/vnd.databricks.v1+cell": {
     "cellMetadata": {
      "byteLimit": 2048000,
      "rowLimit": 10000
     },
     "inputWidgets": {},
     "nuid": "89f64e82-1a7a-4cc9-b66c-0f96e29b31c3",
     "showTitle": false,
     "title": ""
    }
   },
   "outputs": [],
   "source": [
    "total_initial_fruit_number_among_bay_pdf.to_csv(local_tmp_artifact_dir_path + 'total_number_of_fruit_by_bay.csv', index=False)"
   ]
  },
  {
   "cell_type": "markdown",
   "metadata": {
    "application/vnd.databricks.v1+cell": {
     "cellMetadata": {
      "byteLimit": 2048000,
      "rowLimit": 10000
     },
     "inputWidgets": {},
     "nuid": "f767fad3-ba72-43ad-b0e1-2c657985301a",
     "showTitle": false,
     "title": ""
    }
   },
   "source": [
    "### Distribution of total initial fruit number across bay by kpin and maturity area"
   ]
  },
  {
   "cell_type": "code",
   "execution_count": 0,
   "metadata": {
    "application/vnd.databricks.v1+cell": {
     "cellMetadata": {
      "byteLimit": 2048000,
      "rowLimit": 10000
     },
     "inputWidgets": {},
     "nuid": "f042ef71-5ec0-4b79-903b-8ab28149d5bb",
     "showTitle": false,
     "title": ""
    }
   },
   "outputs": [],
   "source": [
    "total_initial_fruit_number_among_bay_pdf['KPIN_Maturity_Area'] = total_initial_fruit_number_among_bay_pdf['KPIN'].astype(str) + '_' + total_initial_fruit_number_among_bay_pdf['maturity_area']\n",
    "\n",
    "fig, ax = plt.subplots(figsize=(16, 22))\n",
    "sns.boxplot(x=\"total_initial_fruit_number\", y=\"KPIN_Maturity_Area\", data=total_initial_fruit_number_among_bay_pdf, orient=\"h\", ax=ax)\n",
    "ax.set_title(f\"Distribution of total_initial_fruit_number across bay by kpin and maturity area\")\n",
    "ax.grid(True)\n",
    "plt.show()\n",
    "fig.savefig(local_tmp_artifact_dir_path + f\"boxplot_for_distribution_of_total_initial_fruit_number.png\")"
   ]
  },
  {
   "cell_type": "markdown",
   "metadata": {
    "application/vnd.databricks.v1+cell": {
     "cellMetadata": {
      "byteLimit": 2048000,
      "rowLimit": 10000
     },
     "inputWidgets": {},
     "nuid": "6b2a5b25-8d49-4e51-b186-7dd89e9963bb",
     "showTitle": false,
     "title": ""
    }
   },
   "source": [
    "## The variance among bays in each maturity area in terms of the median cane features"
   ]
  },
  {
   "cell_type": "code",
   "execution_count": 0,
   "metadata": {
    "application/vnd.databricks.v1+cell": {
     "cellMetadata": {
      "byteLimit": 2048000,
      "rowLimit": 10000
     },
     "inputWidgets": {},
     "nuid": "c22aa86a-a5e9-4a27-8931-65a0f2cd01dd",
     "showTitle": false,
     "title": ""
    }
   },
   "outputs": [],
   "source": [
    "median_cane_features_sdf = fruit_sdf.groupBy([\"grower\", \"KPIN\", \"maturity_area\", \"bay\"]).agg(\n",
    "F.median(\"cane_length_cm\").alias(\"median_cane_length_cm\"),\n",
    "F.median(\"cane_diameter_bottom_cm\").alias(\"median_cane_diameter_bottom_cm\"),\n",
    "F.median(\"cane_diameter_middle_cm\").alias(\"median_cane_diameter_middle_cm\"),\n",
    "F.median(\"cane_diameter_top_cm\").alias(\"median_cane_diameter_top_cm\"),\n",
    ")\n",
    "                  \n",
    "median_cane_features_sdf.printSchema()\n",
    "median_cane_features_sdf.show()\n",
    "median_cane_features_sdf.count()"
   ]
  },
  {
   "cell_type": "code",
   "execution_count": 0,
   "metadata": {
    "application/vnd.databricks.v1+cell": {
     "cellMetadata": {
      "byteLimit": 2048000,
      "rowLimit": 10000
     },
     "inputWidgets": {},
     "nuid": "d767184c-4881-494a-a41d-47840bf3a9b7",
     "showTitle": false,
     "title": ""
    }
   },
   "outputs": [],
   "source": [
    "median_cane_features_pdf = median_cane_features_sdf.toPandas()\n",
    "median_cane_features_pdf.to_csv(local_tmp_artifact_dir_path + 'cane_features_median.csv', index=False)"
   ]
  },
  {
   "cell_type": "markdown",
   "metadata": {
    "application/vnd.databricks.v1+cell": {
     "cellMetadata": {
      "byteLimit": 2048000,
      "rowLimit": 10000
     },
     "inputWidgets": {},
     "nuid": "7fb110a3-1589-42ce-b111-138accf0b62e",
     "showTitle": false,
     "title": ""
    }
   },
   "source": [
    "### Distribution of cane features across bay by kpin and maturity area"
   ]
  },
  {
   "cell_type": "code",
   "execution_count": 0,
   "metadata": {
    "application/vnd.databricks.v1+cell": {
     "cellMetadata": {
      "byteLimit": 2048000,
      "rowLimit": 10000
     },
     "inputWidgets": {},
     "nuid": "aa16e64e-5a03-46f4-ba4e-2326f84469ce",
     "showTitle": false,
     "title": ""
    }
   },
   "outputs": [],
   "source": [
    "median_cane_features_pdf['KPIN_Maturity_Area'] = median_cane_features_pdf['KPIN'].astype(str) + '_' + median_cane_features_pdf['maturity_area']\n",
    "\n",
    "features = median_cane_features_pdf.iloc[:,-5:-1]\n",
    "\n",
    "for feature in features:\n",
    "    fig, ax = plt.subplots(figsize=(16, 22))\n",
    "    sns.boxplot(x=feature, y=\"KPIN_Maturity_Area\", data=median_cane_features_pdf, orient=\"h\", ax=ax)\n",
    "    ax.set_title(f\"Distribution of {feature} across bay by kpin and maturity area\")\n",
    "    ax.grid(True)\n",
    "    plt.show()\n",
    "    fig.savefig(local_tmp_artifact_dir_path + f\"boxplot_for_distribution_of_{feature}.png\")"
   ]
  },
  {
   "cell_type": "markdown",
   "metadata": {
    "application/vnd.databricks.v1+cell": {
     "cellMetadata": {
      "byteLimit": 2048000,
      "rowLimit": 10000
     },
     "inputWidgets": {},
     "nuid": "59883777-0b8f-4c6e-bb35-c4882ca05bae",
     "showTitle": false,
     "title": ""
    }
   },
   "source": [
    "## Distribution of initial fruit number compared to cane middle diameter"
   ]
  },
  {
   "cell_type": "code",
   "execution_count": 0,
   "metadata": {
    "application/vnd.databricks.v1+cell": {
     "cellMetadata": {
      "byteLimit": 2048000,
      "rowLimit": 10000
     },
     "inputWidgets": {},
     "nuid": "38dd3c5b-d2e1-4168-8dc7-074bfdf9877d",
     "showTitle": false,
     "title": ""
    }
   },
   "outputs": [],
   "source": [
    "distribution_of_initial_num_and_cane_middle_sdf = fruit_sdf.select(\"cane_diameter_middle_cm\",\"initial_fruit_number\")\n",
    "\n",
    "distribution_of_initial_num_and_cane_middle_sdf.printSchema()\n",
    "distribution_of_initial_num_and_cane_middle_sdf.show()\n",
    "distribution_of_initial_num_and_cane_middle_sdf.count()"
   ]
  },
  {
   "cell_type": "code",
   "execution_count": 0,
   "metadata": {
    "application/vnd.databricks.v1+cell": {
     "cellMetadata": {
      "byteLimit": 2048000,
      "rowLimit": 10000
     },
     "inputWidgets": {},
     "nuid": "329f0c7a-6e10-49f2-ad8a-802319248724",
     "showTitle": false,
     "title": ""
    }
   },
   "outputs": [],
   "source": [
    "distribution_of_initial_num_and_cane_middle_pdf = distribution_of_initial_num_and_cane_middle_sdf.toPandas()\n",
    "\n",
    "fig, ax = plt.subplots(2, 1, figsize=(22, 18))\n",
    "sns.scatterplot(x=\"cane_diameter_middle_cm\", y=\"initial_fruit_number\", data=distribution_of_initial_num_and_cane_middle_pdf, ax=ax[0])\n",
    "ax[0].set_title(f\"Distribution of initial fruit number compared to cane middle diameter\")\n",
    "ax[0].grid(True)\n",
    "\n",
    "bins = np.arange(\n",
    "  math.floor(distribution_of_initial_num_and_cane_middle_pdf[\"cane_diameter_middle_cm\"].min()),\n",
    "  math.ceil(distribution_of_initial_num_and_cane_middle_pdf[\"cane_diameter_middle_cm\"].max()),\n",
    "  0.05,\n",
    ")\n",
    "\n",
    "sns.histplot(distribution_of_initial_num_and_cane_middle_pdf[\"cane_diameter_middle_cm\"], bins=bins, ax=ax[1])\n",
    "ax[1].set_title(\"Distribution density for cane middle diameter\")\n",
    "ax[1].set_xlabel(\"Cane middle diameter\")\n",
    "ax[1].set_ylabel(\"Frequency\")\n",
    "ax[1].set_yscale(\"log\")\n",
    "\n",
    "plt.tight_layout()\n",
    "plt.show()\n",
    "\n",
    "fig.savefig(local_tmp_artifact_dir_path + f\"distribution_of_initial_fruit_number_comapred_to_cane_middle_diameter.png\")"
   ]
  },
  {
   "cell_type": "markdown",
   "metadata": {
    "application/vnd.databricks.v1+cell": {
     "cellMetadata": {
      "byteLimit": 2048000,
      "rowLimit": 10000
     },
     "inputWidgets": {},
     "nuid": "4b5f9644-5cc6-4014-b93d-f32e5bcb13ec",
     "showTitle": false,
     "title": ""
    }
   },
   "source": [
    "## Distribution discrepancy between the cane diameter and positions"
   ]
  },
  {
   "cell_type": "code",
   "execution_count": 0,
   "metadata": {
    "application/vnd.databricks.v1+cell": {
     "cellMetadata": {
      "byteLimit": 2048000,
      "rowLimit": 10000
     },
     "inputWidgets": {},
     "nuid": "eac24dbf-1020-4977-8765-3ef766d86504",
     "showTitle": false,
     "title": ""
    }
   },
   "outputs": [],
   "source": [
    "fruit_cane_diameter_positions_diff_sdf = fruit_sdf.withColumn(\n",
    "  \"cane_diameter_bottom_middle_diff\",col(\"cane_diameter_bottom_cm\")-col(\"cane_diameter_middle_cm\")\n",
    ").withColumn(\"cane_diameter_middle_top_diff\", col(\"cane_diameter_middle_cm\")-col(\"cane_diameter_top_cm\"))"
   ]
  },
  {
   "cell_type": "code",
   "execution_count": 0,
   "metadata": {
    "application/vnd.databricks.v1+cell": {
     "cellMetadata": {
      "byteLimit": 2048000,
      "rowLimit": 10000
     },
     "inputWidgets": {},
     "nuid": "0075d5ed-47d0-4fe6-bcc4-59581e6ae0c7",
     "showTitle": false,
     "title": ""
    }
   },
   "outputs": [],
   "source": [
    "fruit_cane_diameter_positions_diff_sdf.printSchema()\n",
    "fruit_cane_diameter_positions_diff_sdf.show()\n",
    "fruit_cane_diameter_positions_diff_sdf.count()"
   ]
  },
  {
   "cell_type": "code",
   "execution_count": 0,
   "metadata": {
    "application/vnd.databricks.v1+cell": {
     "cellMetadata": {
      "byteLimit": 2048000,
      "rowLimit": 10000
     },
     "inputWidgets": {},
     "nuid": "b7703148-b8c1-40a3-ba8e-3f785da910fd",
     "showTitle": false,
     "title": ""
    }
   },
   "outputs": [],
   "source": [
    "cane_diameter_positions_diff_sdf = fruit_cane_diameter_positions_diff_sdf.select(\n",
    "  \"grower\",\n",
    "  \"KPIN\",\n",
    "  \"maturity_area\",\n",
    "  \"bay\",\n",
    "  \"initial_fruit_number\",\n",
    "  \"cane_diameter_bottom_middle_diff\",\n",
    "  \"cane_diameter_middle_top_diff\",\n",
    ")\n",
    "cane_diameter_positions_diff_sdf.show()\n",
    "cane_diameter_positions_diff_sdf.count()"
   ]
  },
  {
   "cell_type": "code",
   "execution_count": 0,
   "metadata": {
    "application/vnd.databricks.v1+cell": {
     "cellMetadata": {
      "byteLimit": 2048000,
      "rowLimit": 10000
     },
     "inputWidgets": {},
     "nuid": "081f6b15-b947-4e02-b1d5-5af572197a55",
     "showTitle": false,
     "title": ""
    }
   },
   "outputs": [],
   "source": [
    "cane_diameter_positions_diff_pdf = cane_diameter_positions_diff_sdf.toPandas()\n",
    "\n",
    "positions_diff = cane_diameter_positions_diff_pdf.iloc[:,-2:]\n",
    "\n",
    "for position in positions_diff:\n",
    "  fig, ax = plt.subplots(2, 1, figsize=(22, 18))\n",
    "  sns.scatterplot(x=position, y=\"initial_fruit_number\", data=cane_diameter_positions_diff_pdf, ax=ax[0])\n",
    "  ax[0].set_title(f\"Distribution discrepancy between initial fruit number and {position}\")\n",
    "  ax[0].grid(True)\n",
    "\n",
    "  bins = np.arange(\n",
    "    math.floor(cane_diameter_positions_diff_pdf[position].min()),\n",
    "    math.ceil(cane_diameter_positions_diff_pdf[position].max()),\n",
    "    0.05,\n",
    "  )\n",
    "  sns.histplot(cane_diameter_positions_diff_pdf[position], bins=bins, ax=ax[1])\n",
    "  ax[1].set_title(f\"Distribution density for discrepancy between initial fruit number and {position}\")\n",
    "  ax[1].set_ylabel(\"Frequency\")\n",
    "  ax[1].set_yscale(\"log\")\n",
    "\n",
    "  plt.show()\n",
    "  fig.savefig(local_tmp_artifact_dir_path + f\"distribution_discrepancy_of_{position}.png\")"
   ]
  },
  {
   "cell_type": "markdown",
   "metadata": {
    "application/vnd.databricks.v1+cell": {
     "cellMetadata": {
      "byteLimit": 2048000,
      "rowLimit": 10000
     },
     "inputWidgets": {},
     "nuid": "1fdb3a51-db63-461b-8544-1605df6052d3",
     "showTitle": false,
     "title": ""
    }
   },
   "source": [
    "### Explore negative discrepancy values between cane diameter positions in terms of bays and maturity area"
   ]
  },
  {
   "cell_type": "markdown",
   "metadata": {
    "application/vnd.databricks.v1+cell": {
     "cellMetadata": {
      "byteLimit": 2048000,
      "rowLimit": 10000
     },
     "inputWidgets": {},
     "nuid": "1f001ae7-a70f-479b-8726-1bdae9dfd438",
     "showTitle": false,
     "title": ""
    }
   },
   "source": [
    "#### Negative discrepancy values between cane bottom and middle diameter in terms of bays and maturity area"
   ]
  },
  {
   "cell_type": "code",
   "execution_count": 0,
   "metadata": {
    "application/vnd.databricks.v1+cell": {
     "cellMetadata": {
      "byteLimit": 2048000,
      "rowLimit": 10000
     },
     "inputWidgets": {},
     "nuid": "2a01b3a8-f397-447d-b074-635c296e8a86",
     "showTitle": false,
     "title": ""
    }
   },
   "outputs": [],
   "source": [
    "negative_bottom_middle_cane_diameter_sdf = cane_diameter_positions_diff_sdf.select(\n",
    "  \"grower\",\n",
    "  \"KPIN\",\n",
    "  \"maturity_area\",\n",
    "  \"bay\",\n",
    "  \"initial_fruit_number\",\n",
    "  \"cane_diameter_bottom_middle_diff\",\n",
    ").filter(cane_diameter_positions_diff_sdf[\"cane_diameter_bottom_middle_diff\"] < 0)\n",
    "\n",
    "negative_bottom_middle_cane_diameter_sdf.show()\n",
    "negative_bottom_middle_cane_diameter_sdf.count()"
   ]
  },
  {
   "cell_type": "code",
   "execution_count": 0,
   "metadata": {
    "application/vnd.databricks.v1+cell": {
     "cellMetadata": {
      "byteLimit": 2048000,
      "rowLimit": 10000
     },
     "inputWidgets": {},
     "nuid": "5b31372d-1aea-42c0-9f5a-81d9ea38d8cd",
     "showTitle": false,
     "title": ""
    }
   },
   "outputs": [],
   "source": [
    "negative_bottom_middle_cane_diameter_maturity_area_sdf = negative_bottom_middle_cane_diameter_sdf.groupBy(\n",
    "  \"grower\",\n",
    "  \"KPIN\",\n",
    "  \"maturity_area\"\n",
    ").count().withColumnRenamed(\n",
    "  \"count\", \"count_negative_values\"\n",
    ").orderBy(\"count\", ascending=False)\n",
    "\n",
    "negative_bottom_middle_cane_diameter_maturity_area_sdf.show()\n",
    "negative_bottom_middle_cane_diameter_maturity_area_sdf.count()"
   ]
  },
  {
   "cell_type": "code",
   "execution_count": 0,
   "metadata": {
    "application/vnd.databricks.v1+cell": {
     "cellMetadata": {
      "byteLimit": 2048000,
      "rowLimit": 10000
     },
     "inputWidgets": {},
     "nuid": "849cec33-04b4-41cc-a620-ae0824a9899b",
     "showTitle": false,
     "title": ""
    }
   },
   "outputs": [],
   "source": [
    "negative_bottom_middle_cane_diameter_maturity_area_bay_sdf = negative_bottom_middle_cane_diameter_sdf.groupBy(\n",
    "  \"grower\",\n",
    "  \"KPIN\",\n",
    "  \"maturity_area\",\n",
    "  \"bay\"\n",
    ").count().withColumnRenamed(\n",
    "  \"count\", \"count_negative_values\"\n",
    ").orderBy(\"count\", ascending=False)\n",
    "\n",
    "negative_bottom_middle_cane_diameter_maturity_area_bay_sdf.show()\n",
    "negative_bottom_middle_cane_diameter_maturity_area_bay_sdf.count()"
   ]
  },
  {
   "cell_type": "markdown",
   "metadata": {
    "application/vnd.databricks.v1+cell": {
     "cellMetadata": {
      "byteLimit": 2048000,
      "rowLimit": 10000
     },
     "inputWidgets": {},
     "nuid": "6065f849-03c3-4e84-a638-59fa2066a606",
     "showTitle": false,
     "title": ""
    }
   },
   "source": [
    "#### Negative discrepancy values between cane middle and top diameter in terms of bays and maturity area"
   ]
  },
  {
   "cell_type": "code",
   "execution_count": 0,
   "metadata": {
    "application/vnd.databricks.v1+cell": {
     "cellMetadata": {
      "byteLimit": 2048000,
      "rowLimit": 10000
     },
     "inputWidgets": {},
     "nuid": "d7f5c536-bbf8-4df5-af41-21d8a3ab4d56",
     "showTitle": false,
     "title": ""
    }
   },
   "outputs": [],
   "source": [
    "negative_middle_top_cane_diameter_sdf = cane_diameter_positions_diff_sdf.select(\n",
    "  \"grower\",\n",
    "  \"KPIN\",\n",
    "  \"maturity_area\",\n",
    "  \"bay\",\n",
    "  \"initial_fruit_number\",\n",
    "  \"cane_diameter_middle_top_diff\",\n",
    ").filter(cane_diameter_positions_diff_sdf[\"cane_diameter_middle_top_diff\"] < 0)\n",
    "\n",
    "negative_middle_top_cane_diameter_sdf.show()\n",
    "negative_middle_top_cane_diameter_sdf.count()"
   ]
  },
  {
   "cell_type": "code",
   "execution_count": 0,
   "metadata": {
    "application/vnd.databricks.v1+cell": {
     "cellMetadata": {
      "byteLimit": 2048000,
      "rowLimit": 10000
     },
     "inputWidgets": {},
     "nuid": "596da0be-b4d4-4620-9a71-f4ef07f36e52",
     "showTitle": false,
     "title": ""
    }
   },
   "outputs": [],
   "source": [
    "negative_middle_top_cane_diameter_maturity_area_sdf = negative_middle_top_cane_diameter_sdf.groupBy(\n",
    "  \"grower\",\n",
    "  \"KPIN\",\n",
    "  \"maturity_area\"\n",
    ").count().withColumnRenamed(\n",
    "  \"count\", \"count_negative_values\"\n",
    ").orderBy(\"count\", ascending=False)\n",
    "\n",
    "negative_middle_top_cane_diameter_maturity_area_sdf.show()\n",
    "negative_middle_top_cane_diameter_maturity_area_sdf.count()"
   ]
  },
  {
   "cell_type": "code",
   "execution_count": 0,
   "metadata": {
    "application/vnd.databricks.v1+cell": {
     "cellMetadata": {
      "byteLimit": 2048000,
      "rowLimit": 10000
     },
     "inputWidgets": {},
     "nuid": "8151a4ef-30c5-4477-8a68-358a573c0e9f",
     "showTitle": false,
     "title": ""
    }
   },
   "outputs": [],
   "source": [
    "negative_middle_top_cane_diameter_maturity_area_bay_sdf = negative_middle_top_cane_diameter_sdf.groupBy(\n",
    "  \"grower\",\n",
    "  \"KPIN\",\n",
    "  \"maturity_area\",\n",
    "  \"bay\"\n",
    ").count().withColumnRenamed(\n",
    "  \"count\", \"count_negative_values\"\n",
    ").orderBy(\"count\", ascending=False)\n",
    "\n",
    "negative_middle_top_cane_diameter_maturity_area_bay_sdf.show()\n",
    "negative_middle_top_cane_diameter_maturity_area_bay_sdf.count()"
   ]
  },
  {
   "cell_type": "markdown",
   "metadata": {
    "application/vnd.databricks.v1+cell": {
     "cellMetadata": {
      "byteLimit": 2048000,
      "rowLimit": 10000
     },
     "inputWidgets": {},
     "nuid": "f6b4781c-8436-48a9-894d-5aebcc8b6535",
     "showTitle": false,
     "title": ""
    }
   },
   "source": [
    "## Wrap up"
   ]
  },
  {
   "cell_type": "code",
   "execution_count": 0,
   "metadata": {
    "application/vnd.databricks.v1+cell": {
     "cellMetadata": {
      "byteLimit": 2048000,
      "rowLimit": 10000
     },
     "inputWidgets": {},
     "nuid": "e99a940a-29ef-4c7e-9b9b-6c1ae2f370a4",
     "showTitle": false,
     "title": ""
    }
   },
   "outputs": [],
   "source": [
    "mlflow.log_artifacts(local_tmp_artifact_dir_path)"
   ]
  },
  {
   "cell_type": "code",
   "execution_count": 0,
   "metadata": {
    "application/vnd.databricks.v1+cell": {
     "cellMetadata": {
      "byteLimit": 2048000,
      "rowLimit": 10000
     },
     "inputWidgets": {},
     "nuid": "038c8b4b-8606-4bb7-966f-894bf9003dbe",
     "showTitle": false,
     "title": ""
    }
   },
   "outputs": [],
   "source": [
    "# Remove tmp directory file\n",
    "tmp_dir = os.path.dirname(os.path.dirname(local_tmp_artifact_dir_path))\n",
    "dbutils.fs.rm(\"file:\" + tmp_dir, recurse=True)"
   ]
  },
  {
   "cell_type": "code",
   "execution_count": 0,
   "metadata": {
    "application/vnd.databricks.v1+cell": {
     "cellMetadata": {
      "byteLimit": 2048000,
      "rowLimit": 10000
     },
     "inputWidgets": {},
     "nuid": "21116ba2-8d31-4384-8f31-ae983d83c467",
     "showTitle": false,
     "title": ""
    }
   },
   "outputs": [],
   "source": [
    "# End MLflow run\n",
    "mlflow.end_run()"
   ]
  }
 ],
 "metadata": {
  "application/vnd.databricks.v1+notebook": {
   "dashboards": [],
   "language": "python",
   "notebookMetadata": {
    "pythonIndentUnit": 2
   },
   "notebookName": "analyze_canes_data_set",
   "widgets": {}
  }
 },
 "nbformat": 4,
 "nbformat_minor": 0
}
