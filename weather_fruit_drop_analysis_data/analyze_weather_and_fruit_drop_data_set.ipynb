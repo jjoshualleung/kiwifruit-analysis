{
 "cells": [
  {
   "cell_type": "markdown",
   "metadata": {
    "application/vnd.databricks.v1+cell": {
     "cellMetadata": {
      "byteLimit": 2048000,
      "rowLimit": 10000
     },
     "inputWidgets": {},
     "nuid": "77d49b7b-40b4-440f-bbea-8feef8abb7b7",
     "showTitle": false,
     "title": ""
    }
   },
   "source": [
    "# Analyze relationship between weather stress and fruit drop"
   ]
  },
  {
   "cell_type": "markdown",
   "metadata": {
    "application/vnd.databricks.v1+cell": {
     "cellMetadata": {
      "byteLimit": 2048000,
      "rowLimit": 10000
     },
     "inputWidgets": {},
     "nuid": "c94e2fe0-9ebd-48f5-af9f-c6cfaab2eaa4",
     "showTitle": false,
     "title": ""
    }
   },
   "source": [
    "## Objective\n",
    "\n",
    "Analyze impact of weather stress on fruit drop\n",
    "\n",
    "## Method\n",
    "\n",
    "![cross_reference_data_sets.drawio.svg](../diagrams/cross_reference_data_sets.drawio.svg)"
   ]
  },
  {
   "cell_type": "markdown",
   "metadata": {
    "application/vnd.databricks.v1+cell": {
     "cellMetadata": {
      "byteLimit": 2048000,
      "rowLimit": 10000
     },
     "inputWidgets": {},
     "nuid": "17b50be3-0672-4775-a547-5f6d8a7431fe",
     "showTitle": false,
     "title": ""
    }
   },
   "source": [
    "## Preamble"
   ]
  },
  {
   "cell_type": "code",
   "execution_count": 0,
   "metadata": {
    "application/vnd.databricks.v1+cell": {
     "cellMetadata": {
      "byteLimit": 2048000,
      "rowLimit": 10000
     },
     "inputWidgets": {},
     "nuid": "780286ef-a119-4a6d-a46c-812561e5998f",
     "showTitle": false,
     "title": ""
    }
   },
   "outputs": [],
   "source": [
    "import os\n",
    "import sys\n",
    "import mlflow\n",
    "import numpy as np\n",
    "import pandas as pd\n",
    "import seaborn as sns\n",
    "import matplotlib.pyplot as plt\n",
    "from pyspark.sql.window import Window\n",
    "from pyspark.sql import functions as F\n",
    "from sklearn.metrics import mean_squared_error, mean_absolute_error\n",
    "from sklearn.pipeline import Pipeline\n",
    "from sklearn.preprocessing import PolynomialFeatures\n",
    "from sklearn.linear_model import LinearRegression \n",
    "from pyspark.sql.functions import min, lit, col, lag\n",
    "from pyspark.sql.functions import month, year, when, to_date\n",
    "sys.path.append(os.path.abspath('..'))"
   ]
  },
  {
   "cell_type": "code",
   "execution_count": 0,
   "metadata": {
    "application/vnd.databricks.v1+cell": {
     "cellMetadata": {
      "byteLimit": 2048000,
      "rowLimit": 10000
     },
     "inputWidgets": {},
     "nuid": "81471710-1c9d-426a-af4d-0977ffd1836e",
     "showTitle": false,
     "title": ""
    }
   },
   "outputs": [],
   "source": [
    "experiment_name = \"/Lab_Project_FruitDropZGS/mlflow_experiment/analyze_weather_and_fruit_drop_data_set_experiment\"\n",
    "mlflow.set_experiment(experiment_name)"
   ]
  },
  {
   "cell_type": "code",
   "execution_count": 0,
   "metadata": {
    "application/vnd.databricks.v1+cell": {
     "cellMetadata": {
      "byteLimit": 2048000,
      "rowLimit": 10000
     },
     "inputWidgets": {},
     "nuid": "693229ba-073d-42d0-8a17-2c83d65405b7",
     "showTitle": false,
     "title": ""
    }
   },
   "outputs": [],
   "source": [
    "run_mlflow = mlflow.start_run()\n",
    "\n",
    "local_tmp_artifact_dir_path = \"/Workspace/Lab_Project_FruitDropZGS/notebook_artifacts/tmp/\" + run_mlflow.info.run_id + \"/artifacts/\"\n",
    "\n",
    "if not os.path.exists(local_tmp_artifact_dir_path):\n",
    "  os.makedirs(local_tmp_artifact_dir_path)\n",
    "  \n",
    "local_tmp_artifact_dir_path"
   ]
  },
  {
   "cell_type": "markdown",
   "metadata": {
    "application/vnd.databricks.v1+cell": {
     "cellMetadata": {
      "byteLimit": 2048000,
      "rowLimit": 10000
     },
     "inputWidgets": {},
     "nuid": "81b39d8f-3a25-48fa-8c8b-00916012015f",
     "showTitle": false,
     "title": ""
    }
   },
   "source": [
    "## Configure experiment\n",
    "\n",
    "Specify parameters such as data set, conditions, and other variables that will be used in the experiment"
   ]
  },
  {
   "cell_type": "code",
   "execution_count": 0,
   "metadata": {
    "application/vnd.databricks.v1+cell": {
     "cellMetadata": {
      "byteLimit": 2048000,
      "rowLimit": 10000
     },
     "inputWidgets": {},
     "nuid": "f727a75b-ee1f-4759-b463-10c4cdec6ceb",
     "showTitle": false,
     "title": ""
    }
   },
   "outputs": [],
   "source": [
    "from cane_level_fruit_drop_and_maturity_area_weather_data_sets import *\n",
    "\n",
    "params = famous_differentiation\n",
    "\n",
    "mlflow.log_params(params)\n",
    "\n",
    "params"
   ]
  },
  {
   "cell_type": "markdown",
   "metadata": {
    "application/vnd.databricks.v1+cell": {
     "cellMetadata": {
      "byteLimit": 2048000,
      "rowLimit": 10000
     },
     "inputWidgets": {},
     "nuid": "18f23f55-98a8-46f0-aa24-c3d39e2486f1",
     "showTitle": false,
     "title": ""
    }
   },
   "source": [
    "## Load data"
   ]
  },
  {
   "cell_type": "markdown",
   "metadata": {
    "application/vnd.databricks.v1+cell": {
     "cellMetadata": {
      "byteLimit": 2048000,
      "rowLimit": 10000
     },
     "inputWidgets": {},
     "nuid": "ce713db1-e2ce-4a90-9399-46f79c1bf066",
     "showTitle": false,
     "title": ""
    }
   },
   "source": [
    "### Load joint maturity area data set schema "
   ]
  },
  {
   "cell_type": "code",
   "execution_count": 0,
   "metadata": {
    "application/vnd.databricks.v1+cell": {
     "cellMetadata": {
      "byteLimit": 2048000,
      "rowLimit": 10000
     },
     "inputWidgets": {},
     "nuid": "7bbffe83-3ea4-4309-a54b-c00133c83033",
     "showTitle": false,
     "title": ""
    }
   },
   "outputs": [],
   "source": [
    "from maturity_area_data.joint_maturity_area_expected_schema import joint_maturity_area_expected_schema\n",
    "\n",
    "joint_maturity_area_expected_schema"
   ]
  },
  {
   "cell_type": "markdown",
   "metadata": {
    "application/vnd.databricks.v1+cell": {
     "cellMetadata": {
      "byteLimit": 2048000,
      "rowLimit": 10000
     },
     "inputWidgets": {},
     "nuid": "aebdef29-3b46-4765-901a-08a04fb81279",
     "showTitle": false,
     "title": ""
    }
   },
   "source": [
    "### Load joint maturity area data set "
   ]
  },
  {
   "cell_type": "code",
   "execution_count": 0,
   "metadata": {
    "application/vnd.databricks.v1+cell": {
     "cellMetadata": {
      "byteLimit": 2048000,
      "rowLimit": 10000
     },
     "inputWidgets": {},
     "nuid": "cdb2d8ed-aae7-4008-995e-3636accdc67a",
     "showTitle": false,
     "title": ""
    }
   },
   "outputs": [],
   "source": [
    "joint_maturity_area_sdf = spark.table(params[\"joined_maturity_area_data_set\"])\n",
    "\n",
    "joint_maturity_area_count_sdf = joint_maturity_area_sdf.count()\n",
    "mlflow.log_metric(\"joint_maturity_area_count\", joint_maturity_area_count_sdf)\n",
    "\n",
    "joint_maturity_area_sdf.printSchema()\n",
    "joint_maturity_area_sdf.show()\n",
    "joint_maturity_area_count_sdf"
   ]
  },
  {
   "cell_type": "code",
   "execution_count": 0,
   "metadata": {
    "application/vnd.databricks.v1+cell": {
     "cellMetadata": {
      "byteLimit": 2048000,
      "rowLimit": 10000
     },
     "inputWidgets": {},
     "nuid": "6ce22cb3-e863-4410-a618-11c2bd25e341",
     "showTitle": false,
     "title": ""
    }
   },
   "outputs": [],
   "source": [
    "assert joint_maturity_area_expected_schema == joint_maturity_area_sdf.schema"
   ]
  },
  {
   "cell_type": "markdown",
   "metadata": {
    "application/vnd.databricks.v1+cell": {
     "cellMetadata": {
      "byteLimit": 2048000,
      "rowLimit": 10000
     },
     "inputWidgets": {},
     "nuid": "c42a34c0-a226-4072-a36d-84f1feba2a73",
     "showTitle": false,
     "title": ""
    }
   },
   "source": [
    "### Load joint weather data set schema"
   ]
  },
  {
   "cell_type": "code",
   "execution_count": 0,
   "metadata": {
    "application/vnd.databricks.v1+cell": {
     "cellMetadata": {
      "byteLimit": 2048000,
      "rowLimit": 10000
     },
     "inputWidgets": {},
     "nuid": "218d0b65-94ac-4249-b6df-0bbe61e6b661",
     "showTitle": false,
     "title": ""
    }
   },
   "outputs": [],
   "source": [
    "from weather_analysis_data.merged_weather_data_expected_schema import merged_weather_data_expected_schema\n",
    "\n",
    "merged_weather_data_expected_schema"
   ]
  },
  {
   "cell_type": "markdown",
   "metadata": {
    "application/vnd.databricks.v1+cell": {
     "cellMetadata": {
      "byteLimit": 2048000,
      "rowLimit": 10000
     },
     "inputWidgets": {},
     "nuid": "eeb90b1a-a56d-4793-a58d-381d02c5c0be",
     "showTitle": false,
     "title": ""
    }
   },
   "source": [
    "### Load joint weather data set"
   ]
  },
  {
   "cell_type": "code",
   "execution_count": 0,
   "metadata": {
    "application/vnd.databricks.v1+cell": {
     "cellMetadata": {
      "byteLimit": 2048000,
      "rowLimit": 10000
     },
     "inputWidgets": {},
     "nuid": "fe3efa4c-92a2-4d02-bfd6-da5a47e272b2",
     "showTitle": false,
     "title": ""
    }
   },
   "outputs": [],
   "source": [
    "merged_weather_data_sdf = spark.table(params[\"merged_weather_data_set\"])\n",
    "\n",
    "merged_weather_data_count_sdf = merged_weather_data_sdf.count()\n",
    "mlflow.log_metric(\"merged_weather_data_count\", merged_weather_data_count_sdf)\n",
    "\n",
    "merged_weather_data_sdf.printSchema()\n",
    "merged_weather_data_sdf.show()\n",
    "merged_weather_data_count_sdf"
   ]
  },
  {
   "cell_type": "code",
   "execution_count": 0,
   "metadata": {
    "application/vnd.databricks.v1+cell": {
     "cellMetadata": {
      "byteLimit": 2048000,
      "rowLimit": 10000
     },
     "inputWidgets": {},
     "nuid": "8a14f0f3-c385-4b87-948e-efcafbab38ab",
     "showTitle": false,
     "title": ""
    }
   },
   "outputs": [],
   "source": [
    "assert merged_weather_data_expected_schema == merged_weather_data_sdf.schema"
   ]
  },
  {
   "cell_type": "markdown",
   "metadata": {
    "application/vnd.databricks.v1+cell": {
     "cellMetadata": {
      "byteLimit": 2048000,
      "rowLimit": 10000
     },
     "inputWidgets": {},
     "nuid": "926f71ac-2a97-40ba-b2f1-ca7b3d8ef074",
     "showTitle": false,
     "title": ""
    }
   },
   "source": [
    "### Load fruit drop survey data set schema"
   ]
  },
  {
   "cell_type": "code",
   "execution_count": 0,
   "metadata": {
    "application/vnd.databricks.v1+cell": {
     "cellMetadata": {
      "byteLimit": 2048000,
      "rowLimit": 10000
     },
     "inputWidgets": {},
     "nuid": "f95d87e2-211e-4af6-9d88-09e601412afe",
     "showTitle": false,
     "title": ""
    }
   },
   "outputs": [],
   "source": [
    "from fruit_drop_data.fruit_drop_expected_schema import fruit_drop_expected_schema\n",
    "\n",
    "fruit_drop_expected_schema"
   ]
  },
  {
   "cell_type": "markdown",
   "metadata": {
    "application/vnd.databricks.v1+cell": {
     "cellMetadata": {
      "byteLimit": 2048000,
      "rowLimit": 10000
     },
     "inputWidgets": {},
     "nuid": "b3c04cd8-dcde-45c4-b9e0-1cf8e1ca1926",
     "showTitle": false,
     "title": ""
    }
   },
   "source": [
    "### Load fruit drop survey data set "
   ]
  },
  {
   "cell_type": "code",
   "execution_count": 0,
   "metadata": {
    "application/vnd.databricks.v1+cell": {
     "cellMetadata": {
      "byteLimit": 2048000,
      "rowLimit": 10000
     },
     "inputWidgets": {},
     "nuid": "f5cf7ca1-923c-43be-b70d-3c6a74f28577",
     "showTitle": false,
     "title": ""
    }
   },
   "outputs": [],
   "source": [
    "fruit_drop_data_sdf = spark.table(params[\"fruit_drop_data_set\"])\n",
    "\n",
    "fruit_drop_data_count_sdf = fruit_drop_data_sdf.count()\n",
    "mlflow.log_metric(\"fruit_drop_data_count\", fruit_drop_data_count_sdf)\n",
    "\n",
    "fruit_drop_data_sdf.printSchema()\n",
    "fruit_drop_data_sdf.show()\n",
    "fruit_drop_data_count_sdf"
   ]
  },
  {
   "cell_type": "code",
   "execution_count": 0,
   "metadata": {
    "application/vnd.databricks.v1+cell": {
     "cellMetadata": {
      "byteLimit": 2048000,
      "rowLimit": 10000
     },
     "inputWidgets": {},
     "nuid": "91930493-8bff-4339-9b2c-659e8ab5e379",
     "showTitle": false,
     "title": ""
    }
   },
   "outputs": [],
   "source": [
    "assert fruit_drop_expected_schema == fruit_drop_data_sdf.schema"
   ]
  },
  {
   "cell_type": "markdown",
   "metadata": {
    "application/vnd.databricks.v1+cell": {
     "cellMetadata": {
      "byteLimit": 2048000,
      "rowLimit": 10000
     },
     "inputWidgets": {},
     "nuid": "46635781-5e02-4bae-b2c3-31a5286f1fc3",
     "showTitle": false,
     "title": ""
    }
   },
   "source": [
    "### Load cane data set schema"
   ]
  },
  {
   "cell_type": "code",
   "execution_count": 0,
   "metadata": {
    "application/vnd.databricks.v1+cell": {
     "cellMetadata": {
      "byteLimit": 2048000,
      "rowLimit": 10000
     },
     "inputWidgets": {},
     "nuid": "4bf22339-ce05-46c9-8249-ee4c66607824",
     "showTitle": false,
     "title": ""
    }
   },
   "outputs": [],
   "source": [
    "from canes_features_data.canes_expected_schema import canes_expected_schema\n",
    "\n",
    "canes_expected_schema"
   ]
  },
  {
   "cell_type": "markdown",
   "metadata": {
    "application/vnd.databricks.v1+cell": {
     "cellMetadata": {
      "byteLimit": 2048000,
      "rowLimit": 10000
     },
     "inputWidgets": {},
     "nuid": "e267434a-8f52-4c9c-958f-c0afac84bcb9",
     "showTitle": false,
     "title": ""
    }
   },
   "source": [
    "### Load cane data set"
   ]
  },
  {
   "cell_type": "code",
   "execution_count": 0,
   "metadata": {
    "application/vnd.databricks.v1+cell": {
     "cellMetadata": {
      "byteLimit": 2048000,
      "rowLimit": 10000
     },
     "inputWidgets": {},
     "nuid": "87c2df14-9dc2-4a0f-b7c7-0937cd428eec",
     "showTitle": false,
     "title": ""
    }
   },
   "outputs": [],
   "source": [
    "canes_data_sdf = spark.table(params[\"canes_data_set\"])\n",
    "\n",
    "canes_data_count_sdf = canes_data_sdf.count()\n",
    "mlflow.log_metric(\"canes_data_count\", canes_data_count_sdf)\n",
    "\n",
    "canes_data_sdf.printSchema()\n",
    "canes_data_sdf.show()\n",
    "canes_data_count_sdf"
   ]
  },
  {
   "cell_type": "code",
   "execution_count": 0,
   "metadata": {
    "application/vnd.databricks.v1+cell": {
     "cellMetadata": {
      "byteLimit": 2048000,
      "rowLimit": 10000
     },
     "inputWidgets": {},
     "nuid": "51cd2894-7d51-4bd5-ae0a-57c4c5f6ded1",
     "showTitle": false,
     "title": ""
    }
   },
   "outputs": [],
   "source": [
    "assert canes_expected_schema == canes_data_sdf.schema"
   ]
  },
  {
   "cell_type": "markdown",
   "metadata": {
    "application/vnd.databricks.v1+cell": {
     "cellMetadata": {
      "byteLimit": 2048000,
      "rowLimit": 10000
     },
     "inputWidgets": {},
     "nuid": "cd808f6b-76df-4972-bca9-8fbe3394b5a9",
     "showTitle": false,
     "title": ""
    }
   },
   "source": [
    "## [Optional] Filter complete weather time series"
   ]
  },
  {
   "cell_type": "markdown",
   "metadata": {
    "application/vnd.databricks.v1+cell": {
     "cellMetadata": {
      "byteLimit": 2048000,
      "rowLimit": 10000
     },
     "inputWidgets": {},
     "nuid": "eb5cc8ca-a4ab-4145-9017-7151f792a2de",
     "showTitle": false,
     "title": ""
    }
   },
   "source": [
    "### Filter weather data for weather stations relevant to the maturity areas"
   ]
  },
  {
   "cell_type": "code",
   "execution_count": 0,
   "metadata": {
    "application/vnd.databricks.v1+cell": {
     "cellMetadata": {
      "byteLimit": 2048000,
      "rowLimit": 10000
     },
     "inputWidgets": {},
     "nuid": "01ebc280-24c3-4d18-b60e-0c66036f093b",
     "showTitle": false,
     "title": ""
    }
   },
   "outputs": [],
   "source": [
    "distinct_stations_sdf = joint_maturity_area_sdf.select(\"WeatherStation\").distinct()\n",
    "\n",
    "selected_merge_weather_station_sdf = merged_weather_data_sdf.join(distinct_stations_sdf, distinct_stations_sdf.WeatherStation == merged_weather_data_sdf.station).drop(\"WeatherStation\")\n",
    "\n",
    "selected_merge_weather_station_sdf.printSchema()\n",
    "selected_merge_weather_station_sdf.show()\n",
    "selected_merge_weather_station_sdf.count()"
   ]
  },
  {
   "cell_type": "code",
   "execution_count": 0,
   "metadata": {
    "application/vnd.databricks.v1+cell": {
     "cellMetadata": {
      "byteLimit": 2048000,
      "rowLimit": 10000
     },
     "inputWidgets": {},
     "nuid": "23ee2176-bf82-43cf-b916-8b89b4d341d7",
     "showTitle": false,
     "title": ""
    }
   },
   "outputs": [],
   "source": [
    "selected_merge_weather_station_summary_sdf = selected_merge_weather_station_sdf.summary()\n",
    "selected_merge_weather_station_summary_sdf.show()"
   ]
  },
  {
   "cell_type": "code",
   "execution_count": 0,
   "metadata": {
    "application/vnd.databricks.v1+cell": {
     "cellMetadata": {
      "byteLimit": 2048000,
      "rowLimit": 10000
     },
     "inputWidgets": {},
     "nuid": "c0372535-4c0c-41c4-9bd0-485178249a5d",
     "showTitle": false,
     "title": ""
    }
   },
   "outputs": [],
   "source": [
    "selected_merge_weather_station_summary_pdf = selected_merge_weather_station_summary_sdf.toPandas()\n",
    "selected_merge_weather_station_summary_pdf.to_csv(local_tmp_artifact_dir_path + 'selected_merge_weather_station_summary.csv', index=False)"
   ]
  },
  {
   "cell_type": "markdown",
   "metadata": {
    "application/vnd.databricks.v1+cell": {
     "cellMetadata": {
      "byteLimit": 2048000,
      "rowLimit": 10000
     },
     "inputWidgets": {},
     "nuid": "f490ebca-98ec-425b-bd22-3369fb591f3e",
     "showTitle": false,
     "title": ""
    }
   },
   "source": [
    "### Filter complete time series of joint maturity area and weather data set \n",
    "\n",
    "If the filtering configuration parameter is set to true, filter the weather time series; \n",
    "\n",
    "Otherwise, use all records in the weather data set."
   ]
  },
  {
   "cell_type": "code",
   "execution_count": 0,
   "metadata": {
    "application/vnd.databricks.v1+cell": {
     "cellMetadata": {
      "byteLimit": 2048000,
      "rowLimit": 10000
     },
     "inputWidgets": {},
     "nuid": "978d2eeb-870d-44d5-bd08-33d2dcd01b31",
     "showTitle": false,
     "title": ""
    }
   },
   "outputs": [],
   "source": [
    "from weather_analysis_data.filter_complete_time_series_weather_data import filterCompleteWeatherTimeSeries\n",
    "\n",
    "if params[\"filter_weather_time_series\"]:\n",
    "  complete_timeseries_sdf = filterCompleteWeatherTimeSeries(selected_merge_weather_station_sdf).cache()\n",
    "\n",
    "  complete_hourly_timeseries_weather_data_sdf = complete_timeseries_sdf.join(selected_merge_weather_station_sdf, \"datetime\")\n",
    "else:\n",
    "  complete_hourly_timeseries_weather_data_sdf = merged_weather_data_sdf"
   ]
  },
  {
   "cell_type": "code",
   "execution_count": 0,
   "metadata": {
    "application/vnd.databricks.v1+cell": {
     "cellMetadata": {
      "byteLimit": 2048000,
      "rowLimit": 10000
     },
     "inputWidgets": {},
     "nuid": "940421f5-e99d-4c5c-a717-fa3d5d61a4c3",
     "showTitle": false,
     "title": ""
    }
   },
   "outputs": [],
   "source": [
    "complete_hourly_time_series_weather_data_count_sdf = complete_hourly_timeseries_weather_data_sdf.count()\n",
    "mlflow.log_metric(\"complete_hourly_time_series_weather_data_count\", complete_hourly_time_series_weather_data_count_sdf)\n",
    "\n",
    "complete_hourly_timeseries_weather_data_sdf.printSchema()\n",
    "complete_hourly_timeseries_weather_data_sdf.show()\n",
    "complete_hourly_time_series_weather_data_count_sdf"
   ]
  },
  {
   "cell_type": "markdown",
   "metadata": {
    "application/vnd.databricks.v1+cell": {
     "cellMetadata": {
      "byteLimit": 2048000,
      "rowLimit": 10000
     },
     "inputWidgets": {},
     "nuid": "670c6de6-0109-4244-8294-958d65cdb4ab",
     "showTitle": false,
     "title": ""
    }
   },
   "source": [
    "## Aggregate fruit drop metrics from multiple cane positions\n",
    "\n",
    "Given that we analyze the relationship between weather stress and fruit drop by cane, we:\n",
    "1. aggregate the fruit drop survey metrics across the whole cane; and\n",
    "2. sum all dropped fruit counts"
   ]
  },
  {
   "cell_type": "markdown",
   "metadata": {
    "application/vnd.databricks.v1+cell": {
     "cellMetadata": {
      "byteLimit": 2048000,
      "rowLimit": 10000
     },
     "inputWidgets": {},
     "nuid": "ee7041f5-6148-429a-adf1-e81e7b2d3834",
     "showTitle": false,
     "title": ""
    }
   },
   "source": [
    "### Aggregate fruit drop metrics by cane"
   ]
  },
  {
   "cell_type": "code",
   "execution_count": 0,
   "metadata": {
    "application/vnd.databricks.v1+cell": {
     "cellMetadata": {
      "byteLimit": 2048000,
      "rowLimit": 10000
     },
     "inputWidgets": {},
     "nuid": "69325bec-2046-4e6e-a4b3-22548408a989",
     "showTitle": false,
     "title": ""
    }
   },
   "outputs": [],
   "source": [
    "aggregate_fruit_drop_metric_by_cane_sdf = fruit_drop_data_sdf.groupBy(\"Grower\", \"KPIN\", \"Maturity Area\", \"Bay\", \"Cane number\", \"assessment date\").agg(\n",
    "  F.sum(\"shrinked fruit still attached on the cane\").alias(\"shrinked_fruit_on_cane_across_positions\"),\n",
    "  F.sum(\"not dropped fruit with dry peduncle\").alias(\"not_dropped_dry_peduncle_across_positions\"),\n",
    "  F.sum(\"dropped fruit with dry peduncle\").alias(\"dropped_dry_peduncle_across_positions\"),\n",
    "  F.sum(\"dropped fruit with healthy peduncle\").alias(\"dropped_healthy_peduncle_across_positions\")\n",
    ")\n",
    "\n",
    "aggregate_fruit_drop_metric_by_cane_count_sdf = aggregate_fruit_drop_metric_by_cane_sdf.count()\n",
    "mlflow.log_metric(\"aggregate_fruit_drop_metric_by_cane_count\", aggregate_fruit_drop_metric_by_cane_count_sdf)\n",
    "\n",
    "aggregate_fruit_drop_metric_by_cane_sdf.printSchema()\n",
    "aggregate_fruit_drop_metric_by_cane_sdf.show()\n",
    "aggregate_fruit_drop_metric_by_cane_count_sdf"
   ]
  },
  {
   "cell_type": "markdown",
   "metadata": {
    "application/vnd.databricks.v1+cell": {
     "cellMetadata": {
      "byteLimit": 2048000,
      "rowLimit": 10000
     },
     "inputWidgets": {},
     "nuid": "d1ff7503-f411-47fc-a245-aa80aaa613b0",
     "showTitle": false,
     "title": ""
    }
   },
   "source": [
    "### Sum dropped fruit with dry and healthy peduncles"
   ]
  },
  {
   "cell_type": "code",
   "execution_count": 0,
   "metadata": {
    "application/vnd.databricks.v1+cell": {
     "cellMetadata": {
      "byteLimit": 2048000,
      "rowLimit": 10000
     },
     "inputWidgets": {},
     "nuid": "ef52b050-1a67-48e6-bfe1-71b35d8fc9df",
     "showTitle": false,
     "title": ""
    }
   },
   "outputs": [],
   "source": [
    "sum_dropped_dry_and_healthy_fruit_sdf = aggregate_fruit_drop_metric_by_cane_sdf.withColumn(\n",
    "  \"total_dropped_dry_and_healthy_peduncle\", col(\"dropped_dry_peduncle_across_positions\") + col(\"dropped_healthy_peduncle_across_positions\")\n",
    ").select(\n",
    "  \"Grower\", \n",
    "  \"KPIN\", \n",
    "  \"Maturity Area\", \n",
    "  \"Bay\", \n",
    "  \"Cane number\", \n",
    "  \"assessment date\",\n",
    "  \"total_dropped_dry_and_healthy_peduncle\"\n",
    ").orderBy(\"total_dropped_dry_and_healthy_peduncle\", ascending=False)\n",
    "\n",
    "sum_dropped_dry_and_healthy_fruit_sdf.printSchema()\n",
    "sum_dropped_dry_and_healthy_fruit_sdf.show()\n",
    "sum_dropped_dry_and_healthy_fruit_sdf.count()"
   ]
  },
  {
   "cell_type": "code",
   "execution_count": 0,
   "metadata": {
    "application/vnd.databricks.v1+cell": {
     "cellMetadata": {
      "byteLimit": 2048000,
      "rowLimit": 10000
     },
     "inputWidgets": {},
     "nuid": "a73d0414-c40c-44ea-8a1b-3d39397f63d2",
     "showTitle": false,
     "title": ""
    }
   },
   "outputs": [],
   "source": [
    "sum_dropped_dry_and_healthy_fruit_summary_sdf = sum_dropped_dry_and_healthy_fruit_sdf.summary()\n",
    "sum_dropped_dry_and_healthy_fruit_summary_sdf.show()"
   ]
  },
  {
   "cell_type": "markdown",
   "metadata": {
    "application/vnd.databricks.v1+cell": {
     "cellMetadata": {
      "byteLimit": 2048000,
      "rowLimit": 10000
     },
     "inputWidgets": {},
     "nuid": "2535bc46-1a1b-49b5-aa38-9c39ce050271",
     "showTitle": false,
     "title": ""
    }
   },
   "source": [
    "## Cross-reference total dropped fruit and canes data set by grower, KPIN, maturity area, bay, and cane number"
   ]
  },
  {
   "cell_type": "code",
   "execution_count": 0,
   "metadata": {
    "application/vnd.databricks.v1+cell": {
     "cellMetadata": {
      "byteLimit": 2048000,
      "rowLimit": 10000
     },
     "inputWidgets": {},
     "nuid": "f5700c0e-a07c-4976-a7d1-793978bad68f",
     "showTitle": false,
     "title": ""
    }
   },
   "outputs": [],
   "source": [
    "cane_level_fruit_drop_with_cane_details_sdf = canes_data_sdf.join(\n",
    "  sum_dropped_dry_and_healthy_fruit_sdf,\n",
    "  (sum_dropped_dry_and_healthy_fruit_sdf[\"Grower\"] == canes_data_sdf[\"grower\"]) &\n",
    "  (sum_dropped_dry_and_healthy_fruit_sdf[\"KPIN\"] == canes_data_sdf[\"KPIN\"]) &\n",
    "  (sum_dropped_dry_and_healthy_fruit_sdf[\"Maturity Area\"] == canes_data_sdf[\"maturity_area\"]) &\n",
    "  (sum_dropped_dry_and_healthy_fruit_sdf[\"Bay\"] == canes_data_sdf[\"bay\"]) & \n",
    "  (sum_dropped_dry_and_healthy_fruit_sdf[\"Cane number\"] == canes_data_sdf[\"cane_number\"]),\n",
    "  \"inner\"\n",
    ").withColumnRenamed(\n",
    "  \"assessment_date\", \"canes_assessment_date\"\n",
    ").withColumnRenamed(\n",
    "  \"assessment date\", \"fruit_drop_assessment_date\"\n",
    ").drop(\n",
    "  sum_dropped_dry_and_healthy_fruit_sdf[\"KPIN\"]\n",
    ").drop(\n",
    "  sum_dropped_dry_and_healthy_fruit_sdf[\"Grower\"]\n",
    ").drop(\n",
    "  sum_dropped_dry_and_healthy_fruit_sdf[\"Bay\"]\n",
    ")\n",
    "\n",
    "drop_columns = [\"Maturity Area\", \"Cane number\"]\n",
    "cane_level_fruit_drop_with_cane_details_sdf = cane_level_fruit_drop_with_cane_details_sdf.drop(*drop_columns)\n",
    "\n",
    "cane_level_fruit_drop_with_cane_details_sdf.printSchema()\n",
    "cane_level_fruit_drop_with_cane_details_sdf.show()\n",
    "cane_level_fruit_drop_with_cane_details_sdf.count()"
   ]
  },
  {
   "cell_type": "markdown",
   "metadata": {
    "application/vnd.databricks.v1+cell": {
     "cellMetadata": {
      "byteLimit": 2048000,
      "rowLimit": 10000
     },
     "inputWidgets": {},
     "nuid": "8c81d46e-815e-4eb6-b1bc-f9e8a725f0aa",
     "showTitle": false,
     "title": ""
    }
   },
   "source": [
    "## Cross-reference cane-level fruit drop data set with weather station from maturity area data"
   ]
  },
  {
   "cell_type": "code",
   "execution_count": 0,
   "metadata": {
    "application/vnd.databricks.v1+cell": {
     "cellMetadata": {
      "byteLimit": 2048000,
      "rowLimit": 10000
     },
     "inputWidgets": {},
     "nuid": "d3cf229a-56a8-482e-8e2c-9f452519ef07",
     "showTitle": false,
     "title": ""
    }
   },
   "outputs": [],
   "source": [
    "distinct_kpin_maturity_area_stations_sdf = joint_maturity_area_sdf.select(\"KPIN\", \"Maturity_Area\", \"WeatherStation\").distinct()\n",
    "\n",
    "distinct_kpin_maturity_area_stations_sdf.printSchema()\n",
    "distinct_kpin_maturity_area_stations_sdf.show()\n",
    "distinct_kpin_maturity_area_stations_sdf.count()"
   ]
  },
  {
   "cell_type": "code",
   "execution_count": 0,
   "metadata": {
    "application/vnd.databricks.v1+cell": {
     "cellMetadata": {
      "byteLimit": 2048000,
      "rowLimit": 10000
     },
     "inputWidgets": {},
     "nuid": "05e026ad-068a-4c59-b3bd-e9f75b0251a9",
     "showTitle": false,
     "title": ""
    }
   },
   "outputs": [],
   "source": [
    "cane_level_fruit_drop_with_stations_sdf = cane_level_fruit_drop_with_cane_details_sdf.join(\n",
    "  distinct_kpin_maturity_area_stations_sdf, \n",
    "  (cane_level_fruit_drop_with_cane_details_sdf[\"KPIN\"] == distinct_kpin_maturity_area_stations_sdf[\"KPIN\"]) &\n",
    "  (cane_level_fruit_drop_with_cane_details_sdf[\"maturity_area\"] == distinct_kpin_maturity_area_stations_sdf[\"Maturity_Area\"])\n",
    ").drop(\n",
    "  distinct_kpin_maturity_area_stations_sdf[\"KPIN\"]\n",
    ").drop(\n",
    "  distinct_kpin_maturity_area_stations_sdf[\"Maturity_Area\"]\n",
    ")\n",
    "\n",
    "cane_level_fruit_drop_with_stations_sdf.printSchema()\n",
    "cane_level_fruit_drop_with_stations_sdf.show()\n",
    "cane_level_fruit_drop_with_stations_sdf.count()"
   ]
  },
  {
   "cell_type": "markdown",
   "metadata": {
    "application/vnd.databricks.v1+cell": {
     "cellMetadata": {
      "byteLimit": 2048000,
      "rowLimit": 10000
     },
     "inputWidgets": {},
     "nuid": "71376974-b86e-4efc-b8bb-64788369c66e",
     "showTitle": false,
     "title": ""
    }
   },
   "source": [
    "## Compute fruit drop ratio and cumulative fruit drop ratio"
   ]
  },
  {
   "cell_type": "markdown",
   "metadata": {
    "application/vnd.databricks.v1+cell": {
     "cellMetadata": {
      "byteLimit": 2048000,
      "rowLimit": 10000
     },
     "inputWidgets": {},
     "nuid": "70097052-9527-4c3b-802f-4fbfe1fdd8aa",
     "showTitle": false,
     "title": ""
    }
   },
   "source": [
    "### Load joint cane-level fruit drop schema"
   ]
  },
  {
   "cell_type": "code",
   "execution_count": 0,
   "metadata": {
    "application/vnd.databricks.v1+cell": {
     "cellMetadata": {
      "byteLimit": 2048000,
      "rowLimit": 10000
     },
     "inputWidgets": {},
     "nuid": "e787bebe-de51-4def-ad1e-37d514aa97b9",
     "showTitle": false,
     "title": ""
    }
   },
   "outputs": [],
   "source": [
    "from joint_cane_level_fruit_drop_schema import joint_cane_level_fruit_drop_schema\n",
    "\n",
    "joint_cane_level_fruit_drop_schema"
   ]
  },
  {
   "cell_type": "code",
   "execution_count": 0,
   "metadata": {
    "application/vnd.databricks.v1+cell": {
     "cellMetadata": {
      "byteLimit": 2048000,
      "rowLimit": 10000
     },
     "inputWidgets": {},
     "nuid": "6b7d6948-8ba7-4a08-8665-b1917db4b039",
     "showTitle": false,
     "title": ""
    }
   },
   "outputs": [],
   "source": [
    "from compute_joint_cane_level_fruit_drop_ratio import compute_joint_cane_level_fruit_drop_ratio\n",
    "\n",
    "joint_cane_level_fruit_drop_sdf = compute_joint_cane_level_fruit_drop_ratio(cane_level_fruit_drop_with_stations_sdf)\n",
    "\n",
    "joint_cane_level_fruit_drop_sdf.printSchema()\n",
    "joint_cane_level_fruit_drop_sdf.show()\n",
    "joint_cane_level_fruit_drop_sdf.count()"
   ]
  },
  {
   "cell_type": "code",
   "execution_count": 0,
   "metadata": {
    "application/vnd.databricks.v1+cell": {
     "cellMetadata": {
      "byteLimit": 2048000,
      "rowLimit": 10000
     },
     "inputWidgets": {},
     "nuid": "31382574-f9f2-4b27-815a-55a493d56fd5",
     "showTitle": false,
     "title": ""
    }
   },
   "outputs": [],
   "source": [
    "assert joint_cane_level_fruit_drop_schema == joint_cane_level_fruit_drop_sdf.schema"
   ]
  },
  {
   "cell_type": "markdown",
   "metadata": {
    "application/vnd.databricks.v1+cell": {
     "cellMetadata": {
      "byteLimit": 2048000,
      "rowLimit": 10000
     },
     "inputWidgets": {},
     "nuid": "e01e00ff-2669-477f-8584-928e57194527",
     "showTitle": false,
     "title": ""
    }
   },
   "source": [
    "## Distribution of cumulative fruit drop ratio at last fruit drop survey"
   ]
  },
  {
   "cell_type": "markdown",
   "metadata": {
    "application/vnd.databricks.v1+cell": {
     "cellMetadata": {
      "byteLimit": 2048000,
      "rowLimit": 10000
     },
     "inputWidgets": {},
     "nuid": "1eb565f0-ea5c-4a16-986f-95602a3481eb",
     "showTitle": false,
     "title": ""
    }
   },
   "source": [
    "### Distribution of cumulative fruit drop ratio across bay by KPIN, maturity area and bay at last fruit drop survey"
   ]
  },
  {
   "cell_type": "code",
   "execution_count": 0,
   "metadata": {
    "application/vnd.databricks.v1+cell": {
     "cellMetadata": {
      "byteLimit": 2048000,
      "rowLimit": 10000
     },
     "inputWidgets": {},
     "nuid": "cd731e98-479a-420d-94c4-b6a0b229fb87",
     "showTitle": false,
     "title": ""
    }
   },
   "outputs": [],
   "source": [
    "last_survey_avg_cumulative_fruit_drop_ratio_across_bay_sdf = joint_cane_level_fruit_drop_sdf.groupBy(\n",
    "  \"KPIN\",\n",
    "  \"maturity_area\",\n",
    "  \"bay\"\n",
    ").agg(\n",
    "  F.max(\"fruit_drop_assessment_date\").alias(\"last_fruit_drop_assessment_date\"),\n",
    "  F.avg(\"cumulative_fruit_drop_ratio\").alias(\"last_survey_avg_cumulative_fruit_drop_ratio_across_bay\")\n",
    ").orderBy(\"KPIN\", \"bay\", ascending=True)\n",
    "\n",
    "last_survey_avg_cumulative_fruit_drop_ratio_across_bay_sdf.printSchema()\n",
    "last_survey_avg_cumulative_fruit_drop_ratio_across_bay_sdf.show()\n",
    "last_survey_avg_cumulative_fruit_drop_ratio_across_bay_sdf.count()"
   ]
  },
  {
   "cell_type": "markdown",
   "metadata": {
    "application/vnd.databricks.v1+cell": {
     "cellMetadata": {
      "byteLimit": 2048000,
      "rowLimit": 10000
     },
     "inputWidgets": {},
     "nuid": "c9ea1bf4-1361-4abb-83db-f03a9fd0eef2",
     "showTitle": false,
     "title": ""
    }
   },
   "source": [
    "#### Result: Distribution of cumulative fruit drop ratio across bay by KPIN and maturity area at last fruit drop survey"
   ]
  },
  {
   "cell_type": "code",
   "execution_count": 0,
   "metadata": {
    "application/vnd.databricks.v1+cell": {
     "cellMetadata": {
      "byteLimit": 2048000,
      "rowLimit": 10000
     },
     "inputWidgets": {},
     "nuid": "f6ae6420-0946-425d-8fc4-175059a18753",
     "showTitle": false,
     "title": ""
    }
   },
   "outputs": [],
   "source": [
    "last_survey_avg_cumulative_fruit_drop_ratio_across_bay_pdf = last_survey_avg_cumulative_fruit_drop_ratio_across_bay_sdf.toPandas()\n",
    "\n",
    "last_survey_avg_cumulative_fruit_drop_ratio_across_bay_pdf[\"KPIN_maturity_area\"] = last_survey_avg_cumulative_fruit_drop_ratio_across_bay_pdf[\"KPIN\"].astype(str) + \"_\" + last_survey_avg_cumulative_fruit_drop_ratio_across_bay_pdf[\"maturity_area\"].astype(str)\n",
    "\n",
    "last_survey_avg_cumulative_fruit_drop_ratio_across_bay_pdf = last_survey_avg_cumulative_fruit_drop_ratio_across_bay_pdf.sort_values(by=\"last_survey_avg_cumulative_fruit_drop_ratio_across_bay\", ascending=False)\n",
    "\n",
    "fig, ax = plt.subplots(figsize=(16,22))\n",
    "\n",
    "sns.boxplot(x=\"last_survey_avg_cumulative_fruit_drop_ratio_across_bay\", y=\"KPIN_maturity_area\", data=last_survey_avg_cumulative_fruit_drop_ratio_across_bay_pdf, orient=\"h\", ax=ax)\n",
    "ax.set_title(\"Distribution of average cumulative fruit drop ratio across bay by KPIN and maturity area at last fruit drop survey\")\n",
    "ax.grid(True)\n",
    "plt.show()\n",
    "\n",
    "fig.savefig(local_tmp_artifact_dir_path + f\"distribution_last_survey_avg_cumulative_fruit_drop_ratio_across_bay_by_kpin_maturity_area.png\")"
   ]
  },
  {
   "cell_type": "markdown",
   "metadata": {
    "application/vnd.databricks.v1+cell": {
     "cellMetadata": {
      "byteLimit": 2048000,
      "rowLimit": 10000
     },
     "inputWidgets": {},
     "nuid": "5d5e412f-ec43-4b59-873a-c4a6feb6db23",
     "showTitle": false,
     "title": ""
    }
   },
   "source": [
    "### Distribution of cumulative fruit drop ratio across cane by KPIN, maturity area and bay at last fruit drop survey"
   ]
  },
  {
   "cell_type": "code",
   "execution_count": 0,
   "metadata": {
    "application/vnd.databricks.v1+cell": {
     "cellMetadata": {
      "byteLimit": 2048000,
      "rowLimit": 10000
     },
     "inputWidgets": {},
     "nuid": "7b15b0e8-18a7-4f20-aee5-c3ee81b4d418",
     "showTitle": false,
     "title": ""
    }
   },
   "outputs": [],
   "source": [
    "last_survey_cumulative_fruit_drop_ratio_across_cane_sdf = joint_cane_level_fruit_drop_sdf.groupBy(\n",
    "  \"KPIN\",\n",
    "  \"maturity_area\",\n",
    "  \"bay\",\n",
    "  \"cane_number\",\n",
    ").agg(\n",
    "  F.max(\"fruit_drop_assessment_date\").alias(\"last_fruit_drop_survey_assessment_date\"),\n",
    "  F.max(\"cumulative_fruit_drop_ratio\").alias(\"last_survey_cumulative_fruit_drop_ratio_across_cane\")\n",
    ").orderBy(\"KPIN\", \"bay\", ascending=True)\n",
    "\n",
    "last_survey_cumulative_fruit_drop_ratio_across_cane_sdf.printSchema()\n",
    "last_survey_cumulative_fruit_drop_ratio_across_cane_sdf.show()\n",
    "last_survey_cumulative_fruit_drop_ratio_across_cane_sdf.count()"
   ]
  },
  {
   "cell_type": "markdown",
   "metadata": {
    "application/vnd.databricks.v1+cell": {
     "cellMetadata": {
      "byteLimit": 2048000,
      "rowLimit": 10000
     },
     "inputWidgets": {},
     "nuid": "be35a2a8-7b39-4e38-b9c4-ef5048492bfd",
     "showTitle": false,
     "title": ""
    }
   },
   "source": [
    "#### Result: Distribution of cumulative fruit drop across cane by KPIN, maturity area and bay at last fruit drop survey"
   ]
  },
  {
   "cell_type": "code",
   "execution_count": 0,
   "metadata": {
    "application/vnd.databricks.v1+cell": {
     "cellMetadata": {
      "byteLimit": 2048000,
      "rowLimit": 10000
     },
     "inputWidgets": {},
     "nuid": "86e419bb-8e84-42f4-9725-d983edb4af82",
     "showTitle": false,
     "title": ""
    }
   },
   "outputs": [],
   "source": [
    "last_survey_cumulative_fruit_drop_ratio_across_cane_pdf = last_survey_cumulative_fruit_drop_ratio_across_cane_sdf.toPandas()\n",
    "\n",
    "last_survey_cumulative_fruit_drop_ratio_across_cane_pdf[\"KPIN_maturity_area_bay\"] = last_survey_cumulative_fruit_drop_ratio_across_cane_pdf[\"KPIN\"].astype(str) + \"_\" + last_survey_cumulative_fruit_drop_ratio_across_cane_pdf[\"maturity_area\"].astype(str) + \"_\" + last_survey_cumulative_fruit_drop_ratio_across_cane_pdf[\"bay\"].astype(str)\n",
    "\n",
    "last_survey_cumulative_fruit_drop_ratio_across_cane_pdf = last_survey_cumulative_fruit_drop_ratio_across_cane_pdf.sort_values(by=\"KPIN_maturity_area_bay\", ascending=False)\n",
    "\n",
    "fig, ax = plt.subplots(figsize=(18,26))\n",
    "\n",
    "sns.boxplot(x=\"last_survey_cumulative_fruit_drop_ratio_across_cane\", y=\"KPIN_maturity_area_bay\", data=last_survey_cumulative_fruit_drop_ratio_across_cane_pdf, orient=\"h\", ax=ax)\n",
    "\n",
    "ax.set_title(\"Distribution of cumulative fruit drop ratio across cane by KPIN, maturity area and bay at last fruit drop survey\")\n",
    "\n",
    "ax.grid(True)\n",
    "\n",
    "fig.savefig(local_tmp_artifact_dir_path + f\"distribution_last_cumulative_fruit_drop_ratio_across_cane_by_kpin_maturity_area_bay.png\")\n",
    "plt.show()"
   ]
  },
  {
   "cell_type": "markdown",
   "metadata": {
    "application/vnd.databricks.v1+cell": {
     "cellMetadata": {
      "byteLimit": 2048000,
      "rowLimit": 10000
     },
     "inputWidgets": {},
     "nuid": "42bbfdc2-d949-4401-9037-1759967bd343",
     "showTitle": false,
     "title": ""
    }
   },
   "source": [
    "## Compute cumulative weather stress"
   ]
  },
  {
   "cell_type": "markdown",
   "metadata": {
    "application/vnd.databricks.v1+cell": {
     "cellMetadata": {
      "byteLimit": 2048000,
      "rowLimit": 10000
     },
     "inputWidgets": {},
     "nuid": "85d21a72-6ce2-479f-8612-f40dde983a33",
     "showTitle": false,
     "title": ""
    }
   },
   "source": [
    "### Filter high-temperature hours in weather data set"
   ]
  },
  {
   "cell_type": "code",
   "execution_count": 0,
   "metadata": {
    "application/vnd.databricks.v1+cell": {
     "cellMetadata": {
      "byteLimit": 2048000,
      "rowLimit": 10000
     },
     "inputWidgets": {},
     "nuid": "34eda61f-0b2c-4d61-a8f4-a7699e04604d",
     "showTitle": false,
     "title": ""
    }
   },
   "outputs": [],
   "source": [
    "high_temperature_weather_sdf = complete_hourly_timeseries_weather_data_sdf.withColumn(\n",
    "  \"weather_date\", \n",
    "  to_date(\"datetime\")\n",
    ").filter(\n",
    "  complete_hourly_timeseries_weather_data_sdf.avg_temperature_C >= params[\"selected_high_temp_value\"]\n",
    ")\n",
    "\n",
    "high_temperature_weather_count_sdf = high_temperature_weather_sdf.count()\n",
    "mlflow.log_metric(\"high_temperature_weather_count\", high_temperature_weather_count_sdf)\n",
    "\n",
    "high_temperature_weather_sdf.printSchema()\n",
    "high_temperature_weather_sdf.show()\n",
    "high_temperature_weather_count_sdf"
   ]
  },
  {
   "cell_type": "markdown",
   "metadata": {
    "application/vnd.databricks.v1+cell": {
     "cellMetadata": {
      "byteLimit": 2048000,
      "rowLimit": 10000
     },
     "inputWidgets": {},
     "nuid": "21623b5a-f545-4342-be45-ab8de0d03fec",
     "showTitle": false,
     "title": ""
    }
   },
   "source": [
    "### Compute the cumulative count of high-temperature hours by weather station"
   ]
  },
  {
   "cell_type": "markdown",
   "metadata": {
    "application/vnd.databricks.v1+cell": {
     "cellMetadata": {
      "byteLimit": 2048000,
      "rowLimit": 10000
     },
     "inputWidgets": {},
     "nuid": "c3738b8d-4b0e-4805-8450-0667d5cd7715",
     "showTitle": false,
     "title": ""
    }
   },
   "source": [
    "#### Load cumulative weather stress schema"
   ]
  },
  {
   "cell_type": "code",
   "execution_count": 0,
   "metadata": {
    "application/vnd.databricks.v1+cell": {
     "cellMetadata": {
      "byteLimit": 2048000,
      "rowLimit": 10000
     },
     "inputWidgets": {},
     "nuid": "d5bc68bf-0db8-40b8-ba7a-97f9c08d471b",
     "showTitle": false,
     "title": ""
    }
   },
   "outputs": [],
   "source": [
    "from cumulative_weather_stress_schema import cumulative_weather_stress_schema\n",
    "\n",
    "cumulative_weather_stress_schema"
   ]
  },
  {
   "cell_type": "code",
   "execution_count": 0,
   "metadata": {
    "application/vnd.databricks.v1+cell": {
     "cellMetadata": {
      "byteLimit": 2048000,
      "rowLimit": 10000
     },
     "inputWidgets": {},
     "nuid": "d027d0ca-51dc-434e-8a46-e7a7e8471623",
     "showTitle": false,
     "title": ""
    }
   },
   "outputs": [],
   "source": [
    "from compute_cumulative_weather_stress import compute_cumulative_weather_stress\n",
    "\n",
    "cumulative_weather_stress_sdf = compute_cumulative_weather_stress(high_temperature_weather_sdf)\n",
    "\n",
    "cumulative_weather_stress_sdf.printSchema()\n",
    "cumulative_weather_stress_sdf.show()\n",
    "cumulative_weather_stress_sdf.count()"
   ]
  },
  {
   "cell_type": "code",
   "execution_count": 0,
   "metadata": {
    "application/vnd.databricks.v1+cell": {
     "cellMetadata": {
      "byteLimit": 2048000,
      "rowLimit": 10000
     },
     "inputWidgets": {},
     "nuid": "3153d93c-9722-4406-b1c5-bdd7eaf50905",
     "showTitle": false,
     "title": ""
    }
   },
   "outputs": [],
   "source": [
    "assert cumulative_weather_stress_schema == cumulative_weather_stress_sdf.schema"
   ]
  },
  {
   "cell_type": "code",
   "execution_count": 0,
   "metadata": {
    "application/vnd.databricks.v1+cell": {
     "cellMetadata": {
      "byteLimit": 2048000,
      "rowLimit": 10000
     },
     "inputWidgets": {},
     "nuid": "37e265da-8fa2-4355-b553-4845761642a9",
     "showTitle": false,
     "title": ""
    }
   },
   "outputs": [],
   "source": [
    "cumulative_weather_stress_summary_sdf = cumulative_weather_stress_sdf.summary()\n",
    "cumulative_weather_stress_summary_sdf.show()"
   ]
  },
  {
   "cell_type": "code",
   "execution_count": 0,
   "metadata": {
    "application/vnd.databricks.v1+cell": {
     "cellMetadata": {
      "byteLimit": 2048000,
      "rowLimit": 10000
     },
     "inputWidgets": {},
     "nuid": "9c027d12-c67e-4112-bbe6-7ef852d02dd8",
     "showTitle": false,
     "title": ""
    }
   },
   "outputs": [],
   "source": [
    "cumulative_weather_stress_summary_pdf = cumulative_weather_stress_summary_sdf.toPandas()\n",
    "cumulative_weather_stress_summary_pdf.to_csv(local_tmp_artifact_dir_path + 'cumulative_weather_stress_summary.csv', index=False)"
   ]
  },
  {
   "cell_type": "markdown",
   "metadata": {
    "application/vnd.databricks.v1+cell": {
     "cellMetadata": {
      "byteLimit": 2048000,
      "rowLimit": 10000
     },
     "inputWidgets": {},
     "nuid": "bcab32a6-ef2d-4a57-923e-0409d87b143d",
     "showTitle": false,
     "title": ""
    }
   },
   "source": [
    "### Cumulative weather stress by station"
   ]
  },
  {
   "cell_type": "code",
   "execution_count": 0,
   "metadata": {
    "application/vnd.databricks.v1+cell": {
     "cellMetadata": {
      "byteLimit": 2048000,
      "rowLimit": 10000
     },
     "inputWidgets": {},
     "nuid": "8a62c2d2-eac5-437b-8b7e-c4e82ea1ec75",
     "showTitle": false,
     "title": ""
    }
   },
   "outputs": [],
   "source": [
    "cumulative_weather_stress_by_station_sdf = cumulative_weather_stress_sdf.groupBy(\"station\").count().withColumnRenamed(\"count\", \"cumulative_weather_stress\").orderBy(\"cumulative_weather_stress\", ascending=False)\n",
    "\n",
    "cumulative_weather_stress_by_station_sdf.printSchema()\n",
    "cumulative_weather_stress_by_station_sdf.show()\n",
    "cumulative_weather_stress_by_station_sdf.count()"
   ]
  },
  {
   "cell_type": "code",
   "execution_count": 0,
   "metadata": {
    "application/vnd.databricks.v1+cell": {
     "cellMetadata": {
      "byteLimit": 2048000,
      "rowLimit": 10000
     },
     "inputWidgets": {},
     "nuid": "90d4126a-06da-4eb1-9cad-0f8dd9518472",
     "showTitle": false,
     "title": ""
    }
   },
   "outputs": [],
   "source": [
    "cumulative_weather_stress_by_station_pdf = cumulative_weather_stress_by_station_sdf.toPandas()\n",
    "cumulative_weather_stress_by_station_pdf.to_csv(local_tmp_artifact_dir_path + 'cumulative_weather_stress_by_station.csv', index=False)"
   ]
  },
  {
   "cell_type": "markdown",
   "metadata": {
    "application/vnd.databricks.v1+cell": {
     "cellMetadata": {
      "byteLimit": 2048000,
      "rowLimit": 10000
     },
     "inputWidgets": {},
     "nuid": "ebf23511-5e1c-4af4-8788-183d54cccac8",
     "showTitle": false,
     "title": ""
    }
   },
   "source": [
    "### Time chart of cumulative weather stress by station"
   ]
  },
  {
   "cell_type": "code",
   "execution_count": 0,
   "metadata": {
    "application/vnd.databricks.v1+cell": {
     "cellMetadata": {
      "byteLimit": 2048000,
      "rowLimit": 10000
     },
     "inputWidgets": {},
     "nuid": "324161b5-01c4-48ae-a46b-0ba106926924",
     "showTitle": false,
     "title": ""
    }
   },
   "outputs": [],
   "source": [
    "cumulative_weather_stress_pdf = cumulative_weather_stress_sdf.toPandas()\n",
    "\n",
    "fig, ax = plt.subplots(figsize=(28, 16))\n",
    "\n",
    "for station, data in cumulative_weather_stress_pdf.groupby('station'):\n",
    "    ax.plot(data['date'], data['cumulative_weather_stress'], label=station)\n",
    "\n",
    "ax.set_title(\"Cumulative hourly weather stress by station\")\n",
    "ax.set_xlabel(\"Date\")\n",
    "ax.set_ylabel(\"Cumulative Weather Stress\")\n",
    "ax.grid(True)\n",
    "ax.legend()\n",
    "\n",
    "fig.savefig(local_tmp_artifact_dir_path + f\"time_chart_cumulative_weather_stress_pdf.png\")\n",
    "plt.show()"
   ]
  },
  {
   "cell_type": "markdown",
   "metadata": {
    "application/vnd.databricks.v1+cell": {
     "cellMetadata": {
      "byteLimit": 2048000,
      "rowLimit": 10000
     },
     "inputWidgets": {},
     "nuid": "ce80eef9-6e3f-457e-8c3c-6c9e7d9f4119",
     "showTitle": false,
     "title": ""
    }
   },
   "source": [
    "## Cross-reference cane-level fruit drop ratio to cumulative weather stress"
   ]
  },
  {
   "cell_type": "markdown",
   "metadata": {
    "application/vnd.databricks.v1+cell": {
     "cellMetadata": {
      "byteLimit": 2048000,
      "rowLimit": 10000
     },
     "inputWidgets": {},
     "nuid": "0c9388b2-88da-4ef4-9144-45d64cf21372",
     "showTitle": false,
     "title": ""
    }
   },
   "source": [
    "### Load joint fruit drop cumulative weather stress schema"
   ]
  },
  {
   "cell_type": "code",
   "execution_count": 0,
   "metadata": {
    "application/vnd.databricks.v1+cell": {
     "cellMetadata": {
      "byteLimit": 2048000,
      "rowLimit": 10000
     },
     "inputWidgets": {},
     "nuid": "311cee3b-2ec5-43f6-95bb-380425f7e636",
     "showTitle": false,
     "title": ""
    }
   },
   "outputs": [],
   "source": [
    "from joint_fruit_drop_cumulative_weather_stress_schema import joint_fruit_drop_cumulative_weather_stress_schema\n",
    "\n",
    "joint_fruit_drop_cumulative_weather_stress_schema"
   ]
  },
  {
   "cell_type": "code",
   "execution_count": 0,
   "metadata": {
    "application/vnd.databricks.v1+cell": {
     "cellMetadata": {
      "byteLimit": 2048000,
      "rowLimit": 10000
     },
     "inputWidgets": {},
     "nuid": "7fbab91d-42b7-4e0a-8ebc-702dbce781fc",
     "showTitle": false,
     "title": ""
    }
   },
   "outputs": [],
   "source": [
    "from cross_reference_cane_level_fruit_drop_and_weather_stress import cross_reference_cane_level_fruit_drop_and_weather_stress\n",
    "\n",
    "joint_fruit_drop_cumulative_weather_stress_sdf = cross_reference_cane_level_fruit_drop_and_weather_stress(joint_cane_level_fruit_drop_sdf, cumulative_weather_stress_sdf)\n",
    "\n",
    "joint_fruit_drop_cumulative_weather_stress_count_sdf = joint_fruit_drop_cumulative_weather_stress_sdf.count()\n",
    "mlflow.log_metric(\"joint_fruit_drop_cumulative_weather_stress_count\", joint_fruit_drop_cumulative_weather_stress_count_sdf)\n",
    "\n",
    "joint_fruit_drop_cumulative_weather_stress_sdf.printSchema()\n",
    "joint_fruit_drop_cumulative_weather_stress_sdf.show()\n",
    "joint_fruit_drop_cumulative_weather_stress_count_sdf"
   ]
  },
  {
   "cell_type": "code",
   "execution_count": 0,
   "metadata": {
    "application/vnd.databricks.v1+cell": {
     "cellMetadata": {
      "byteLimit": 2048000,
      "rowLimit": 10000
     },
     "inputWidgets": {},
     "nuid": "2e45bda6-62b2-49c8-a9eb-9a4ecf7037d3",
     "showTitle": false,
     "title": ""
    }
   },
   "outputs": [],
   "source": [
    "assert joint_fruit_drop_cumulative_weather_stress_schema == joint_fruit_drop_cumulative_weather_stress_sdf.schema"
   ]
  },
  {
   "cell_type": "code",
   "execution_count": 0,
   "metadata": {
    "application/vnd.databricks.v1+cell": {
     "cellMetadata": {
      "byteLimit": 2048000,
      "rowLimit": 10000
     },
     "inputWidgets": {},
     "nuid": "e16b62ec-464b-4c83-bb42-3e671cea105f",
     "showTitle": false,
     "title": ""
    }
   },
   "outputs": [],
   "source": [
    "joint_fruit_drop_cumulative_weather_stress_summary_sdf = joint_fruit_drop_cumulative_weather_stress_sdf.summary()\n",
    "\n",
    "joint_fruit_drop_cumulative_weather_stress_summary_sdf.show()"
   ]
  },
  {
   "cell_type": "code",
   "execution_count": 0,
   "metadata": {
    "application/vnd.databricks.v1+cell": {
     "cellMetadata": {
      "byteLimit": 2048000,
      "rowLimit": 10000
     },
     "inputWidgets": {},
     "nuid": "9ee9fe15-590d-45a8-ac1a-14517aeadf19",
     "showTitle": false,
     "title": ""
    }
   },
   "outputs": [],
   "source": [
    "joint_fruit_drop_cumulative_weather_stress_summary_pdf = joint_fruit_drop_cumulative_weather_stress_summary_sdf.toPandas()\n",
    "joint_fruit_drop_cumulative_weather_stress_summary_pdf.to_csv(local_tmp_artifact_dir_path + 'joint_fruit_drop_cumulative_weather_stress_summary.csv', index=False)"
   ]
  },
  {
   "cell_type": "markdown",
   "metadata": {
    "application/vnd.databricks.v1+cell": {
     "cellMetadata": {
      "byteLimit": 2048000,
      "rowLimit": 10000
     },
     "inputWidgets": {},
     "nuid": "efd7248c-8ddc-4fd8-9619-0f322a80b1e0",
     "showTitle": false,
     "title": ""
    }
   },
   "source": [
    "### Validate joint fruit drop cumulative weather stress data"
   ]
  },
  {
   "cell_type": "code",
   "execution_count": 0,
   "metadata": {
    "application/vnd.databricks.v1+cell": {
     "cellMetadata": {
      "byteLimit": 2048000,
      "rowLimit": 10000
     },
     "inputWidgets": {},
     "nuid": "9ef76f87-06a6-4cbc-a30b-f6072cc76f5b",
     "showTitle": false,
     "title": ""
    }
   },
   "outputs": [],
   "source": [
    "from joint_fruit_drop_cumulative_weather_stress_schema import validate_joint_fruit_drop_cumulative_weather_stress_sdf\n",
    "\n",
    "subset_invalid_records_sdf = validate_joint_fruit_drop_cumulative_weather_stress_sdf(joint_fruit_drop_cumulative_weather_stress_sdf)\n",
    "\n",
    "if subset_invalid_records_sdf is not None:\n",
    "  subset_invalid_records_sdf.printSchema()\n",
    "  subset_invalid_records_sdf.show()\n",
    "  invalid_records_count = subset_invalid_records_sdf.count()\n",
    "  if invalid_records_count > 0:\n",
    "    raise AssertionError(f\"{invalid_records_count} invalid record(s) found in joint fruit drop cumulative weather stress data.\")\n",
    "else:\n",
    "    print(\"No invalid records found.\")"
   ]
  },
  {
   "cell_type": "markdown",
   "metadata": {
    "application/vnd.databricks.v1+cell": {
     "cellMetadata": {
      "byteLimit": 2048000,
      "rowLimit": 10000
     },
     "inputWidgets": {},
     "nuid": "1c7e4d1e-3df9-4eb9-8f1a-a125eed26e27",
     "showTitle": false,
     "title": ""
    }
   },
   "source": [
    "### Result: Heatmap (hexbin) of cumulative fruit drop ratio and cumulative weather stress"
   ]
  },
  {
   "cell_type": "code",
   "execution_count": 0,
   "metadata": {
    "application/vnd.databricks.v1+cell": {
     "cellMetadata": {
      "byteLimit": 2048000,
      "rowLimit": 10000
     },
     "inputWidgets": {},
     "nuid": "f22c0cb0-32dc-408a-9bce-d8d65a3bca00",
     "showTitle": false,
     "title": ""
    }
   },
   "outputs": [],
   "source": [
    "joint_fruit_drop_cumulative_weather_stress_pdf = joint_fruit_drop_cumulative_weather_stress_sdf.toPandas()\n",
    "\n",
    "fig, ax = plt.subplots(figsize=(22, 14))\n",
    "\n",
    "joint_fruit_drop_cumulative_weather_stress_pdf.plot.hexbin(\n",
    "  \"cumulative_weather_stress\",\n",
    "  \"cumulative_fruit_drop_ratio\",\n",
    "  gridsize=40,\n",
    "  ax=ax,\n",
    "  edgecolors=\"grey\",\n",
    "  cmap=\"inferno\",\n",
    "  mincnt=1\n",
    ")\n",
    "\n",
    "ax.grid(True)\n",
    "plt.title(\"Distribution of cumulative fruit drop and cumulative weather stress\")\n",
    "\n",
    "fig.savefig(local_tmp_artifact_dir_path + f\"distribution_cumulative_fruit_drop_and_cumulative_weather_stress.png\")"
   ]
  },
  {
   "cell_type": "markdown",
   "metadata": {
    "application/vnd.databricks.v1+cell": {
     "cellMetadata": {
      "byteLimit": 2048000,
      "rowLimit": 10000
     },
     "inputWidgets": {},
     "nuid": "4a47db80-083d-41aa-8f79-8c4673926819",
     "showTitle": false,
     "title": ""
    }
   },
   "source": [
    "### Result: Scatter chart of cumulative fruit drop ratio and cumulative weather stress"
   ]
  },
  {
   "cell_type": "code",
   "execution_count": 0,
   "metadata": {
    "application/vnd.databricks.v1+cell": {
     "cellMetadata": {
      "byteLimit": 2048000,
      "rowLimit": 10000
     },
     "inputWidgets": {},
     "nuid": "d908939b-bdc6-4aa4-b169-5d19373bf1bf",
     "showTitle": false,
     "title": ""
    }
   },
   "outputs": [],
   "source": [
    "fig, ax = plt.subplots(figsize=(16, 14))\n",
    "\n",
    "sns.regplot(data=joint_fruit_drop_cumulative_weather_stress_pdf, x=\"cumulative_weather_stress\", y=\"cumulative_fruit_drop_ratio\", order=1, ax=ax, color=\"orange\", label=\"linear\")\n",
    "sns.regplot(data=joint_fruit_drop_cumulative_weather_stress_pdf, x=\"cumulative_weather_stress\", y=\"cumulative_fruit_drop_ratio\", order=2, ax=ax, color=\"green\", label=\"quadratic\")\n",
    "sns.scatterplot(data=joint_fruit_drop_cumulative_weather_stress_pdf, x=\"cumulative_weather_stress\", y=\"cumulative_fruit_drop_ratio\", ax=ax, color=\"royalblue\")\n",
    "\n",
    "ax.set_xlabel(\"cumulative weather stress\")\n",
    "ax.set_ylabel(\"cumulative fruit drop ratio\")\n",
    "ax.set_title(\"Scatter plot of cumulative fruit drop ratio vs. cumulative weather stress\")\n",
    "ax.grid(True)\n",
    "ax.legend()\n",
    "fig.savefig(local_tmp_artifact_dir_path + f\"scatterplot_fruit_drop_cumulative_weather_stress.png\")\n",
    "plt.show()"
   ]
  },
  {
   "cell_type": "markdown",
   "metadata": {
    "application/vnd.databricks.v1+cell": {
     "cellMetadata": {
      "byteLimit": 2048000,
      "rowLimit": 10000
     },
     "inputWidgets": {},
     "nuid": "1c5293cb-2ce3-47b9-949e-fcf058afe9ef",
     "showTitle": false,
     "title": ""
    }
   },
   "source": [
    "### Compute regression metrics for cumulative fruit drop ratio and cumulative weather stress"
   ]
  },
  {
   "cell_type": "code",
   "execution_count": 0,
   "metadata": {
    "application/vnd.databricks.v1+cell": {
     "cellMetadata": {
      "byteLimit": 2048000,
      "rowLimit": 10000
     },
     "inputWidgets": {},
     "nuid": "bb86d685-f46c-442f-8c70-791063a8f3aa",
     "showTitle": false,
     "title": ""
    }
   },
   "outputs": [],
   "source": [
    "if not (joint_fruit_drop_cumulative_weather_stress_pdf[[\"cumulative_fruit_drop_ratio\", \"cumulative_weather_stress\"]].isnull().all().any()):\n",
    "  joint_fruit_drop_cumulative_weather_stress_pdf.dropna(subset=[\"cumulative_fruit_drop_ratio\", \"cumulative_weather_stress\"], inplace=True)\n",
    "\n",
    "  predictors = joint_fruit_drop_cumulative_weather_stress_pdf[[\"cumulative_weather_stress\"]]\n",
    "  outcome = joint_fruit_drop_cumulative_weather_stress_pdf[\"cumulative_fruit_drop_ratio\"]\n",
    "\n",
    "  # Linear Regression\n",
    "  regression_model = LinearRegression()\n",
    "  regression_model.fit(predictors, outcome)\n",
    "\n",
    "  y_predicted = regression_model.predict(predictors)\n",
    "  mse = mean_squared_error(outcome, y_predicted)\n",
    "  mae = mean_absolute_error(outcome, y_predicted)\n",
    "\n",
    "  mlflow.log_metric(\"MSE_cumulative_weather_stress_fruit_drop_ratio\", mse)\n",
    "  mlflow.log_metric(\"MAE_cumulative_weather_stress_fruit_drop_ratio\", mae)\n",
    "  mlflow.log_metric(\"Slope_cumulative_weather_stress_fruit_drop_ratio\", regression_model.coef_)\n",
    "\n",
    "  print(\"Slope:\", regression_model.coef_) \n",
    "  print(\"Mean squared error (Linear):\", mse)\n",
    "  print(\"Mean absolute error (Linear):\", mae)\n",
    "\n",
    "  # Quadratic Regression\n",
    "  regression_pipeline = Pipeline([(\"poly\", PolynomialFeatures(degree=2)), (\"linear\", LinearRegression(fit_intercept=False))])\n",
    "  regression_pipeline.fit(predictors, outcome)\n",
    "\n",
    "  y_predicted_quad = regression_pipeline.predict(predictors)\n",
    "  mse_quad = mean_squared_error(outcome, y_predicted_quad)\n",
    "  mae_quad = mean_absolute_error(outcome, y_predicted_quad)\n",
    "\n",
    "  mlflow.log_metric(\"MSE_quadratic_cumulative_weather_stress_fruit_drop_ratio\", mse_quad)\n",
    "  mlflow.log_metric(\"MAE_quadratic_cumulative_weather_stress_fruit_drop_ratio\", mae_quad)\n",
    "\n",
    "  print(\"Mean squared error (Quadratic):\", mse_quad)\n",
    "  print(\"Mean absolute error (Quadratic):\", mae_quad)\n",
    "\n",
    "else:\n",
    "  print(\"No records to perform linear regression.\")"
   ]
  },
  {
   "cell_type": "markdown",
   "metadata": {
    "application/vnd.databricks.v1+cell": {
     "cellMetadata": {
      "byteLimit": 2048000,
      "rowLimit": 10000
     },
     "inputWidgets": {},
     "nuid": "91868b86-abdf-4e2f-82da-f8b79ffff044",
     "showTitle": false,
     "title": ""
    }
   },
   "source": [
    "## Compute vapour pressure deficit\n",
    "\n",
    "Vapor pressure deficit (VPD) is determined by integrating daily maximum and minimum air temperatures with corresponding relative humidity data \n",
    "\n",
    "obtained from the average hourly temperature and average hourly humidity percentage within a weather dataset.\n",
    "\n",
    "> Referencing the procedures outlined in https://www.fao.org/4/x0490e/x0490e07.htm#calculation%20procedures\n",
    "\n",
    "1. Use equation 11 and 12 to compute mean saturation vapour pressure (es)\n",
    "2. Apply equation 17 to derive actual vapour pressure (ea) from relative humidity data\n",
    "3. Compute vapour pressure deficit (es - ea)"
   ]
  },
  {
   "cell_type": "markdown",
   "metadata": {
    "application/vnd.databricks.v1+cell": {
     "cellMetadata": {
      "byteLimit": 2048000,
      "rowLimit": 10000
     },
     "inputWidgets": {},
     "nuid": "2853f957-156d-46e7-9f2a-9df8293483bb",
     "showTitle": false,
     "title": ""
    }
   },
   "source": [
    "### Load vapour pressure deficit with weather data details schema"
   ]
  },
  {
   "cell_type": "code",
   "execution_count": 0,
   "metadata": {
    "application/vnd.databricks.v1+cell": {
     "cellMetadata": {
      "byteLimit": 2048000,
      "rowLimit": 10000
     },
     "inputWidgets": {},
     "nuid": "1ef9e102-cbe1-4ecd-b33e-0d0e9f0c2ff8",
     "showTitle": false,
     "title": ""
    }
   },
   "outputs": [],
   "source": [
    "from weather_analysis_data.vapour_pressure_deficit_schema import vapour_pressure_deficit_schema\n",
    "\n",
    "vapour_pressure_deficit_schema"
   ]
  },
  {
   "cell_type": "code",
   "execution_count": 0,
   "metadata": {
    "application/vnd.databricks.v1+cell": {
     "cellMetadata": {
      "byteLimit": 2048000,
      "rowLimit": 10000
     },
     "inputWidgets": {},
     "nuid": "2c52d2a8-d87e-4b27-bfd7-356d7c3a9134",
     "showTitle": false,
     "title": ""
    }
   },
   "outputs": [],
   "source": [
    "from weather_analysis_data.compute_vapour_pressure_deficit import compute_vapour_pressure_deficit\n",
    "\n",
    "vapour_pressure_deficit_sdf = compute_vapour_pressure_deficit(complete_hourly_timeseries_weather_data_sdf, 1)\n",
    "\n",
    "vapour_pressure_deficit_sdf.printSchema()\n",
    "vapour_pressure_deficit_sdf.show()\n",
    "vapour_pressure_deficit_sdf.count()"
   ]
  },
  {
   "cell_type": "code",
   "execution_count": 0,
   "metadata": {
    "application/vnd.databricks.v1+cell": {
     "cellMetadata": {
      "byteLimit": 2048000,
      "rowLimit": 10000
     },
     "inputWidgets": {},
     "nuid": "97fa320e-0653-4d5a-af6f-0e27bd3ef65d",
     "showTitle": false,
     "title": ""
    }
   },
   "outputs": [],
   "source": [
    "assert vapour_pressure_deficit_schema == vapour_pressure_deficit_sdf.schema"
   ]
  },
  {
   "cell_type": "code",
   "execution_count": 0,
   "metadata": {
    "application/vnd.databricks.v1+cell": {
     "cellMetadata": {
      "byteLimit": 2048000,
      "rowLimit": 10000
     },
     "inputWidgets": {},
     "nuid": "26d65fa7-e1b8-4641-b1da-28d2c552eca4",
     "showTitle": false,
     "title": ""
    }
   },
   "outputs": [],
   "source": [
    "vapour_pressure_deficit_pdf = vapour_pressure_deficit_sdf.toPandas()\n",
    "\n",
    "vapour_pressure_deficit_summary_pdf = vapour_pressure_deficit_pdf.describe()\n",
    "\n",
    "vapour_pressure_deficit_summary_pdf"
   ]
  },
  {
   "cell_type": "code",
   "execution_count": 0,
   "metadata": {
    "application/vnd.databricks.v1+cell": {
     "cellMetadata": {
      "byteLimit": 2048000,
      "rowLimit": 10000
     },
     "inputWidgets": {},
     "nuid": "257e8e2f-7e81-471f-b78a-a1c6babd35b8",
     "showTitle": false,
     "title": ""
    }
   },
   "outputs": [],
   "source": [
    "vapour_pressure_deficit_summary_pdf.reset_index().to_csv(local_tmp_artifact_dir_path + 'vapour_pressure_deficit_summary.csv', index=False)"
   ]
  },
  {
   "cell_type": "markdown",
   "metadata": {
    "application/vnd.databricks.v1+cell": {
     "cellMetadata": {
      "byteLimit": 2048000,
      "rowLimit": 10000
     },
     "inputWidgets": {},
     "nuid": "1da86036-a917-4b4d-a877-1494a8a98355",
     "showTitle": false,
     "title": ""
    }
   },
   "source": [
    "### Time chart of vapour pressure deficit by station"
   ]
  },
  {
   "cell_type": "code",
   "execution_count": 0,
   "metadata": {
    "application/vnd.databricks.v1+cell": {
     "cellMetadata": {
      "byteLimit": 2048000,
      "rowLimit": 10000
     },
     "inputWidgets": {},
     "nuid": "9aaf25c3-baf5-466b-8d22-9b39ed0b706c",
     "showTitle": false,
     "title": ""
    }
   },
   "outputs": [],
   "source": [
    "fig, ax = plt.subplots(figsize=(28, 16))\n",
    "\n",
    "for station, data in vapour_pressure_deficit_pdf.groupby('station'):\n",
    "  ax.plot(data['date'], data['vpd'], label=station)\n",
    "\n",
    "ax.set_title(\"Vapour pressure deficit by station\")\n",
    "ax.set_xlabel(\"Date\")\n",
    "ax.set_ylabel(\"Vapour pressure deficit (kPa)\")\n",
    "ax.grid(True)\n",
    "ax.legend()\n",
    "\n",
    "fig.savefig(local_tmp_artifact_dir_path + f\"time_chart_vapour_pressure_deficit_pdf.png\")\n",
    "plt.show()"
   ]
  },
  {
   "cell_type": "markdown",
   "metadata": {
    "application/vnd.databricks.v1+cell": {
     "cellMetadata": {
      "byteLimit": 2048000,
      "rowLimit": 10000
     },
     "inputWidgets": {},
     "nuid": "63b89a5b-774a-450a-a81e-f2113f23cbf3",
     "showTitle": false,
     "title": ""
    }
   },
   "source": [
    "## CDF diagram for vapour pressure deficit by station"
   ]
  },
  {
   "cell_type": "code",
   "execution_count": 0,
   "metadata": {
    "application/vnd.databricks.v1+cell": {
     "cellMetadata": {
      "byteLimit": 2048000,
      "rowLimit": 10000
     },
     "inputWidgets": {},
     "nuid": "251c4af9-c851-409f-825f-1403c73016dd",
     "showTitle": false,
     "title": ""
    }
   },
   "outputs": [],
   "source": [
    "percentiles = np.arange(0, 1.02, 0.02)\n",
    "\n",
    "grouped = vapour_pressure_deficit_pdf.groupby(\"station\")\n",
    "quantiles_pdf = grouped['vpd'].quantile(q=percentiles).unstack()\n",
    "quantiles_vpd_by_station_pdf = quantiles_pdf.transpose().rename_axis(columns='quantiles')\n",
    "\n",
    "quantiles_vpd_by_station_pdf"
   ]
  },
  {
   "cell_type": "code",
   "execution_count": 0,
   "metadata": {
    "application/vnd.databricks.v1+cell": {
     "cellMetadata": {
      "byteLimit": 2048000,
      "rowLimit": 10000
     },
     "inputWidgets": {},
     "nuid": "64056f28-a860-4c09-9a50-6a77e8716d3f",
     "showTitle": false,
     "title": ""
    }
   },
   "outputs": [],
   "source": [
    "quantiles_vpd_by_station_pdf.reset_index().to_csv(local_tmp_artifact_dir_path + 'quantiles_vpd_by_station.csv', index=False)"
   ]
  },
  {
   "cell_type": "markdown",
   "metadata": {
    "application/vnd.databricks.v1+cell": {
     "cellMetadata": {
      "byteLimit": 2048000,
      "rowLimit": 10000
     },
     "inputWidgets": {},
     "nuid": "d7a43c27-5b66-41af-b79d-c3317de165e0",
     "showTitle": false,
     "title": ""
    }
   },
   "source": [
    "### Result: CDF diagram for vapour pressure deficit by station"
   ]
  },
  {
   "cell_type": "code",
   "execution_count": 0,
   "metadata": {
    "application/vnd.databricks.v1+cell": {
     "cellMetadata": {
      "byteLimit": 2048000,
      "rowLimit": 10000
     },
     "inputWidgets": {},
     "nuid": "eb234fae-7d0d-482e-8a62-561d5cc2afe4",
     "showTitle": false,
     "title": ""
    }
   },
   "outputs": [],
   "source": [
    "fig, ax = plt.subplots(figsize=(28, 18))\n",
    "\n",
    "for station in quantiles_vpd_by_station_pdf.columns:\n",
    "  plt.plot(\n",
    "  quantiles_vpd_by_station_pdf[station],\n",
    "  quantiles_vpd_by_station_pdf.index,\n",
    "  label=station,\n",
    "  marker=\"*\",\n",
    ")\n",
    "\n",
    "plt.title(\"CDF diagram for vapour pressure deficit by station\")\n",
    "plt.ylabel(\"Quantiles\")\n",
    "plt.xlabel(\"Vapour pressure deficit (kPa)\")\n",
    "plt.legend(title=\"Station\")\n",
    "plt.grid(True)\n",
    "plt.show()\n",
    "\n",
    "fig.savefig(local_tmp_artifact_dir_path + f\"cdf_vpd_by_station.png\")"
   ]
  },
  {
   "cell_type": "markdown",
   "metadata": {
    "application/vnd.databricks.v1+cell": {
     "cellMetadata": {
      "byteLimit": 2048000,
      "rowLimit": 10000
     },
     "inputWidgets": {},
     "nuid": "d3a6037d-0b9e-4932-bd03-7ca2d024d2f0",
     "showTitle": false,
     "title": ""
    }
   },
   "source": [
    "## Compute cumulative vapour pressure deficit"
   ]
  },
  {
   "cell_type": "markdown",
   "metadata": {
    "application/vnd.databricks.v1+cell": {
     "cellMetadata": {
      "byteLimit": 2048000,
      "rowLimit": 10000
     },
     "inputWidgets": {},
     "nuid": "a557e8d6-7003-4d90-a853-bde42c6abbdc",
     "showTitle": false,
     "title": ""
    }
   },
   "source": [
    "### Filter high daily vapour pressure deficit in weather data"
   ]
  },
  {
   "cell_type": "code",
   "execution_count": 0,
   "metadata": {
    "application/vnd.databricks.v1+cell": {
     "cellMetadata": {
      "byteLimit": 2048000,
      "rowLimit": 10000
     },
     "inputWidgets": {},
     "nuid": "0c34fb5e-47bf-417f-9cfa-480974c80309",
     "showTitle": false,
     "title": ""
    }
   },
   "outputs": [],
   "source": [
    "high_vapour_pressure_deficit_sdf = vapour_pressure_deficit_sdf.filter(\n",
    "  vapour_pressure_deficit_sdf.vpd >= params[\"selected_high_vapour_pressure_deficit_value\"]\n",
    ")\n",
    "\n",
    "high_vapour_pressure_deficit_count_sdf = high_vapour_pressure_deficit_sdf.count()\n",
    "mlflow.log_metric(\"high_vapour_pressure_deficit_count\", high_vapour_pressure_deficit_count_sdf)\n",
    "\n",
    "high_vapour_pressure_deficit_sdf.printSchema()\n",
    "high_vapour_pressure_deficit_sdf.show()\n",
    "high_vapour_pressure_deficit_count_sdf"
   ]
  },
  {
   "cell_type": "markdown",
   "metadata": {
    "application/vnd.databricks.v1+cell": {
     "cellMetadata": {
      "byteLimit": 2048000,
      "rowLimit": 10000
     },
     "inputWidgets": {},
     "nuid": "b0e32b44-503a-49b9-8043-af941b8bbd91",
     "showTitle": false,
     "title": ""
    }
   },
   "source": [
    "### Compute cumulative high daily vapour pressure deficit"
   ]
  },
  {
   "cell_type": "markdown",
   "metadata": {
    "application/vnd.databricks.v1+cell": {
     "cellMetadata": {
      "byteLimit": 2048000,
      "rowLimit": 10000
     },
     "inputWidgets": {},
     "nuid": "60ef353f-3cfb-413b-b7a5-648e96637c1c",
     "showTitle": false,
     "title": ""
    }
   },
   "source": [
    "#### Load cumulative vapour pressure deficit schema"
   ]
  },
  {
   "cell_type": "code",
   "execution_count": 0,
   "metadata": {
    "application/vnd.databricks.v1+cell": {
     "cellMetadata": {
      "byteLimit": 2048000,
      "rowLimit": 10000
     },
     "inputWidgets": {},
     "nuid": "743f7a87-d1ce-4217-83f4-1624aadfa5d2",
     "showTitle": false,
     "title": ""
    }
   },
   "outputs": [],
   "source": [
    "from cumulative_vapour_pressure_deficit_stress_schema import cumulative_vapour_pressure_deficit_stress_schema\n",
    "\n",
    "cumulative_vapour_pressure_deficit_stress_schema"
   ]
  },
  {
   "cell_type": "code",
   "execution_count": 0,
   "metadata": {
    "application/vnd.databricks.v1+cell": {
     "cellMetadata": {
      "byteLimit": 2048000,
      "rowLimit": 10000
     },
     "inputWidgets": {},
     "nuid": "1498f887-f47d-46b1-9f02-9178e43585a6",
     "showTitle": false,
     "title": ""
    }
   },
   "outputs": [],
   "source": [
    "from compute_cumulative_vapour_pressure_deficit_stress import compute_cumulative_vapour_pressure_deficit_stress\n",
    "\n",
    "cumulative_vapour_pressure_deficit_stress_sdf = compute_cumulative_vapour_pressure_deficit_stress(high_vapour_pressure_deficit_sdf)\n",
    "\n",
    "cumulative_vapour_pressure_deficit_stress_sdf.printSchema()\n",
    "cumulative_vapour_pressure_deficit_stress_sdf.show()\n",
    "cumulative_vapour_pressure_deficit_stress_sdf.count()"
   ]
  },
  {
   "cell_type": "code",
   "execution_count": 0,
   "metadata": {
    "application/vnd.databricks.v1+cell": {
     "cellMetadata": {
      "byteLimit": 2048000,
      "rowLimit": 10000
     },
     "inputWidgets": {},
     "nuid": "84279eff-f215-40fd-9068-1d94d7a680ed",
     "showTitle": false,
     "title": ""
    }
   },
   "outputs": [],
   "source": [
    "assert cumulative_vapour_pressure_deficit_stress_schema == cumulative_vapour_pressure_deficit_stress_sdf.schema"
   ]
  },
  {
   "cell_type": "markdown",
   "metadata": {
    "application/vnd.databricks.v1+cell": {
     "cellMetadata": {
      "byteLimit": 2048000,
      "rowLimit": 10000
     },
     "inputWidgets": {},
     "nuid": "d47ffee3-e594-439b-bf1d-2e6be1ee4a9b",
     "showTitle": false,
     "title": ""
    }
   },
   "source": [
    "### Cumulative vapour pressure deficit by station"
   ]
  },
  {
   "cell_type": "code",
   "execution_count": 0,
   "metadata": {
    "application/vnd.databricks.v1+cell": {
     "cellMetadata": {
      "byteLimit": 2048000,
      "rowLimit": 10000
     },
     "inputWidgets": {},
     "nuid": "e9e139bc-35bf-4d87-bc16-100220d886c8",
     "showTitle": false,
     "title": ""
    }
   },
   "outputs": [],
   "source": [
    "cumulative_vapour_pressure_deficit_stress_by_station_sdf = cumulative_vapour_pressure_deficit_stress_sdf.groupBy(\"station\").count().withColumnRenamed(\"count\", \"cumulative_vapour_pressure_deficit_stress\").orderBy(\"cumulative_vapour_pressure_deficit_stress\", ascending=False)\n",
    "\n",
    "cumulative_vapour_pressure_deficit_stress_by_station_sdf.printSchema()\n",
    "cumulative_vapour_pressure_deficit_stress_by_station_sdf.show()\n",
    "cumulative_vapour_pressure_deficit_stress_by_station_sdf.count()"
   ]
  },
  {
   "cell_type": "code",
   "execution_count": 0,
   "metadata": {
    "application/vnd.databricks.v1+cell": {
     "cellMetadata": {
      "byteLimit": 2048000,
      "rowLimit": 10000
     },
     "inputWidgets": {},
     "nuid": "7bec4b19-b05b-49f9-bfc0-eca41eef2372",
     "showTitle": false,
     "title": ""
    }
   },
   "outputs": [],
   "source": [
    "cumulative_vapour_pressure_deficit_stress_by_station_pdf = cumulative_vapour_pressure_deficit_stress_by_station_sdf.toPandas()\n",
    "cumulative_vapour_pressure_deficit_stress_by_station_pdf.to_csv(local_tmp_artifact_dir_path + 'cumulative_vapour_pressure_deficit_stress_by_station.csv', index=False)"
   ]
  },
  {
   "cell_type": "markdown",
   "metadata": {
    "application/vnd.databricks.v1+cell": {
     "cellMetadata": {
      "byteLimit": 2048000,
      "rowLimit": 10000
     },
     "inputWidgets": {},
     "nuid": "f956d782-59b8-4135-9a05-171e41e10117",
     "showTitle": false,
     "title": ""
    }
   },
   "source": [
    "### Time chart of cumulative vapour pressure deficit stress by station"
   ]
  },
  {
   "cell_type": "code",
   "execution_count": 0,
   "metadata": {
    "application/vnd.databricks.v1+cell": {
     "cellMetadata": {
      "byteLimit": 2048000,
      "rowLimit": 10000
     },
     "inputWidgets": {},
     "nuid": "0bdce7a3-3a7d-4f10-9baa-511cb8d1f031",
     "showTitle": false,
     "title": ""
    }
   },
   "outputs": [],
   "source": [
    "cumulative_vapour_pressure_deficit_stress_pdf = cumulative_vapour_pressure_deficit_stress_sdf.toPandas()\n",
    "\n",
    "fig, ax = plt.subplots(figsize=(28, 16))\n",
    "\n",
    "for station, data in cumulative_vapour_pressure_deficit_stress_pdf.groupby('station'):\n",
    "    ax.plot(data['date'], data['cumulative_vapour_pressure_deficit_stress'], label=station)\n",
    "\n",
    "ax.set_title(\"Cumulative daily vapour pressure deficit stress by station\")\n",
    "ax.set_xlabel(\"Date\")\n",
    "ax.set_ylabel(\"Cumulative vapour pressure deficit stress\")\n",
    "ax.grid(True)\n",
    "ax.legend()\n",
    "\n",
    "fig.savefig(local_tmp_artifact_dir_path + f\"time_chart_cumulative_vapour_pressure_deficit_stress.png\")\n",
    "plt.show()"
   ]
  },
  {
   "cell_type": "markdown",
   "metadata": {
    "application/vnd.databricks.v1+cell": {
     "cellMetadata": {
      "byteLimit": 2048000,
      "rowLimit": 10000
     },
     "inputWidgets": {},
     "nuid": "08f6b6d0-2ea7-4fcb-b020-5910dff2db9d",
     "showTitle": false,
     "title": ""
    }
   },
   "source": [
    "## Cross-reference cane-level fruit drop ratio to cumulative vapour pressure deficit stress"
   ]
  },
  {
   "cell_type": "markdown",
   "metadata": {
    "application/vnd.databricks.v1+cell": {
     "cellMetadata": {
      "byteLimit": 2048000,
      "rowLimit": 10000
     },
     "inputWidgets": {},
     "nuid": "7a7f5b3e-3328-41d7-af57-0a3c5f1de24a",
     "showTitle": false,
     "title": ""
    }
   },
   "source": [
    "### Load joint cane-level fruit drop cumulative vapour pressure deficit schema"
   ]
  },
  {
   "cell_type": "code",
   "execution_count": 0,
   "metadata": {
    "application/vnd.databricks.v1+cell": {
     "cellMetadata": {
      "byteLimit": 2048000,
      "rowLimit": 10000
     },
     "inputWidgets": {},
     "nuid": "eac5ce3d-b805-4788-99bf-59036fe57aea",
     "showTitle": false,
     "title": ""
    }
   },
   "outputs": [],
   "source": [
    "from joint_fruit_drop_cumulative_vpd_schema import joint_fruit_drop_cumulative_vpd_schema\n",
    "\n",
    "joint_fruit_drop_cumulative_vpd_schema"
   ]
  },
  {
   "cell_type": "code",
   "execution_count": 0,
   "metadata": {
    "application/vnd.databricks.v1+cell": {
     "cellMetadata": {
      "byteLimit": 2048000,
      "rowLimit": 10000
     },
     "inputWidgets": {},
     "nuid": "fde42dee-edc2-4eed-b7ff-85d8db522647",
     "showTitle": false,
     "title": ""
    }
   },
   "outputs": [],
   "source": [
    "from cross_reference_cane_level_fruit_drop_and_vpd_stress import cross_reference_cane_level_fruit_drop_and_vpd_stress\n",
    "\n",
    "joint_fruit_drop_cumulative_vpd_stress_sdf = cross_reference_cane_level_fruit_drop_and_vpd_stress(joint_cane_level_fruit_drop_sdf, cumulative_vapour_pressure_deficit_stress_sdf)\n",
    "\n",
    "joint_fruit_drop_cumulative_vpd_stress_count_sdf = joint_fruit_drop_cumulative_vpd_stress_sdf.count()\n",
    "mlflow.log_metric(\"joint_fruit_drop_cumulative_vpd_stress_count\", joint_fruit_drop_cumulative_vpd_stress_count_sdf)\n",
    "\n",
    "joint_fruit_drop_cumulative_vpd_stress_sdf.printSchema()\n",
    "joint_fruit_drop_cumulative_vpd_stress_sdf.show()\n",
    "joint_fruit_drop_cumulative_vpd_stress_count_sdf"
   ]
  },
  {
   "cell_type": "markdown",
   "metadata": {
    "application/vnd.databricks.v1+cell": {
     "cellMetadata": {
      "byteLimit": 2048000,
      "rowLimit": 10000
     },
     "inputWidgets": {},
     "nuid": "4eb048db-2158-4833-a050-c635f7572b67",
     "showTitle": false,
     "title": ""
    }
   },
   "source": [
    "### Result: Heatmap (hexbin) of cumulative fruit drop ratio and cumulative vapour pressure deficit stress"
   ]
  },
  {
   "cell_type": "code",
   "execution_count": 0,
   "metadata": {
    "application/vnd.databricks.v1+cell": {
     "cellMetadata": {
      "byteLimit": 2048000,
      "rowLimit": 10000
     },
     "inputWidgets": {},
     "nuid": "b39d470b-4629-43ce-aca3-09c58282285e",
     "showTitle": false,
     "title": ""
    }
   },
   "outputs": [],
   "source": [
    "joint_fruit_drop_cumulative_vpd_stress_pdf = joint_fruit_drop_cumulative_vpd_stress_sdf.toPandas()\n",
    "\n",
    "fig, ax = plt.subplots(figsize=(22, 14))\n",
    "\n",
    "joint_fruit_drop_cumulative_vpd_stress_pdf.plot.hexbin(\n",
    "  \"cumulative_vapour_pressure_deficit_stress\",\n",
    "  \"cumulative_fruit_drop_ratio\",\n",
    "  gridsize=40,\n",
    "  ax=ax,\n",
    "  edgecolors=\"grey\",\n",
    "  cmap=\"inferno\",\n",
    "  mincnt=1\n",
    ")\n",
    "\n",
    "ax.grid(True)\n",
    "plt.title(\"Distribution of cumulative fruit drop and cumulative vapour pressure deficit stress\")\n",
    "\n",
    "fig.savefig(local_tmp_artifact_dir_path + f\"distribution_cumulative_fruit_drop_and_vpd_stress.png\")"
   ]
  },
  {
   "cell_type": "markdown",
   "metadata": {
    "application/vnd.databricks.v1+cell": {
     "cellMetadata": {
      "byteLimit": 2048000,
      "rowLimit": 10000
     },
     "inputWidgets": {},
     "nuid": "00e8f64d-37dd-4568-b99f-d971f72384da",
     "showTitle": false,
     "title": ""
    }
   },
   "source": [
    "### Result: Scatter chart of cumulative fruit drop ratio and cumulative vapour pressure deficit stress"
   ]
  },
  {
   "cell_type": "code",
   "execution_count": 0,
   "metadata": {
    "application/vnd.databricks.v1+cell": {
     "cellMetadata": {
      "byteLimit": 2048000,
      "rowLimit": 10000
     },
     "inputWidgets": {},
     "nuid": "e4ff879f-6b75-4bb6-a386-03f2ae4681b5",
     "showTitle": false,
     "title": ""
    }
   },
   "outputs": [],
   "source": [
    "fig, ax = plt.subplots(figsize=(16, 14))\n",
    "\n",
    "sns.regplot(data=joint_fruit_drop_cumulative_vpd_stress_pdf, x=\"cumulative_vapour_pressure_deficit_stress\", y=\"cumulative_fruit_drop_ratio\", order=1, ax=ax, color=\"orange\", label=\"linear\")\n",
    "sns.regplot(data=joint_fruit_drop_cumulative_vpd_stress_pdf, x=\"cumulative_vapour_pressure_deficit_stress\", y=\"cumulative_fruit_drop_ratio\", order=2, ax=ax, color=\"green\", label=\"quadratic\")\n",
    "sns.scatterplot(data=joint_fruit_drop_cumulative_vpd_stress_pdf, x=\"cumulative_vapour_pressure_deficit_stress\", y=\"cumulative_fruit_drop_ratio\", ax=ax, color=\"royalblue\")\n",
    "\n",
    "ax.set_title(\"Scatter plot of cumulative fruit drop ratio vs. cumulative vapour pressure deficit stress\")\n",
    "ax.grid(True)\n",
    "ax.legend()\n",
    "\n",
    "fig.savefig(local_tmp_artifact_dir_path + f\"scatterplot_fruit_drop_cumulative_vpd_stress.png\")\n",
    "plt.show()"
   ]
  },
  {
   "cell_type": "markdown",
   "metadata": {
    "application/vnd.databricks.v1+cell": {
     "cellMetadata": {
      "byteLimit": 2048000,
      "rowLimit": 10000
     },
     "inputWidgets": {},
     "nuid": "452a0fb8-112b-44d5-92c5-6519c025654c",
     "showTitle": false,
     "title": ""
    }
   },
   "source": [
    "### Compute regression metrics for cumulative fruit drop ratio and cumulative vapour pressure deficit stress"
   ]
  },
  {
   "cell_type": "code",
   "execution_count": 0,
   "metadata": {
    "application/vnd.databricks.v1+cell": {
     "cellMetadata": {
      "byteLimit": 2048000,
      "rowLimit": 10000
     },
     "inputWidgets": {},
     "nuid": "3b78656f-02c1-4086-acc8-452cc3b79591",
     "showTitle": false,
     "title": ""
    }
   },
   "outputs": [],
   "source": [
    "if not (joint_fruit_drop_cumulative_vpd_stress_pdf[[\"cumulative_fruit_drop_ratio\", \"cumulative_vapour_pressure_deficit_stress\"]].isnull().all().any()):\n",
    "\n",
    "  joint_fruit_drop_cumulative_vpd_stress_pdf.dropna(subset=[\"cumulative_fruit_drop_ratio\", \"cumulative_vapour_pressure_deficit_stress\"], inplace=True)\n",
    "\n",
    "  predictors = joint_fruit_drop_cumulative_vpd_stress_pdf[[\"cumulative_vapour_pressure_deficit_stress\"]]\n",
    "  outcome = joint_fruit_drop_cumulative_vpd_stress_pdf[\"cumulative_fruit_drop_ratio\"]\n",
    "\n",
    "  # Linear Regression\n",
    "  regression_model = LinearRegression()\n",
    "  regression_model.fit(predictors, outcome)\n",
    "\n",
    "  y_predicted = regression_model.predict(predictors)\n",
    "  mse_linear = mean_squared_error(outcome, y_predicted)\n",
    "  mae_linear = mean_absolute_error(outcome, y_predicted)\n",
    "\n",
    "  mlflow.log_metric(\"MSE_cumulative_vpd_stress_fruit_drop_ratio\", mse_linear)\n",
    "  mlflow.log_metric(\"MAE_cumulative_vpd_stress_fruit_drop_ratio\", mae_linear)\n",
    "  mlflow.log_metric(\"Slope_cumulative_vpd_stress_fruit_drop_ratio\", regression_model.coef_)\n",
    "\n",
    "  print(\"Slope:\", regression_model.coef_) \n",
    "  print(\"Mean squared error (Linear):\", mse_linear)\n",
    "  print(\"Mean absolute error (Linear):\", mae_linear)\n",
    "\n",
    "  # Quadratic Regression\n",
    "  regression_pipeline = Pipeline([(\"poly\", PolynomialFeatures(degree=2)), (\"linear\", LinearRegression(fit_intercept=False))])\n",
    "  regression_pipeline.fit(predictors, outcome)\n",
    "\n",
    "  y_predicted_quad = regression_pipeline.predict(predictors)\n",
    "  mse_quad = mean_squared_error(outcome, y_predicted_quad)\n",
    "  mae_quad = mean_absolute_error(outcome, y_predicted_quad)\n",
    "\n",
    "  mlflow.log_metric(\"MSE_quadratic_cumulative_vpd_stress_fruit_drop_ratio\", mse_quad)\n",
    "  mlflow.log_metric(\"MAE_quadratic_cumulative_vpd_stress_fruit_drop_ratio\", mae_quad)\n",
    "\n",
    "  print(\"Mean squared error (Quadratic):\", mse_quad)\n",
    "  print(\"Mean absolute error (Quadratic):\", mae_quad)\n",
    "\n",
    "else:\n",
    "  print(\"No records to perform linear regression.\")"
   ]
  },
  {
   "cell_type": "markdown",
   "metadata": {
    "application/vnd.databricks.v1+cell": {
     "cellMetadata": {
      "byteLimit": 2048000,
      "rowLimit": 10000
     },
     "inputWidgets": {},
     "nuid": "3fea0a22-2914-4b3b-8d04-a0cd2686be8b",
     "showTitle": false,
     "title": ""
    }
   },
   "source": [
    "## Wrap up"
   ]
  },
  {
   "cell_type": "code",
   "execution_count": 0,
   "metadata": {
    "application/vnd.databricks.v1+cell": {
     "cellMetadata": {
      "byteLimit": 2048000,
      "rowLimit": 10000
     },
     "inputWidgets": {},
     "nuid": "076a9d0c-f81c-4a18-8fbe-b6a91f866490",
     "showTitle": false,
     "title": ""
    }
   },
   "outputs": [],
   "source": [
    "mlflow.log_artifacts(local_tmp_artifact_dir_path) "
   ]
  },
  {
   "cell_type": "code",
   "execution_count": 0,
   "metadata": {
    "application/vnd.databricks.v1+cell": {
     "cellMetadata": {
      "byteLimit": 2048000,
      "rowLimit": 10000
     },
     "inputWidgets": {},
     "nuid": "8f61f007-bfad-451a-b4be-3eb5cba4283f",
     "showTitle": false,
     "title": ""
    }
   },
   "outputs": [],
   "source": [
    "# Remove tmp directory file\n",
    "tmp_dir = os.path.dirname(os.path.dirname(local_tmp_artifact_dir_path))\n",
    "dbutils.fs.rm(\"file:\" + tmp_dir, recurse=True)"
   ]
  },
  {
   "cell_type": "code",
   "execution_count": 0,
   "metadata": {
    "application/vnd.databricks.v1+cell": {
     "cellMetadata": {
      "byteLimit": 2048000,
      "rowLimit": 10000
     },
     "inputWidgets": {},
     "nuid": "34919ebf-c8b2-47b0-8933-d48b55f59e09",
     "showTitle": false,
     "title": ""
    }
   },
   "outputs": [],
   "source": [
    "# End MLflow run\n",
    "mlflow.end_run()"
   ]
  }
 ],
 "metadata": {
  "application/vnd.databricks.v1+notebook": {
   "dashboards": [],
   "language": "python",
   "notebookMetadata": {
    "pythonIndentUnit": 2
   },
   "notebookName": "analyze_weather_and_fruit_drop_data_set",
   "widgets": {}
  },
  "language_info": {
   "name": "python"
  }
 },
 "nbformat": 4,
 "nbformat_minor": 0
}
